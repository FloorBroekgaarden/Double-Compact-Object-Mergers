{
 "cells": [
  {
   "cell_type": "markdown",
   "id": "d281d74a",
   "metadata": {},
   "source": [
    "## Demo 1: assigning formation channels using `formation_channels()` "
   ]
  },
  {
   "cell_type": "code",
   "execution_count": 1,
   "id": "b1c97e3e",
   "metadata": {},
   "outputs": [
    {
     "data": {
      "text/html": [
       "<style>.container { width:100% !important; }</style>"
      ],
      "text/plain": [
       "<IPython.core.display.HTML object>"
      ]
     },
     "metadata": {},
     "output_type": "display_data"
    }
   ],
   "source": [
    "#Needed in general\n",
    "import sys\n",
    "\n",
    "#Quick fudge to make import from ../Scripts work\n",
    "sys.path.append('.')\n",
    "\n",
    "# just to make the screen wider, feel free to comment \n",
    "from IPython.display import display, HTML\n",
    "display(HTML(\"<style>.container { width:100% !important; }</style>\"))\n",
    "\n",
    "from formation_channels import *  # downloads the functions to calculate formation channels \n",
    "\n",
    "from PostProcessingScripts import * # for some other general functions that I use often, such as plotting functions and names of models\n",
    "import numpy as np\n"
   ]
  },
  {
   "cell_type": "code",
   "execution_count": 2,
   "id": "3c557021",
   "metadata": {},
   "outputs": [
    {
     "name": "stdout",
     "output_type": "stream",
     "text": [
      "<KeysViewHDF5 ['RLOF', 'commonEnvelopes', 'doubleCompactObjects', 'formationChannels', 'supernovae', 'systems']>\n",
      "<KeysViewHDF5 ['ID', 'Metallicity1', 'Metallicity2', 'SEED', 'disbound', 'eccentricity', 'mass1', 'mass2', 'meanAnomaly1', 'meanAnomaly2', 'omega1', 'omega2', 'phi1', 'phi2', 'rk1', 'rk2', 'samplingPhase', 'separation', 'stellar_merger', 'theta1', 'theta2', 'weight']>\n",
      "<KeysViewHDF5 ['ID', 'eventCounter', 'eventCounterPrev', 'flagCEE', 'flagRLOF1', 'flagRLOF1Prev', 'flagRLOF2', 'flagRLOF2Prev', 'mass1', 'mass1Prev', 'mass2', 'mass2Prev', 'radius1', 'radius1Prev', 'radius2', 'radius2Prev', 'randomSeed', 'separation', 'separationPrev', 'time', 'timePrev', 'type1', 'type1Prev', 'type2', 'type2Prev', 'zetaHurley1', 'zetaHurley2', 'zetaHurleyHelium1', 'zetaHurleyHelium2', 'zetaNuclear1', 'zetaNuclear2', 'zetaRLOFanalytical', 'zetaRLOFnumerical', 'zetaSimple1', 'zetaSimple2', 'zetaSoberman1', 'zetaSoberman2', 'zetaSobermanHelium1', 'zetaSobermanHelium2', 'zetaThermal1', 'zetaThermal2']>\n"
     ]
    }
   ],
   "source": [
    "## change the following lines ## \n",
    "BPSmodelName = 'A' # name of the model we want to try\n",
    "pathData = '/Volumes/SimonsFoundation/DataDCO/' # this is the path to my datafiles\n",
    "#######\n",
    "\n",
    "path_ = pathData + alphabetDirDict[BPSmodelName] +'/'\n",
    "path  = path_ + 'COMPASOutput.h5'\n",
    "fdata = h5.File(path, 'r')\n",
    "\n",
    "print(fdata.keys())\n",
    "print(fdata['systems'].keys())\n",
    "print(fdata['RLOF'].keys())\n",
    "\n",
    "\n",
    "\n",
    "\n"
   ]
  },
  {
   "cell_type": "code",
   "execution_count": 17,
   "id": "9fa56455",
   "metadata": {},
   "outputs": [
    {
     "name": "stdout",
     "output_type": "stream",
     "text": [
      "<KeysViewHDF5 ['MassCOCoreSN', 'MassCoreSN', 'MassStarCompanion', 'MassStarSN', 'Survived', 'drawnKickVelocity', 'eccentricityAfter', 'eccentricityBefore', 'experiencedRLOF', 'fallback', 'flagECSN', 'flagHpoorSN', 'flagHrichSN', 'flagPISN', 'flagPPISN', 'flagRLOFontoaNS', 'flagSN', 'flagUSSN', 'kickVelocity', 'phi', 'previousStellarTypeCompanion', 'previousStellarTypeSN', 'psi', 'randomSeed', 'runawayFlag', 'separationAfter', 'separationBefore', 'systemicVelocity', 'theta', 'time', 'uK', 'vRel', 'whichStar']>\n"
     ]
    }
   ],
   "source": [
    "print(fdata['supernovae'].keys())"
   ]
  },
  {
   "cell_type": "code",
   "execution_count": 18,
   "id": "a5c36bdb",
   "metadata": {},
   "outputs": [
    {
     "name": "stdout",
     "output_type": "stream",
     "text": [
      "15620534\n",
      "15620534\n"
     ]
    }
   ],
   "source": [
    "seeds_dco = fdata['doubleCompactObjects']['seed'][...].squeeze()\n",
    "\n",
    "\n",
    "disbound_sys = fdata['systems']['disbound'][...].squeeze()\n",
    "N_disbound_sys = len(disbound_sys[disbound_sys==1])\n",
    "print(N_disbound_sys)\n",
    "\n",
    "\n",
    "survived_sn = fdata['supernovae']['Survived'][...].squeeze()\n",
    "N_disbound_sn = len(survived_sn[survived_sn==0])\n",
    "print(N_disbound_sn)\n",
    "\n"
   ]
  },
  {
   "cell_type": "code",
   "execution_count": 4,
   "id": "17493214",
   "metadata": {},
   "outputs": [],
   "source": [
    "# obtain formation channels \n",
    "sys_seeds = fdata['systems']['SEED'][...].squeeze()\n",
    "sys_weights = fdata['systems']['weight'][...].squeeze()\n",
    "sys_stellar_merger = fdata['systems']['stellar_merger'][...].squeeze()\n",
    "# sys_weight = fdata['systems']['weight'][...].squeeze()\n",
    "# channels = identify_formation_channels(seeds=seeds, file=fdata)\n",
    "\n",
    "\n",
    "\n",
    "\n",
    "\n",
    "\n",
    "\n",
    "\n",
    "\n",
    "\n",
    "\n"
   ]
  },
  {
   "cell_type": "code",
   "execution_count": 21,
   "id": "147471fb",
   "metadata": {},
   "outputs": [],
   "source": [
    "seeds_RLOF = fdata['RLOF']['randomSeed'][...].squeeze()\n",
    "seeds_sys = fdata['systems']['SEED'][...].squeeze()\n",
    "seeds_dco = fdata['doubleCompactObjects']['seed'][...].squeeze()\n",
    "seeds_SN = fdata['supernovae']['randomSeed'][...].squeeze()"
   ]
  },
  {
   "cell_type": "code",
   "execution_count": 22,
   "id": "20407107",
   "metadata": {},
   "outputs": [
    {
     "name": "stdout",
     "output_type": "stream",
     "text": [
      "0.3257435213665654\n"
     ]
    }
   ],
   "source": [
    "mask_inSN = np.in1d(sys_seeds, seeds_SN)\n",
    "\n",
    "seeds_notSN =  sys_seeds[~mask_inSN]\n",
    "print(len(seeds_notSN)/len(seeds_sys))\n",
    "\n",
    "seeds_notMerger = seeds_sys[sys_stellar_merger==0]\n",
    "\n",
    "\n"
   ]
  },
  {
   "cell_type": "code",
   "execution_count": 24,
   "id": "a1c9301a",
   "metadata": {},
   "outputs": [],
   "source": [
    "sys_separation = fdata['systems']['separation'][...].squeeze()\n",
    "sys_ZAMSM1 = fdata['systems']['mass1'][...].squeeze()\n",
    "sys_ZAMSM2 = fdata['systems']['mass2'][...].squeeze()"
   ]
  },
  {
   "cell_type": "code",
   "execution_count": 38,
   "id": "4f3047f4",
   "metadata": {},
   "outputs": [
    {
     "name": "stdout",
     "output_type": "stream",
     "text": [
      "0.7889175598179624\n",
      "0.14719948821382176\n",
      "[   5000000    5000001    5000003 ... 5285013378 5285013388 5285013399]\n",
      "RLOF mask empty?? 9336228\n"
     ]
    }
   ],
   "source": [
    "seeds_notMerger = seeds_sys[sys_stellar_merger==0]\n",
    "seeds_Merger = seeds_sys[sys_stellar_merger==1]\n",
    "print(len(seeds_notMerger)/len(seeds_sys))\n",
    "\n",
    "mask_seeds_notMerger_inSN = np.in1d(seeds_notMerger, seeds_SN)\n",
    "seeds_notMerger_notSN = seeds_notMerger[~mask_seeds_notMerger_inSN]\n",
    "\n",
    "print(len(seeds_notMerger_notSN)/len(seeds_sys))\n",
    "print(seeds_notMerger_notSN)\n",
    "\n",
    "\n",
    "mask_seeds_left = np.in1d(seeds_sys, seeds_notMerger_notSN)\n",
    "\n",
    "\n",
    "\n",
    "mask_RLOF_left = np.in1d(seeds_RLOF,  seeds_notMerger_notSN)\n",
    "\n",
    "print('RLOF mask empty??', np.sum(mask_RLOF_left))\n",
    "\n",
    "\n",
    "\n",
    "\n",
    "\n",
    "seeds_left = seeds_sys[mask_seeds_left]\n",
    "ZAMSM1_left = sys_ZAMSM1[mask_seeds_left]\n",
    "ZAMSM2_left = sys_ZAMSM2[mask_seeds_left]\n",
    "separation_left = sys_separation[mask_seeds_left]\n",
    "\n",
    "\n",
    "\n",
    "\n",
    "mask_merger = np.in1d(seeds_sys, seeds_Merger)\n",
    "\n",
    "\n"
   ]
  },
  {
   "cell_type": "code",
   "execution_count": 39,
   "id": "fe7f24ab",
   "metadata": {},
   "outputs": [],
   "source": [
    "type1 = fdata['RLOF']['type1'][...].squeeze()[mask_RLOF_left]\n",
    "type1Prev = fdata['RLOF']['type1Prev'][...].squeeze()[mask_RLOF_left]\n",
    "type2 = fdata['RLOF']['type2'][...].squeeze()[mask_RLOF_left]\n",
    "type2Prev = fdata['RLOF']['type2Prev'][...].squeeze()[mask_RLOF_left]\n",
    "mass1 = fdata['RLOF']['mass1'][...].squeeze()[mask_RLOF_left]\n",
    "mass1Prev =  fdata['RLOF']['mass1Prev'][...].squeeze()[mask_RLOF_left]\n",
    "mass2 =  fdata['RLOF']['mass2'][...].squeeze()[mask_RLOF_left] \n",
    "mass2Prev =  fdata['RLOF']['mass2Prev'][...].squeeze()[mask_RLOF_left]\n",
    "\n",
    "\n"
   ]
  },
  {
   "cell_type": "code",
   "execution_count": 41,
   "id": "ec296fb3",
   "metadata": {},
   "outputs": [
    {
     "name": "stdout",
     "output_type": "stream",
     "text": [
      "type1: [ 7 11]\n",
      "type2: [1 1]\n",
      "mass1: [0.876295 0.760794]\n",
      "mass1Prev: [0.876295 0.760794]\n"
     ]
    }
   ],
   "source": [
    "Nx = 2\n",
    "\n",
    "print('type1:', type1[:Nx])\n",
    "print('type2:', type2[:Nx])\n",
    "\n",
    "print('mass1:', mass1[:Nx])\n",
    "print('mass1Prev:', mass1[:Nx])\n",
    "\n",
    "\n",
    "\n"
   ]
  },
  {
   "cell_type": "code",
   "execution_count": 40,
   "id": "7567254d",
   "metadata": {},
   "outputs": [
    {
     "data": {
      "image/png": "[encoded data removed]",
      "text/plain": [
       "<Figure size 1000x1000 with 1 Axes>"
      ]
     },
     "metadata": {},
     "output_type": "display_data"
    }
   ],
   "source": [
    "qZAMS_left = ZAMSM2_left/ZAMSM1_left\n",
    "N = 10000\n",
    "\n",
    "fig, axe = plt.subplots(1,1, figsize=(10,10))#,\\\n",
    "# iterate over the channel names \n",
    "axe.scatter(ZAMSM2_left[:N], np.log10(separation_left)[:N], c='lightgray', label='left over')\n",
    "# axe.scatter(sys_ZAMSM1[mask_merger][:N], np.log10(sys_separation)[:N], c='r', label='stellar merger', s=2)\n",
    "        \n",
    "        \n",
    "##### make plot look nice: ####\n",
    "axe = layoutAxes(axe, nameX='ZAMS Mass 1', nameY='ZAMS separation a [AU]', setMinor=False, labelpad=0, fontsize=26, labelSizeMajor=26)  \n",
    "axe.set_xlim(0, 20)\n",
    "axe.set_ylim(-2, 5)\n",
    "axe.grid(True)\n",
    "plt.legend()\n",
    "plt.show()"
   ]
  },
  {
   "cell_type": "code",
   "execution_count": null,
   "id": "ce7eb685",
   "metadata": {},
   "outputs": [],
   "source": []
  },
  {
   "cell_type": "code",
   "execution_count": 20,
   "id": "9884610a",
   "metadata": {},
   "outputs": [
    {
     "name": "stdout",
     "output_type": "stream",
     "text": [
      "Total Number of systems evolved =  53000259\n",
      "Total Number of DCOs =  17098068\n",
      "Total Number of stellar merger =  11187424\n",
      "Total Number of stellar merger =  11187424\n",
      "Total Number of SN disbound =  15620534\n",
      "systems left to explain:  9094233\n",
      "which is a percentage of  0.17158846336958467\n"
     ]
    }
   ],
   "source": [
    "N_systems = len(sys_seeds) \n",
    "print('Total Number of systems evolved = ', N_systems)\n",
    "\n",
    "N_DCO = len(seeds_dco)\n",
    "print('Total Number of DCOs = ', N_DCO)\n",
    "\n",
    "N_merger = len(sys_stellar_merger[sys_stellar_merger==1])\n",
    "print('Total Number of stellar merger = ', N_merger)\n",
    "\n",
    "N_disrupted = len(sys_stellar_merger[sys_stellar_merger==1])\n",
    "print('Total Number of stellar merger = ', N_merger)\n",
    "\n",
    "N_disbound_sn = len(survived_sn[survived_sn==0])\n",
    "print('Total Number of SN disbound = ', N_disbound_sn)\n",
    "\n",
    "\n",
    "left = N_systems\n",
    "for subs in [N_DCO, N_merger, N_disbound_sn]:\n",
    "    left -= subs \n",
    "    \n",
    "print('systems left to explain: ', left)\n",
    "print('which is a percentage of ', left/N_systems )\n",
    "\n"
   ]
  },
  {
   "cell_type": "code",
   "execution_count": null,
   "id": "27823628",
   "metadata": {},
   "outputs": [],
   "source": [
    "# Find the properties of these left over systems; \n",
    "\n"
   ]
  },
  {
   "cell_type": "code",
   "execution_count": null,
   "id": "abed1f64",
   "metadata": {},
   "outputs": [],
   "source": []
  },
  {
   "cell_type": "code",
   "execution_count": null,
   "id": "2a56307b",
   "metadata": {},
   "outputs": [],
   "source": []
  },
  {
   "cell_type": "code",
   "execution_count": null,
   "id": "07bfda57",
   "metadata": {},
   "outputs": [],
   "source": [
    "#Needed in general\n",
    "import sys\n",
    "\n",
    "#Quick fudge to make import from ../Scripts work\n",
    "sys.path.append('.')\n",
    "\n",
    "# just to make the screen wider, feel free to comment \n",
    "from IPython.display import display, HTML\n",
    "display(HTML(\"<style>.container { width:100% !important; }</style>\"))\n",
    "\n",
    "from formation_channels import *  # downloads the functions to calculate formation channels \n",
    "\n",
    "from PostProcessingScripts import * # for some other general functions that I use often, such as plotting functions and names of models\n",
    "import numpy as np\n"
   ]
  },
  {
   "cell_type": "code",
   "execution_count": null,
   "id": "0638ef1a",
   "metadata": {},
   "outputs": [],
   "source": [
    "## change the following lines ## \n",
    "BPSmodelName = 'A' # name of the model we want to try\n",
    "DCOtype = 'BHNS'   # DCO type we want to look into \n",
    "pathData = '/Volumes/SimonsFoundation/DataDCO/' # this is the path to my datafiles\n",
    "#######\n",
    "\n",
    "path_ = pathData + alphabetDirDict[BPSmodelName] +'/'\n",
    "path  = path_ + 'COMPASOutput.h5'\n",
    "fdata = h5.File(path, 'r')\n",
    "\n",
    "print(fdata.keys())\n",
    "print(fdata['RLOF'].keys())\n",
    "print(fdata['systems'].keys())\n",
    "\n",
    "\n",
    "# obtain formation channels \n",
    "sys_seeds = fdata['systems']['SEED'][...].squeeze()\n",
    "sys_weights = fdata['systems']['weight'][...].squeeze()\n",
    "sys_stellar_merger = fdata['systems']['stellar_merger'][...].squeeze()\n",
    "# sys_weight = fdata['systems']['weight'][...].squeeze()\n",
    "# channels = identify_formation_channels(seeds=seeds, file=fdata)\n",
    "\n",
    "RLOF_seed = fdata['RLOF']['randomSeed'][...].squeeze()\n",
    "\n",
    "\n",
    "\n"
   ]
  },
  {
   "cell_type": "code",
   "execution_count": null,
   "id": "c8eed844",
   "metadata": {},
   "outputs": [],
   "source": [
    "print(fdata['systems'].keys())"
   ]
  },
  {
   "cell_type": "code",
   "execution_count": null,
   "id": "cee8e266",
   "metadata": {},
   "outputs": [],
   "source": [
    "print(fdata['commonEnvelopes'].keys())\n",
    "\n",
    "print(len(fdata['commonEnvelopes']['stellarMerger'][...].squeeze()))\n",
    "print(len(fdata['systems']['stellar_merger'][...].squeeze()))"
   ]
  },
  {
   "cell_type": "code",
   "execution_count": null,
   "id": "9b0fbf37",
   "metadata": {},
   "outputs": [],
   "source": [
    "sys_separation = fdata['systems']['separation'][...].squeeze()\n",
    "sys_ZAMSM1 = fdata['systems']['mass1'][...].squeeze()\n",
    "sys_ZAMSM2 = fdata['systems']['mass2'][...].squeeze()"
   ]
  },
  {
   "cell_type": "code",
   "execution_count": null,
   "id": "ed1a720d",
   "metadata": {},
   "outputs": [],
   "source": [
    "print(len(sys_weights))"
   ]
  },
  {
   "cell_type": "code",
   "execution_count": null,
   "id": "c413bc08",
   "metadata": {},
   "outputs": [],
   "source": [
    "total_weight = np.sum(sys_weights)\n",
    "print(len(np.unique(RLOF_seed)))\n",
    "print(len(sys_weights))\n",
    "RLOFmask = np.in1d(sys_seeds, RLOF_seed)\n",
    "print(len(RLOFmask), len(sys_seeds))\n",
    "has_RLOF_weight = np.sum(sys_weights[RLOFmask])/total_weight\n",
    "print('fraction with RLOF', has_RLOF_weight)\n",
    "\n",
    "\n",
    "sys_stellar_merger  = fdata['systems']['stellar_merger'][...].squeeze()\n",
    "mask_stellar_merger = (sys_stellar_merger==1)\n",
    "\n",
    "\n",
    "RLOF_seed = fdata['RLOF']['randomSeed'][...].squeeze()\n",
    "\n",
    "\n",
    "mask_sMerger_inRLOF = np.in1d(sys_seeds[mask_stellar_merger], RLOF_seed)\n",
    "\n",
    "print(len(mask_sMerger_inRLOF), np.sum(mask_sMerger_inRLOF), (len(sys_seeds[mask_stellar_merger])))\n",
    "print(np.sum(sys_weights[mask_stellar_merger])/total_weight)\n",
    "print(np.sum(sys_weights[mask_stellar_merger][~mask_sMerger_inRLOF])/total_weight)\n",
    "print(len(sys_weights[mask_stellar_merger][~mask_sMerger_inRLOF]))"
   ]
  },
  {
   "cell_type": "code",
   "execution_count": null,
   "id": "84622f5d",
   "metadata": {},
   "outputs": [],
   "source": [
    "sys_stellar_merger  = fdata['systems']['stellar_merger'][...].squeeze()\n",
    "mask_stellar_merger = (sys_stellar_merger==1)\n",
    "CE_seed = fdata['commonEnvelopes']['randomSeed'][...].squeeze()\n",
    "mask_sMerger_inCE = np.in1d(sys_seeds[mask_stellar_merger], CE_seed)\n",
    "print(len(mask_sMerger_inCE), np.sum(mask_sMerger_inCE), (len(sys_seeds[mask_stellar_merger])))\n",
    "print(np.sum(sys_weights[mask_stellar_merger])/total_weight)\n",
    "print(np.sum(sys_weights[mask_stellar_merger][~mask_sMerger_inCE])/total_weight)\n",
    "print(len(sys_weights[mask_stellar_merger][~mask_sMerger_inCE]))"
   ]
  },
  {
   "cell_type": "code",
   "execution_count": null,
   "id": "359327a5",
   "metadata": {},
   "outputs": [],
   "source": []
  },
  {
   "cell_type": "code",
   "execution_count": null,
   "id": "fcb81a47",
   "metadata": {},
   "outputs": [],
   "source": [
    "qZAMS = sys_ZAMSM2/sys_ZAMSM1 \n",
    "N = 1000\n",
    "\n",
    "fig, axe = plt.subplots(1,1, figsize=(10,10))#,\\\n",
    "# iterate over the channel names \n",
    "axe.scatter(qZAMS[:N], np.log10(sys_separation)[:N], c='lightgray')\n",
    "axe.scatter(qZAMS[RLOFmask][:N], np.log10(sys_separation)[:N], c='cyan', label='has RLOF')\n",
    "        \n",
    "        \n",
    "##### make plot look nice: ####\n",
    "axe = layoutAxes(axe, nameX='ZAMS mass ratio q', nameY='ZAMS separation a [AU]', setMinor=False, labelpad=0, fontsize=26, labelSizeMajor=26)  \n",
    "axe.set_xlim(0, 1)\n",
    "axe.set_ylim(-2, 5)\n",
    "axe.grid(True)\n",
    "plt.legend()\n",
    "plt.show()"
   ]
  },
  {
   "cell_type": "code",
   "execution_count": null,
   "id": "89b29a12",
   "metadata": {},
   "outputs": [],
   "source": []
  },
  {
   "cell_type": "markdown",
   "id": "b3d83512",
   "metadata": {},
   "source": [
    "## Formation Channel Dictionary:\n",
    " - 0: *\"everything else\"* or \"other\" (by default the code gives a 0, so this means no specific formation channel was assigned. These are often rare formation channels such as \"lucky SN kick that brings the stars together; i.e. no mass transfer at all) \n",
    " - 1: *\"classic CE channel\"*. This is the channel where the events in the formation channel are: (1) stable RLOF from star 1 to star 2 -> (2) SN1 -> (3) unstable (CE) mass transfer from star 2 to compact object 1 (4) SN2 -> (5) merger. Special note: we do require the first mass transfer to *not* be case A mass transfer (i.e. the primary star 1 is *not* on the main sequence during stable RLOF in step (1)) \n",
    " - 2: *only stable mass transfer channel*: same as classic CE channel, but now the second mass transfer is also *stable RLOF* \n",
    " - 3 *immediate single-core CE (as first mass transfer) channel*: channel where the first mass transfer is unstable (Common envelope), but the secondary star (accretor) is still on the main sequence. This is usually the case for more extreme mass ratio systems  (BHNS)\n",
    " - 4 *immediate double-core CE (as first mass transfer)channel*: channel where the first mass transfer is unstable (Common envelope), but the secondary star (accretor) is *not* on the main sequence. This is usually the case for equal mass ratio systems  (BNS)\n",
    " - 5: *case A classic CE channel:*  same as classic CE channel (1), but only the systems where the first mass transfer *is* case A mass transfer (i.e. the primary star 1 *is* on the main sequence during stable RLOF in step (1)) \n",
    " - 6 *case A only stable RLOF channel*: same as only stable mass transfer channel (2), but only the systems where the first mass transfer *is* case A mass transfer (i.e. the primary star 1 *is* on the main sequence during stable RLOF in step (1)) \n",
    " \n"
   ]
  },
  {
   "cell_type": "markdown",
   "id": "deff27a4",
   "metadata": {},
   "source": [
    "## Example: Plot the initial mass ratio and separation for formation channels: "
   ]
  },
  {
   "cell_type": "code",
   "execution_count": null,
   "id": "2d04fc27",
   "metadata": {},
   "outputs": [],
   "source": [
    "print(fdata['doubleCompactObjects'].keys())\n",
    "fdata['doubleCompactObjects']['M1'][...].squeeze()\n",
    "\n"
   ]
  },
  {
   "cell_type": "code",
   "execution_count": null,
   "id": "a4d106e5",
   "metadata": {},
   "outputs": [],
   "source": [
    "\n",
    "\n",
    "adjustedChannelList = ['classic', 'stable B no CEE', 'immediate CE',  r'double-core CE', 'other', 'vii', 'vi']\n",
    "\n",
    "# read in mass ratio at ZAMS for DCO binaries \n",
    "mass_ratio_ZAMS = fdata['doubleCompactObjects']['M2ZAMS'][...].squeeze() / fdata['doubleCompactObjects']['M1ZAMS'][...].squeeze()  # unit less \n",
    "separationInitial = fdata['doubleCompactObjects']['separationInitial'][...].squeeze() / fdata['doubleCompactObjects']['M1ZAMS'][...].squeeze() # in AU\n",
    "\n",
    "\n",
    "\n",
    "fig, axe = plt.subplots(1,1, figsize=(10,10))#,\\\n",
    "# iterate over the channel names \n",
    "for nrC, Channel in enumerate(adjustedChannelList): \n",
    "        print('now at formation channel: ', Channel)\n",
    "        ind_wanted = dictFormationChannelIndex[Channel]\n",
    "        c_FC = channelColorDict[Channel] # color of the channel \n",
    "        mask_MRR = (channels==ind_wanted) # get a mask for all the DCO systems that fulfill this criteria \n",
    "        \n",
    "        axe.scatter(mass_ratio_ZAMS[mask_MRR], np.log10(separationInitial)[mask_MRR], c=channelColorDict[Channel], s=2, label=dictChannelsBHNSListBolt[Channel])\n",
    "\n",
    "        \n",
    "        \n",
    "##### make plot look nice: ####\n",
    "axe = layoutAxes(axe, nameX='ZAMS mass ratio q', nameY='ZAMS separation a [AU]', setMinor=False, labelpad=0, fontsize=26, labelSizeMajor=26)  \n",
    "axe.set_xlim(0, 1)\n",
    "axe.set_ylim(-3, 1.5)\n",
    "axe.grid(True)\n",
    "plt.legend()\n",
    "plt.show()"
   ]
  },
  {
   "cell_type": "code",
   "execution_count": null,
   "id": "369101d1",
   "metadata": {},
   "outputs": [],
   "source": []
  }
 ],
 "metadata": {
  "kernelspec": {
   "display_name": "Python 3 (ipykernel)",
   "language": "python",
   "name": "python3"
  },
  "language_info": {
   "codemirror_mode": {
    "name": "ipython",
    "version": 3
   },
   "file_extension": ".py",
   "mimetype": "text/x-python",
   "name": "python",
   "nbconvert_exporter": "python",
   "pygments_lexer": "ipython3",
   "version": "3.9.16"
  }
 },
 "nbformat": 4,
 "nbformat_minor": 5
}
