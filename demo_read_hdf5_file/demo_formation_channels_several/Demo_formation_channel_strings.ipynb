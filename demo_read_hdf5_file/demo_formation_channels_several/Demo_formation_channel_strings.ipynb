{
 "cells": [
  {
   "cell_type": "code",
   "execution_count": 1,
   "id": "fb5c4562",
   "metadata": {},
   "outputs": [
    {
     "data": {
      "text/html": [
       "<style>.container { width:100% !important; }</style>"
      ],
      "text/plain": [
       "<IPython.core.display.HTML object>"
      ]
     },
     "metadata": {},
     "output_type": "display_data"
    }
   ],
   "source": [
    "#Needed in general\n",
    "import sys\n",
    "\n",
    "#Quick fudge to make import from ../Scripts work\n",
    "sys.path.append('.')\n",
    "\n",
    "# just to make the screen wider, feel free to comment \n",
    "from IPython.display import display, HTML\n",
    "display(HTML(\"<style>.container { width:100% !important; }</style>\"))\n",
    "\n",
    "# from formation_channels import *  # downloads the functions to calculate formation channels \n",
    "\n",
    "from PostProcessingScripts import * # for some other general functions that I use often, such as plotting functions and names of models\n",
    "import numpy as np\n",
    "\n",
    "\n",
    "import ClassFormationChannels as FC  # functions to create formation channel strings, based on old code "
   ]
  },
  {
   "cell_type": "code",
   "execution_count": 2,
   "id": "9d804c53",
   "metadata": {},
   "outputs": [],
   "source": []
  },
  {
   "cell_type": "code",
   "execution_count": 3,
   "id": "8342ccc5",
   "metadata": {},
   "outputs": [],
   "source": [
    "#all the counts strings and channels are sorted\n",
    "#this function prints the main channels and checks what \n",
    "#percentage of all DCO=type is accounted for\n",
    "def printTopXchannels(x):\n",
    "    maxx = x\n",
    "    i    = 0\n",
    "    totalPercentage = 0.\n",
    "    while i <= maxx:\n",
    "        print('Nr systems = %s'%(fc.sortedCounts[i]))\n",
    "        percentage = fc.sortedCounts[i] / float(np.sum(fc.sortedCounts))\n",
    "        print('pecentage of all %s' %(percentage))\n",
    "        totalPercentage += percentage\n",
    "        print(fc.sortedStrings[i])\n",
    "        i +=1\n",
    "        print('ssss ', len(fc.sortedCounts))\n",
    "    print('the above channels account for %s of all systems'  \\\n",
    "    %(totalPercentage))\n",
    "    \n",
    "    \n",
    "    "
   ]
  },
  {
   "cell_type": "code",
   "execution_count": 19,
   "id": "2fadf1ef",
   "metadata": {},
   "outputs": [
    {
     "name": "stdout",
     "output_type": "stream",
     "text": [
      "<KeysViewHDF5 ['RLOF', 'commonEnvelopes', 'doubleCompactObjects', 'formationChannels', 'supernovae', 'systems']>\n"
     ]
    }
   ],
   "source": [
    "## change the following lines ## \n",
    "BPSmodelName = 'A' # name of the model we want to try\n",
    "DCOtype = 'BHNS'   # DCO type we want to look into \n",
    "pathData = '/Volumes/SimonsFoundation/DataDCO/' # this is the path to my datafiles\n",
    "#######\n",
    "\n",
    "path_ = pathData + alphabetDirDict[BPSmodelName] +'/'\n",
    "path  = path_ + 'COMPASOutput.h5' #'COMPASCompactOutput_'+ DCOtype +'_' + BPSmodelName + '.h5'\n",
    "fdata = h5.File(path, 'r')\n",
    "print(fdata.keys())\n",
    "fdata.close()\n",
    "# # obtain formation channels \n",
    "# seeds = fdata['doubleCompactObjects']['seed'][...].squeeze()\n"
   ]
  },
  {
   "cell_type": "code",
   "execution_count": null,
   "id": "a515a378",
   "metadata": {},
   "outputs": [],
   "source": []
  },
  {
   "cell_type": "code",
   "execution_count": null,
   "id": "71bb55a2",
   "metadata": {},
   "outputs": [],
   "source": []
  },
  {
   "cell_type": "code",
   "execution_count": 20,
   "id": "33a8b557",
   "metadata": {},
   "outputs": [
    {
     "name": "stdout",
     "output_type": "stream",
     "text": [
      "path /Volumes/SimonsFoundation/DataDCO/fiducial/COMPASOutput.h5\n"
     ]
    }
   ],
   "source": [
    "\n",
    "#If you want to see what steps and class attributes are set -> verbose=True\n",
    "fc = FC.FormationChannels(path = path, verbose=True)"
   ]
  },
  {
   "cell_type": "markdown",
   "id": "5009a8be",
   "metadata": {},
   "source": [
    "## The following code masks the BBHs within a Hubble time, and pessimistic CE flag from the large dataset\n",
    "\n",
    "This code will take a long time to run with my large amoung of data; it will be cheaper for BNS or BHNS compared to BBH because the former have fewer systems\n",
    "this code will be much faster if you instead give it seeds = list_of_seeds with systems that you want the formation channels for.. "
   ]
  },
  {
   "cell_type": "code",
   "execution_count": 21,
   "id": "b8a23bbe",
   "metadata": {},
   "outputs": [
    {
     "name": "stdout",
     "output_type": "stream",
     "text": [
      "self.booleanFilter \n",
      " Looking up the seeds/systems and creating mask for formation Channels. \n",
      "Doing the formation channels for 1525553 systems\n",
      "self.header \n",
      " Sorted which columns from formation channels we use\n",
      "Counting/sorting the unique Channels\n",
      "self.sortedChannels self.sortedCounts \n",
      " Combining the counts and channels in arrays\n",
      "23174.234060106555 sum sorted counts\n",
      "Done\n",
      "self.rankArray \n",
      " Creating column with rank of each system, patience required :)\n",
      "Done :D \n",
      "self.sortedSeeds \n",
      " Creating array per channel with all seeds of that channel\n",
      "self.sortedStrings \n",
      " Constructing human readable string for each of the unique Channels (Magic) \n",
      " :D :D \n",
      " finished in total we have 97 channels for 23174.234060106555 systems\n"
     ]
    }
   ],
   "source": [
    "#I dont want to take the merged within Hubble time into account in the formation\n",
    "#channels. meaning if we have two exactly the same channels but one mergers within \n",
    "#Hubble and one doesnt. Techinally this is two different channels.\n",
    "#By adding this column to delete columns we ignore this colum.\n",
    "#Same could be done for stellar types of donors etc\n",
    "# fc.deleteColumns = ['merged_in_Hubble_time'] #/floor\n",
    "\n",
    "# For DCO types I have inbuilt sorter to return seeds\n",
    "# set types argument and leave seeds argument empty (or None)\n",
    "#note that withinHubbleTime and optimistic argument are  only used\n",
    "# when types is given, not for seeds.\n",
    "#Additionally there are the following arguments with their Default:\n",
    "#   withinHubbleTime=True, optimistic=False\n",
    "#Not that optimistic True, or withinHubble = False does not give opposite but all systems\n",
    "fc.formationChannelsSeeds(seeds=None, types='BHNS', withinHubbleTime=True, optimistic=False)\n"
   ]
  },
  {
   "cell_type": "code",
   "execution_count": 49,
   "id": "024aef5c",
   "metadata": {
    "scrolled": false
   },
   "outputs": [
    {
     "name": "stdout",
     "output_type": "stream",
     "text": [
      "-----------\n",
      " ->mt_primary_ep1 P=HG  S=MS  ->ccSN primary  ->mt_secondary_ep1 P=BH  S=CHeB  ->CEE ->mt_secondary_ep2 P=BH  S=HeHG  ->ccSN secondary  -> last type Primary in Form=BH  -> last type Secondary in Form=HeHG  -> merged within Hubble=True -> binary disrupted=False\n",
      "contribution  %s percent 46.91552535204672\n",
      " ->mt_primary_ep1 P=HG  S=MS  ->ccSN primary  ->mt_secondary_ep1 P=BH  S=CHeB  ->CEE ->ccSN secondary  -> last type Primary in Form=BH  -> last type Secondary in Form=CHeB  -> merged within Hubble=True -> binary disrupted=False\n",
      "contribution  %s percent 15.496188545938105\n",
      " ->mt_primary_ep1 P=EAGB  S=MS  ->ccSN primary  ->mt_secondary_ep1 P=BH  S=CHeB  ->CEE ->mt_secondary_ep2 P=BH  S=HeHG  ->ccSN secondary  -> last type Primary in Form=BH  -> last type Secondary in Form=HeHG  -> merged within Hubble=True -> binary disrupted=False\n",
      "contribution  %s percent 4.556480859759825\n",
      " ->mt_primary_ep1 P=CHeB  S=MS  ->ccSN primary  ->mt_secondary_ep1 P=BH  S=CHeB  ->CEE ->mt_secondary_ep2 P=BH  S=HeHG  ->ccSN secondary  -> last type Primary in Form=BH  -> last type Secondary in Form=HeHG  -> merged within Hubble=True -> binary disrupted=False\n",
      "contribution  %s percent 3.59150765198399\n",
      " ->mt_primary_ep1 P=CHeB  S=MS  ->CEE ->ccSN primary  ->mt_secondary_ep1 P=BH  S=HG  ->mt_secondary_ep2 P=BH  S=HeHG  ->ccSN secondary  -> last type Primary in Form=BH  -> last type Secondary in Form=HeHG  -> merged within Hubble=True -> binary disrupted=False\n",
      "contribution  %s percent 3.187554405806356\n",
      " ->mt_primary_ep1 P=CHeB  S=MS  ->CEE ->ccSN primary  ->mt_secondary_ep1 P=BH  S=HG  ->ccSN secondary  -> last type Primary in Form=BH  -> last type Secondary in Form=HG  -> merged within Hubble=True -> binary disrupted=False\n",
      "contribution  %s percent 2.9493954895562875\n",
      " ->mt_primary_ep1 P=MS  S=MS  ->mt_primary_ep2 P=HG  S=MS  ->mt_secondary_ep1 P=HeMS  S=CHeB  ->CEE ->ccSN secondary  ->mt_primary_ep3 P=HeHG  S=BH  ->ccSN primary  -> last type Primary in Form=HeHG  -> last type Secondary in Form=BH  -> merged within Hubble=True -> binary disrupted=False\n",
      "contribution  %s percent 2.417683596311619\n",
      " ->mt_primary_ep1 P=HG  S=MS  ->ccSN primary  ->mt_secondary_ep1 P=BH  S=CHeB  ->CEE ->mt_secondary_ep2 P=BH  S=HeMS  ->mt_secondary_ep3 P=BH  S=HeHG  ->ccSN secondary  -> last type Primary in Form=BH  -> last type Secondary in Form=HeHG  -> merged within Hubble=True -> binary disrupted=False\n",
      "contribution  %s percent 2.3994500623049224\n",
      " ->mt_primary_ep1 P=HG  S=MS  ->ccSN primary  ->mt_secondary_ep1 P=BH  S=HG  ->mt_secondary_ep2 P=BH  S=HeHG  ->ccSN secondary  -> last type Primary in Form=BH  -> last type Secondary in Form=HeHG  -> merged within Hubble=True -> binary disrupted=False\n",
      "contribution  %s percent 2.3631744925909097\n",
      " ->mt_primary_ep1 P=HG  S=MS  ->ccSN primary  ->mt_secondary_ep1 P=BH  S=HG  ->ccSN secondary  -> last type Primary in Form=BH  -> last type Secondary in Form=HG  -> merged within Hubble=True -> binary disrupted=False\n",
      "contribution  %s percent 1.9803767098551022\n",
      " ->mt_primary_ep1 P=CHeB  S=MS  ->ccSN primary  ->mt_secondary_ep1 P=BH  S=CHeB  ->CEE ->ccSN secondary  -> last type Primary in Form=BH  -> last type Secondary in Form=CHeB  -> merged within Hubble=True -> binary disrupted=False\n",
      "contribution  %s percent 1.4276624609820885\n",
      " ->ccSN primary  ->mt_secondary_ep1 P=BH  S=CHeB  ->CEE ->mt_secondary_ep2 P=BH  S=HeHG  ->ccSN secondary  -> last type Primary in Form=BH  -> last type Secondary in Form=HeHG  -> merged within Hubble=True -> binary disrupted=False\n",
      "contribution  %s percent 1.250294203302687\n",
      " ->mt_primary_ep1 P=CHeB  S=CHeB  ->CEE ->mt_primary_ep2 P=HeHG  S=HeMS  ->ccSN primary  ->ccSN secondary  -> last type Primary in Form=HeHG  -> last type Secondary in Form=HeMS  -> merged within Hubble=True -> binary disrupted=False\n",
      "contribution  %s percent 1.22657790511071\n",
      " ->ccSN primary  ->mt_secondary_ep1 P=BH  S=CHeB  ->CEE ->ccSN secondary  -> last type Primary in Form=BH  -> last type Secondary in Form=CHeB  -> merged within Hubble=True -> binary disrupted=False\n",
      "contribution  %s percent 1.1444410268654452\n",
      " ->mt_primary_ep1 P=EAGB  S=MS  ->CEE ->ccSN primary  ->mt_secondary_ep1 P=BH  S=HG  ->mt_secondary_ep2 P=BH  S=HeHG  ->ccSN secondary  -> last type Primary in Form=BH  -> last type Secondary in Form=HeHG  -> merged within Hubble=True -> binary disrupted=False\n",
      "contribution  %s percent 1.1198229058723945\n",
      " ->mt_primary_ep1 P=MS  S=MS  ->mt_primary_ep2 P=HG  S=MS  ->mt_secondary_ep1 P=HeMS  S=CHeB  ->CEE ->mt_primary_ep3 P=HeHG  S=HeMS  ->ccSN primary  ->ccSN secondary  -> last type Primary in Form=HeHG  -> last type Secondary in Form=HeMS  -> merged within Hubble=True -> binary disrupted=False\n",
      "contribution  %s percent 0.8996824317053324\n",
      " ->mt_primary_ep1 P=MS  S=MS  ->mt_primary_ep2 P=HG  S=MS  ->ccSN primary  ->mt_secondary_ep1 P=NS  S=CHeB  ->CEE ->ccSN secondary  -> last type Primary in Form=NS  -> last type Secondary in Form=CHeB  -> merged within Hubble=True -> binary disrupted=False\n",
      "contribution  %s percent 0.8017742901375093\n",
      " ->mt_primary_ep1 P=EAGB  S=MS  ->CEE ->ccSN primary  ->mt_secondary_ep1 P=BH  S=HG  ->ccSN secondary  -> last type Primary in Form=BH  -> last type Secondary in Form=HG  -> merged within Hubble=True -> binary disrupted=False\n",
      "contribution  %s percent 0.7214733099316109\n",
      " ->mt_primary_ep1 P=CHeB  S=MS  ->CEE ->ccSN primary  ->mt_secondary_ep1 P=BH  S=HG  ->mt_secondary_ep2 P=BH  S=HeMS  ->mt_secondary_ep3 P=BH  S=HeHG  ->ccSN secondary  -> last type Primary in Form=BH  -> last type Secondary in Form=HeHG  -> merged within Hubble=True -> binary disrupted=False\n",
      "contribution  %s percent 0.612066362969581\n",
      " ->mt_primary_ep1 P=EAGB  S=CHeB  ->CEE ->mt_primary_ep2 P=HeHG  S=HeMS  ->ccSN primary  ->ccSN secondary  -> last type Primary in Form=HeHG  -> last type Secondary in Form=HeMS  -> merged within Hubble=True -> binary disrupted=False\n",
      "contribution  %s percent 0.595719696953024\n",
      " ->mt_primary_ep1 P=HG  S=MS  ->ccSN primary  ->mt_secondary_ep1 P=BH  S=HG  ->mt_secondary_ep2 P=BH  S=HeMS  ->mt_secondary_ep3 P=BH  S=HeHG  ->ccSN secondary  -> last type Primary in Form=BH  -> last type Secondary in Form=HeHG  -> merged within Hubble=True -> binary disrupted=False\n",
      "contribution  %s percent 0.5570100817542627\n",
      " ->mt_primary_ep1 P=EAGB  S=MS  ->ccSN primary  ->mt_secondary_ep1 P=BH  S=CHeB  ->CEE ->mt_secondary_ep2 P=BH  S=HeMS  ->mt_secondary_ep3 P=BH  S=HeHG  ->ccSN secondary  -> last type Primary in Form=BH  -> last type Secondary in Form=HeHG  -> merged within Hubble=True -> binary disrupted=False\n",
      "contribution  %s percent 0.5096466908722508\n",
      " ->mt_primary_ep1 P=EAGB  S=CHeB  ->CEE ->ccSN primary  ->mt_secondary_ep1 P=BH  S=HeHG  ->ccSN secondary  -> last type Primary in Form=BH  -> last type Secondary in Form=HeHG  -> merged within Hubble=True -> binary disrupted=False\n",
      "contribution  %s percent 0.4774060176536768\n",
      " ->mt_primary_ep1 P=EAGB  S=MS  ->ccSN primary  ->mt_secondary_ep1 P=BH  S=CHeB  ->CEE ->ccSN secondary  -> last type Primary in Form=BH  -> last type Secondary in Form=CHeB  -> merged within Hubble=True -> binary disrupted=False\n",
      "contribution  %s percent 0.3393064137636748\n",
      " ->mt_primary_ep1 P=CHeB  S=CHeB  ->CEE ->mt_primary_ep2 P=HeMS  S=HeMS  ->mt_primary_ep3 P=HeHG  S=HeMS  ->ccSN primary  ->ccSN secondary  -> last type Primary in Form=HeHG  -> last type Secondary in Form=HeMS  -> merged within Hubble=True -> binary disrupted=False\n",
      "contribution  %s percent 0.29420661598695447\n",
      " ->mt_primary_ep1 P=EAGB  S=MS  ->CEE ->ccSN primary  ->mt_secondary_ep1 P=BH  S=HG  ->mt_secondary_ep2 P=BH  S=HeMS  ->mt_secondary_ep3 P=BH  S=HeHG  ->ccSN secondary  -> last type Primary in Form=BH  -> last type Secondary in Form=HeHG  -> merged within Hubble=True -> binary disrupted=False\n",
      "contribution  %s percent 0.23308286853896903\n",
      " ->mt_primary_ep1 P=CHeB  S=CHeB  ->CEE ->ccSN primary  ->mt_secondary_ep1 P=BH  S=HeHG  ->ccSN secondary  -> last type Primary in Form=BH  -> last type Secondary in Form=HeHG  -> merged within Hubble=True -> binary disrupted=False\n",
      "contribution  %s percent 0.18301152962934014\n",
      " ->mt_primary_ep1 P=CHeB  S=MS  ->ccSN primary  ->mt_secondary_ep1 P=BH  S=CHeB  ->CEE ->mt_secondary_ep2 P=BH  S=HeMS  ->mt_secondary_ep3 P=BH  S=HeHG  ->ccSN secondary  -> last type Primary in Form=BH  -> last type Secondary in Form=HeHG  -> merged within Hubble=True -> binary disrupted=False\n",
      "contribution  %s percent 0.1746055570874045\n",
      " ->mt_primary_ep1 P=CHeB  S=CHeB  ->CEE ->ccSN primary  ->mt_secondary_ep1 P=BH  S=HeMS  ->mt_secondary_ep2 P=BH  S=HeHG  ->ccSN secondary  -> last type Primary in Form=BH  -> last type Secondary in Form=HeHG  -> merged within Hubble=True -> binary disrupted=False\n",
      "contribution  %s percent 0.14514282500337622\n",
      " ->mt_primary_ep1 P=CHeB  S=MS  ->CEE ->ccSN primary  ->mt_secondary_ep1 P=BH  S=MS  ->mt_secondary_ep2 P=BH  S=HG  ->ccSN secondary  -> last type Primary in Form=BH  -> last type Secondary in Form=HG  -> merged within Hubble=True -> binary disrupted=False\n",
      "contribution  %s percent 0.14335882621815033\n",
      " ->mt_primary_ep1 P=CHeB  S=MS  ->ccSN primary  ->mt_secondary_ep1 P=BH  S=CHeB  ->CEE ->ccSN secondary  -> last type Primary in Form=BH  -> last type Secondary in Form=CHeB  -> merged within Hubble=True -> binary disrupted=False\n",
      "contribution  %s percent 0.12810238874344307\n",
      " ->mt_primary_ep1 P=HG  S=MS  ->ccSN primary  ->mt_secondary_ep1 P=BH  S=MS  ->mt_secondary_ep2 P=BH  S=HG  ->ccSN secondary  -> last type Primary in Form=BH  -> last type Secondary in Form=HG  -> merged within Hubble=True -> binary disrupted=False\n",
      "contribution  %s percent 0.1140722016460087\n",
      " ->mt_primary_ep1 P=CHeB  S=CHeB  ->CEE ->mt_primary_ep2 P=HeHG  S=HeHG  ->ccSN primary  ->ccSN secondary  -> last type Primary in Form=HeHG  -> last type Secondary in Form=HeHG  -> merged within Hubble=True -> binary disrupted=False\n",
      "contribution  %s percent 0.10218765261614708\n",
      " ->mt_primary_ep1 P=EAGB  S=MS  ->ccSN primary  ->mt_secondary_ep1 P=BH  S=CHeB  ->CEE ->mt_secondary_ep2 P=BH  S=HeHG  ->ccSN secondary  -> last type Primary in Form=BH  -> last type Secondary in Form=HeHG  -> merged within Hubble=True -> binary disrupted=False\n",
      "contribution  %s percent 0.09776214178016292\n",
      " ->mt_primary_ep1 P=CHeB  S=CHeB  ->CEE ->mt_primary_ep2 P=HeHG  S=HeMS  ->ccSN primary  ->mt_secondary_ep1 P=NS  S=HeHG  ->ccSN secondary  -> last type Primary in Form=NS  -> last type Secondary in Form=HeHG  -> merged within Hubble=True -> binary disrupted=False\n",
      "contribution  %s percent 0.09590514202362321\n",
      " ->mt_primary_ep1 P=CHeB  S=MS  ->CEE ->mt_secondary_ep1 P=HeMS  S=HG  ->ccSN primary  ->ccSN secondary  -> last type Primary in Form=HeMS  -> last type Secondary in Form=HG  -> merged within Hubble=True -> binary disrupted=False\n",
      "contribution  %s percent 0.09551857025046245\n",
      " ->mt_primary_ep1 P=EAGB  S=CHeB  ->CEE ->ccSN primary  ->mt_secondary_ep1 P=BH  S=HeMS  ->mt_secondary_ep2 P=BH  S=HeHG  ->ccSN secondary  -> last type Primary in Form=BH  -> last type Secondary in Form=HeHG  -> merged within Hubble=True -> binary disrupted=False\n",
      "contribution  %s percent 0.08545828299214728\n",
      " ->mt_primary_ep1 P=EAGB  S=CHeB  ->CEE ->ccSN primary  ->ccSN secondary  -> last type Primary in Form=EAGB  -> last type Secondary in Form=CHeB  -> merged within Hubble=True -> binary disrupted=False\n",
      "contribution  %s percent 0.06714163992822046\n",
      " ->mt_primary_ep1 P=CHeB  S=CHeB  ->CEE ->ccSN primary  ->ccSN secondary  -> last type Primary in Form=CHeB  -> last type Secondary in Form=CHeB  -> merged within Hubble=True -> binary disrupted=False\n",
      "contribution  %s percent 0.05852276773305768\n",
      " ->mt_primary_ep1 P=EAGB  S=MS  ->ccSN primary  ->mt_secondary_ep1 P=BH  S=CHeB  ->CEE ->ccSN secondary  -> last type Primary in Form=BH  -> last type Secondary in Form=CHeB  -> merged within Hubble=True -> binary disrupted=False\n",
      "contribution  %s percent 0.05304269479188889\n",
      " ->mt_primary_ep1 P=CHeB  S=MS  ->ccSN primary  ->mt_secondary_ep1 P=BH  S=CHeB  ->CEE ->mt_secondary_ep2 P=BH  S=HeHG  ->ccSN secondary  -> last type Primary in Form=BH  -> last type Secondary in Form=HeHG  -> merged within Hubble=True -> binary disrupted=False\n",
      "contribution  %s percent 0.04803697262254743\n",
      " ->mt_primary_ep1 P=HG  S=MS  ->ccSN primary  ->mt_secondary_ep1 P=BH  S=CHeB  ->ccSN secondary  -> last type Primary in Form=BH  -> last type Secondary in Form=CHeB  -> merged within Hubble=True -> binary disrupted=False\n",
      "contribution  %s percent 0.035314690974367256\n",
      " ->ccSN primary  ->mt_secondary_ep1 P=BH  S=EAGB  ->CEE ->ccSN secondary  -> last type Primary in Form=BH  -> last type Secondary in Form=EAGB  -> merged within Hubble=True -> binary disrupted=False\n",
      "contribution  %s percent 0.03312032271145233\n",
      " ->mt_primary_ep1 P=HG  S=HG  ->mt_secondary_ep1 P=HeMS  S=CHeB  ->CEE ->ccSN secondary  ->ccSN primary  -> last type Primary in Form=HeMS  -> last type Secondary in Form=CHeB  -> merged within Hubble=True -> binary disrupted=False\n",
      "contribution  %s percent 0.029660027123664803\n",
      " ->mt_primary_ep1 P=HG  S=MS  ->mt_secondary_ep1 P=BH  S=MS  ->mt_secondary_ep2 P=BH  S=HG  ->ccSN secondary  -> last type Primary in Form=BH  -> last type Secondary in Form=HG  -> merged within Hubble=True -> binary disrupted=False\n",
      "contribution  %s percent 0.028001340565884575\n",
      " ->mt_primary_ep1 P=MS  S=MS  ->mt_primary_ep2 P=HG  S=MS  ->mt_secondary_ep1 P=HeMS  S=CHeB  ->CEE ->mt_primary_ep3 P=HeHG  S=HeHG  ->ccSN primary  ->ccSN secondary  -> last type Primary in Form=HeHG  -> last type Secondary in Form=HeHG  -> merged within Hubble=True -> binary disrupted=False\n",
      "contribution  %s percent 0.0252845930490567\n",
      " ->ccSN primary  ->mt_secondary_ep1 P=BH  S=EAGB  ->CEE ->mt_secondary_ep2 P=BH  S=HeHG  ->ccSN secondary  -> last type Primary in Form=BH  -> last type Secondary in Form=HeHG  -> merged within Hubble=True -> binary disrupted=False\n",
      "contribution  %s percent 0.02228006799062029\n",
      " ->mt_primary_ep1 P=HG  S=MS  ->ccSN primary  ->mt_secondary_ep1 P=BH  S=EAGB  ->CEE ->mt_secondary_ep2 P=BH  S=HeHG  ->ccSN secondary  -> last type Primary in Form=BH  -> last type Secondary in Form=HeHG  -> merged within Hubble=True -> binary disrupted=False\n",
      "contribution  %s percent 0.021902133200833136\n",
      " ->ccSN primary  ->mt_secondary_ep1 P=BH  S=CHeB  ->CEE ->mt_secondary_ep2 P=BH  S=HeMS  ->mt_secondary_ep3 P=BH  S=HeHG  ->ccSN secondary  -> last type Primary in Form=BH  -> last type Secondary in Form=HeHG  -> merged within Hubble=True -> binary disrupted=False\n",
      "contribution  %s percent 0.021829876836873756\n",
      " ->mt_primary_ep1 P=HG  S=MS  ->ccSN primary  ->mt_secondary_ep1 P=BH  S=EAGB  ->CEE ->ccSN secondary  -> last type Primary in Form=BH  -> last type Secondary in Form=EAGB  -> merged within Hubble=True -> binary disrupted=False\n",
      "contribution  %s percent 0.020898341554454813\n",
      "\n",
      "I have now accounted for  %s percent 99.87677269407274\n",
      "-----------\n",
      "\n",
      "\n",
      " ->mt_primary_ep1 P=HG  S=MS  ->ccSN primary  ->mt_secondary_ep1 P=BH  S=CHeB  ->CEE ->mt_secondary_ep2 P=BH  S=HeHG  ->ccSN secondary  -> last type Primary in Form=BH  -> last type Secondary in Form=HeHG  -> merged within Hubble=True -> binary disrupted=False\n",
      "This channel accounts for  %s percent 46.91552535204672\n",
      "156\n"
     ]
    }
   ],
   "source": [
    "#The method :\n",
    "#Go index by index -> read string and group in cell below the indices\n",
    "#Note some channels do exactlu the #same but one is within Hubble other not, \n",
    "#this is classified as differencce\n",
    "print('-----------')\n",
    "index_list = range(50) #np.asarray(range(10)) #98 #[13,18,26,30,36,40,41,45,46,48]  #[9,10,14,31,34,44] #,18,26,30,36,40,41,45,46,48] #,10,14,31,34,44]\n",
    "\n",
    "for index in index_list: \n",
    "    print(fc.sortedStrings[index])\n",
    "    print('contribution  %s percent', np.sum(fc.sortedCounts[index])*100 / float(np.sum(fc.sortedCounts)))\n",
    "print()\n",
    "print('I have now accounted for  %s percent', np.sum(fc.sortedCounts[0:index])*100 / float(np.sum(fc.sortedCounts)))\n",
    "\n",
    "print('-----------')\n",
    "print()\n",
    "print()\n",
    "\n",
    "single_index = 0 #np.asarray(range(10)) #98 #[13,18,26,30,36,40,41,45,46,48]  #[9,10,14,31,34,44] #,18,26,30,36,40,41,45,46,48] #,10,14,31,34,44]\n",
    "print(fc.sortedStrings[single_index])\n",
    "print('This channel accounts for  %s percent', np.sum(fc.sortedCounts[single_index])*100 / float(np.sum(fc.sortedCounts)))\n",
    "\n",
    "\n",
    "########################\n",
    "# this is one way to get the seeds for all the systems with the same specific formation channel string: \n",
    "# you could then use these seeds to look up the masses, separation etc. etc. \n",
    "seedsInterest = []\n",
    "seedsInterest.extend(fc.sortedSeeds[index])\n",
    "#         Get metallicity systems this works because seeds in both\n",
    "#         files are in the same order\n",
    "# mask = np.in1d(Data.seeds, np.array(seedsInterest))\n",
    "# mass1 = Data.mass1[mask]\n",
    "# mass2 = Data.mass2[mask]\n",
    "# print(mass1)\n",
    "print(len(seedsInterest))\n",
    "#\n",
    "# print(len(mass1))"
   ]
  },
  {
   "cell_type": "code",
   "execution_count": null,
   "id": "dff4ced8",
   "metadata": {},
   "outputs": [],
   "source": []
  }
 ],
 "metadata": {
  "kernelspec": {
   "display_name": "Python 3 (ipykernel)",
   "language": "python",
   "name": "python3"
  },
  "language_info": {
   "codemirror_mode": {
    "name": "ipython",
    "version": 3
   },
   "file_extension": ".py",
   "mimetype": "text/x-python",
   "name": "python",
   "nbconvert_exporter": "python",
   "pygments_lexer": "ipython3",
   "version": "3.9.16"
  }
 },
 "nbformat": 4,
 "nbformat_minor": 5
}
