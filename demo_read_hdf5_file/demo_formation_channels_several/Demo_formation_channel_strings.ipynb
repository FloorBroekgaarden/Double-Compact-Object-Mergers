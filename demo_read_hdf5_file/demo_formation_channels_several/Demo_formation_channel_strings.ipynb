{
 "cells": [
  {
   "cell_type": "code",
   "execution_count": 1,
   "id": "034c6078",
   "metadata": {},
   "outputs": [
    {
     "data": {
      "text/html": [
       "<style>.container { width:100% !important; }</style>"
      ],
      "text/plain": [
       "<IPython.core.display.HTML object>"
      ]
     },
     "metadata": {},
     "output_type": "display_data"
    }
   ],
   "source": [
    "#Needed in general\n",
    "import sys\n",
    "\n",
    "#Quick fudge to make import from ../Scripts work\n",
    "sys.path.append('.')\n",
    "\n",
    "# just to make the screen wider, feel free to comment \n",
    "from IPython.display import display, HTML\n",
    "display(HTML(\"<style>.container { width:100% !important; }</style>\"))\n",
    "\n",
    "# from formation_channels import *  # downloads the functions to calculate formation channels \n",
    "\n",
    "from PostProcessingScripts import * # for some other general functions that I use often, such as plotting functions and names of models\n",
    "import numpy as np\n",
    "\n",
    "\n",
    "import ClassFormationChannels as FC  # functions to create formation channel strings, based on old code "
   ]
  },
  {
   "cell_type": "code",
   "execution_count": 2,
   "id": "c849570e",
   "metadata": {},
   "outputs": [],
   "source": []
  },
  {
   "cell_type": "code",
   "execution_count": 3,
   "id": "51185755",
   "metadata": {},
   "outputs": [],
   "source": [
    "#all the counts strings and channels are sorted\n",
    "#this function prints the main channels and checks what \n",
    "#percentage of all DCO=type is accounted for\n",
    "def printTopXchannels(x):\n",
    "    maxx = x\n",
    "    i    = 0\n",
    "    totalPercentage = 0.\n",
    "    while i <= maxx:\n",
    "        print('Nr systems = %s'%(fc.sortedCounts[i]))\n",
    "        percentage = fc.sortedCounts[i] / float(np.sum(fc.sortedCounts))\n",
    "        print('pecentage of all %s' %(percentage))\n",
    "        totalPercentage += percentage\n",
    "        print(fc.sortedStrings[i])\n",
    "        i +=1\n",
    "        print('ssss ', len(fc.sortedCounts))\n",
    "    print('the above channels account for %s of all systems'  \\\n",
    "    %(totalPercentage))\n",
    "    \n",
    "    \n",
    "    "
   ]
  },
  {
   "cell_type": "code",
   "execution_count": 19,
   "id": "d4863fe9",
   "metadata": {},
   "outputs": [
    {
     "name": "stdout",
     "output_type": "stream",
     "text": [
      "<KeysViewHDF5 ['RLOF', 'commonEnvelopes', 'doubleCompactObjects', 'formationChannels', 'supernovae', 'systems']>\n"
     ]
    }
   ],
   "source": [
    "## change the following lines ## \n",
    "BPSmodelName = 'A' # name of the model we want to try\n",
    "DCOtype = 'BHNS'   # DCO type we want to look into \n",
    "pathData = '/Volumes/SimonsFoundation/DataDCO/' # this is the path to my datafiles\n",
    "#######\n",
    "\n",
    "path_ = pathData + alphabetDirDict[BPSmodelName] +'/'\n",
    "path  = path_ + 'COMPASOutput.h5' #'COMPASCompactOutput_'+ DCOtype +'_' + BPSmodelName + '.h5'\n",
    "fdata = h5.File(path, 'r')\n",
    "print(fdata.keys())\n",
    "fdata.close()\n",
    "# # obtain formation channels \n",
    "# seeds = fdata['doubleCompactObjects']['seed'][...].squeeze()\n"
   ]
  },
  {
   "cell_type": "code",
   "execution_count": null,
   "id": "090094e2",
   "metadata": {},
   "outputs": [],
   "source": []
  },
  {
   "cell_type": "code",
   "execution_count": null,
   "id": "d6be671e",
   "metadata": {},
   "outputs": [],
   "source": []
  },
  {
   "cell_type": "code",
   "execution_count": 20,
   "id": "c4985194",
   "metadata": {},
   "outputs": [
    {
     "name": "stdout",
     "output_type": "stream",
     "text": [
      "path /Volumes/SimonsFoundation/DataDCO/fiducial/COMPASOutput.h5\n"
     ]
    }
   ],
   "source": [
    "\n",
    "#If you want to see what steps and class attributes are set -> verbose=True\n",
    "fc = FC.FormationChannels(path = path, verbose=True)"
   ]
  },
  {
   "cell_type": "markdown",
   "id": "242c234a",
   "metadata": {},
   "source": [
    "## The following code masks the BBHs within a Hubble time, and pessimistic CE flag from the large dataset\n",
    "\n",
    "This code will take a long time to run with my large amoung of data; it will be cheaper for BNS or BHNS compared to BBH because the former have fewer systems\n",
    "this code will be much faster if you instead give it seeds = list_of_seeds with systems that you want the formation channels for.. "
   ]
  },
  {
   "cell_type": "code",
   "execution_count": 21,
   "id": "3a3461fa",
   "metadata": {},
   "outputs": [
    {
     "name": "stdout",
     "output_type": "stream",
     "text": [
      "self.booleanFilter \n",
      " Looking up the seeds/systems and creating mask for formation Channels. \n",
      "Doing the formation channels for 1525553 systems\n",
      "self.header \n",
      " Sorted which columns from formation channels we use\n",
      "Counting/sorting the unique Channels\n",
      "self.sortedChannels self.sortedCounts \n",
      " Combining the counts and channels in arrays\n",
      "23174.234060106555 sum sorted counts\n",
      "Done\n",
      "self.rankArray \n",
      " Creating column with rank of each system, patience required :)\n",
      "Done :D \n",
      "self.sortedSeeds \n",
      " Creating array per channel with all seeds of that channel\n",
      "self.sortedStrings \n",
      " Constructing human readable string for each of the unique Channels (Magic) \n",
      " :D :D \n",
      " finished in total we have 97 channels for 23174.234060106555 systems\n"
     ]
    }
   ],
   "source": [
    "#I dont want to take the merged within Hubble time into account in the formation\n",
    "#channels. meaning if we have two exactly the same channels but one mergers within \n",
    "#Hubble and one doesnt. Techinally this is two different channels.\n",
    "#By adding this column to delete columns we ignore this colum.\n",
    "#Same could be done for stellar types of donors etc\n",
    "# fc.deleteColumns = ['merged_in_Hubble_time'] #/floor\n",
    "\n",
    "# For DCO types I have inbuilt sorter to return seeds\n",
    "# set types argument and leave seeds argument empty (or None)\n",
    "#note that withinHubbleTime and optimistic argument are  only used\n",
    "# when types is given, not for seeds.\n",
    "#Additionally there are the following arguments with their Default:\n",
    "#   withinHubbleTime=True, optimistic=False\n",
    "#Not that optimistic True, or withinHubble = False does not give opposite but all systems\n",
    "fc.formationChannelsSeeds(seeds=None, types='BHNS', withinHubbleTime=True, optimistic=False)\n"
   ]
  },
  {
   "cell_type": "code",
   "execution_count": 43,
   "id": "46241384",
   "metadata": {},
   "outputs": [
    {
     "name": "stdout",
     "output_type": "stream",
     "text": [
      "-----------\n",
      " ->mt_primary_ep1 P=HG  S=MS  ->ccSN primary  ->mt_secondary_ep1 P=BH  S=CHeB  ->CEE ->mt_secondary_ep2 P=BH  S=HeHG  ->ccSN secondary  -> last type Primary in Form=BH  -> last type Secondary in Form=HeHG  -> merged within Hubble=True -> binary disrupted=False\n",
      "contribution  %s percent 46.91552535204672\n",
      " ->mt_primary_ep1 P=HG  S=MS  ->ccSN primary  ->mt_secondary_ep1 P=BH  S=CHeB  ->CEE ->ccSN secondary  -> last type Primary in Form=BH  -> last type Secondary in Form=CHeB  -> merged within Hubble=True -> binary disrupted=False\n",
      "contribution  %s percent 15.496188545938105\n",
      " ->mt_primary_ep1 P=EAGB  S=MS  ->ccSN primary  ->mt_secondary_ep1 P=BH  S=CHeB  ->CEE ->mt_secondary_ep2 P=BH  S=HeHG  ->ccSN secondary  -> last type Primary in Form=BH  -> last type Secondary in Form=HeHG  -> merged within Hubble=True -> binary disrupted=False\n",
      "contribution  %s percent 4.556480859759825\n",
      "\n",
      "I have now accounted for  %s percent 62.411713897984825\n",
      "-----------\n",
      "\n",
      "\n",
      " ->mt_primary_ep1 P=HG  S=MS  ->ccSN primary  ->mt_secondary_ep1 P=BH  S=CHeB  ->CEE ->mt_secondary_ep2 P=BH  S=HeHG  ->ccSN secondary  -> last type Primary in Form=BH  -> last type Secondary in Form=HeHG  -> merged within Hubble=True -> binary disrupted=False\n",
      "This channel accounts for  %s percent 46.91552535204672\n",
      "13620\n"
     ]
    }
   ],
   "source": [
    "#The method :\n",
    "#Go index by index -> read string and group in cell below the indices\n",
    "#Note some channels do exactlu the #same but one is within Hubble other not, \n",
    "#this is classified as differencce\n",
    "print('-----------')\n",
    "index_list = [0, 1, 2] #np.asarray(range(10)) #98 #[13,18,26,30,36,40,41,45,46,48]  #[9,10,14,31,34,44] #,18,26,30,36,40,41,45,46,48] #,10,14,31,34,44]\n",
    "\n",
    "for index in index_list: \n",
    "    print(fc.sortedStrings[index])\n",
    "    print('contribution  %s percent', np.sum(fc.sortedCounts[index])*100 / float(np.sum(fc.sortedCounts)))\n",
    "print()\n",
    "print('I have now accounted for  %s percent', np.sum(fc.sortedCounts[0:index])*100 / float(np.sum(fc.sortedCounts)))\n",
    "\n",
    "print('-----------')\n",
    "print()\n",
    "print()\n",
    "\n",
    "single_index = 0 #np.asarray(range(10)) #98 #[13,18,26,30,36,40,41,45,46,48]  #[9,10,14,31,34,44] #,18,26,30,36,40,41,45,46,48] #,10,14,31,34,44]\n",
    "print(fc.sortedStrings[single_index])\n",
    "print('This channel accounts for  %s percent', np.sum(fc.sortedCounts[single_index])*100 / float(np.sum(fc.sortedCounts)))\n",
    "\n",
    "\n",
    "########################\n",
    "# this is one way to get the seeds for all the systems with the same specific formation channel string: \n",
    "# you could then use these seeds to look up the masses, separation etc. etc. \n",
    "seedsInterest = []\n",
    "seedsInterest.extend(fc.sortedSeeds[index])\n",
    "#         Get metallicity systems this works because seeds in both\n",
    "#         files are in the same order\n",
    "# mask = np.in1d(Data.seeds, np.array(seedsInterest))\n",
    "# mass1 = Data.mass1[mask]\n",
    "# mass2 = Data.mass2[mask]\n",
    "# print(mass1)\n",
    "print(len(seedsInterest))\n",
    "#\n",
    "# print(len(mass1))"
   ]
  },
  {
   "cell_type": "code",
   "execution_count": null,
   "id": "d4d5e459",
   "metadata": {},
   "outputs": [],
   "source": []
  }
 ],
 "metadata": {
  "kernelspec": {
   "display_name": "Python 3 (ipykernel)",
   "language": "python",
   "name": "python3"
  },
  "language_info": {
   "codemirror_mode": {
    "name": "ipython",
    "version": 3
   },
   "file_extension": ".py",
   "mimetype": "text/x-python",
   "name": "python",
   "nbconvert_exporter": "python",
   "pygments_lexer": "ipython3",
   "version": "3.9.16"
  }
 },
 "nbformat": 4,
 "nbformat_minor": 5
}
