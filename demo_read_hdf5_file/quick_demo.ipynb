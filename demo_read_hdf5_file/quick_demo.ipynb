{
 "cells": [
  {
   "cell_type": "code",
   "execution_count": 1,
   "id": "d6c31b75",
   "metadata": {},
   "outputs": [
    {
     "data": {
      "text/html": [
       "<style>.container { width:100% !important; }</style>"
      ],
      "text/plain": [
       "<IPython.core.display.HTML object>"
      ]
     },
     "metadata": {},
     "output_type": "display_data"
    }
   ],
   "source": [
    "#Needed in general\n",
    "import sys\n",
    "\n",
    "#Quick fudge to make import from ../Scripts work\n",
    "sys.path.append('/Users/floorbroekgaarden/Projects/GitHub/common_code/.')\n",
    "\n",
    "# just to make the screen wider, feel free to comment \n",
    "from IPython.display import display, HTML\n",
    "display(HTML(\"<style>.container { width:100% !important; }</style>\"))\n",
    "\n",
    "# from formation_channels import *  # downloads the functions to calculate formation channels \n",
    "\n",
    "from PostProcessingScripts import * # for some other general functions that I use often, such as plotting functions and names of models\n",
    "import numpy as np\n"
   ]
  },
  {
   "cell_type": "code",
   "execution_count": null,
   "id": "d79b796a",
   "metadata": {},
   "outputs": [],
   "source": []
  },
  {
   "cell_type": "code",
   "execution_count": null,
   "id": "b0ed1b77",
   "metadata": {},
   "outputs": [],
   "source": []
  },
  {
   "cell_type": "code",
   "execution_count": null,
   "id": "0528e8de",
   "metadata": {},
   "outputs": [],
   "source": []
  },
  {
   "cell_type": "code",
   "execution_count": null,
   "id": "36c86cc7",
   "metadata": {},
   "outputs": [],
   "source": []
  },
  {
   "cell_type": "code",
   "execution_count": null,
   "id": "59454881",
   "metadata": {},
   "outputs": [],
   "source": []
  },
  {
   "cell_type": "code",
   "execution_count": null,
   "id": "d688ba6c",
   "metadata": {},
   "outputs": [],
   "source": []
  },
  {
   "cell_type": "code",
   "execution_count": null,
   "id": "128b25d3",
   "metadata": {},
   "outputs": [],
   "source": []
  },
  {
   "cell_type": "code",
   "execution_count": 4,
   "id": "1b82200c",
   "metadata": {},
   "outputs": [
    {
     "data": {
      "image/png": "[encoded data removed]",
      "text/plain": [
       "<Figure size 640x480 with 1 Axes>"
      ]
     },
     "metadata": {},
     "output_type": "display_data"
    }
   ],
   "source": [
    "\n",
    "\n",
    "\n",
    "\n",
    "N = 100 \n",
    "slope_1 = 10\n",
    "c_1, c_2 = 1, 10 \n",
    "\n",
    "xx = np.linspace(0,1,N)\n",
    "y1 = xx*slope_1 + c_1\n",
    "y2 = xx*slope_1 + c_2\n",
    "\n",
    "\n",
    "\n",
    "plt.plot(xx, y1, label='y1')\n",
    "plt.plot(xx, y2, label='y2')\n",
    "plt.legend()\n",
    "plt.show()\n",
    "\n",
    "\n",
    "def calculate_slope(y):\n",
    "    \n",
    "    \n",
    "    slope = (y[-1]-y[0])/(xx[-1]-xx[0]) \n",
    "    slope=/ ((y[-1]-y[0])/2)\n",
    "    \n",
    "    return slope \n",
    "    \n"
   ]
  },
  {
   "cell_type": "code",
   "execution_count": 2,
   "id": "fe653fef",
   "metadata": {},
   "outputs": [],
   "source": [
    "from astropy import constants as c\n",
    "from astropy import units as u"
   ]
  },
  {
   "cell_type": "code",
   "execution_count": 3,
   "id": "ebf3fd2a",
   "metadata": {},
   "outputs": [],
   "source": [
    "\n",
    "\n",
    "def a_0_min():\n",
    "    \n",
    "    c_up = 4*64*2*c.G\n",
    "    c_down = 5*c.c**5 \n",
    "    \n",
    "    a_0 = (c_up/c_down)**(1/4.)\n",
    "    \n",
    "    print(a_0)\n",
    "    "
   ]
  },
  {
   "cell_type": "code",
   "execution_count": 4,
   "id": "fa82176a",
   "metadata": {},
   "outputs": [
    {
     "name": "stdout",
     "output_type": "stream",
     "text": [
      "2.3048917924216345e-13 s(3/4) / (kg(1/4) m(1/2))\n"
     ]
    }
   ],
   "source": [
    "a_0_min()"
   ]
  },
  {
   "cell_type": "code",
   "execution_count": 22,
   "id": "650e47d7",
   "metadata": {},
   "outputs": [
    {
     "name": "stdout",
     "output_type": "stream",
     "text": [
      "14.07536282326389 Gyr\n"
     ]
    }
   ],
   "source": [
    "\n",
    "\n",
    "def t_merge(mass=1, separation=3.7):\n",
    "    \n",
    "    c_down = 4*64*2*c.G**3\n",
    "    c_up = 5*c.c**5 \n",
    "    \n",
    "    t_c = (c_up/c_down) * (mass*c.M_sun)**(-3) * (separation*c.R_sun)**4\n",
    "    \n",
    "#     t_c = t_c / (14*1E9 *c.year)\n",
    "#     print(t_c)\n",
    "    print(t_c.to(u.Gyr))\n",
    "\n",
    "t_merge()"
   ]
  },
  {
   "cell_type": "code",
   "execution_count": null,
   "id": "21243b84",
   "metadata": {},
   "outputs": [],
   "source": []
  }
 ],
 "metadata": {
  "kernelspec": {
   "display_name": "Python 3 (ipykernel)",
   "language": "python",
   "name": "python3"
  },
  "language_info": {
   "codemirror_mode": {
    "name": "ipython",
    "version": 3
   },
   "file_extension": ".py",
   "mimetype": "text/x-python",
   "name": "python",
   "nbconvert_exporter": "python",
   "pygments_lexer": "ipython3",
   "version": "3.9.16"
  }
 },
 "nbformat": 4,
 "nbformat_minor": 5
}
