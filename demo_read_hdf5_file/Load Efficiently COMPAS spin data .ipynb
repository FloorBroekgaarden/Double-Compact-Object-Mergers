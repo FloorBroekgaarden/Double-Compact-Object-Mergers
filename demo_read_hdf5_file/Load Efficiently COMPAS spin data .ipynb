{
 "cells": [
  {
   "cell_type": "code",
   "execution_count": 1,
   "id": "e0d29477",
   "metadata": {},
   "outputs": [],
   "source": [
    "import os, sys    # for handling paths\n",
    "import h5py as h5  #for handling data format\n",
    "import matplotlib.pyplot as plt\n",
    "import numpy as np\n",
    "\n"
   ]
  },
  {
   "cell_type": "code",
   "execution_count": null,
   "id": "53299567",
   "metadata": {},
   "outputs": [],
   "source": []
  },
  {
   "cell_type": "code",
   "execution_count": 62,
   "id": "7f30d96b",
   "metadata": {},
   "outputs": [
    {
     "name": "stdout",
     "output_type": "stream",
     "text": [
      "Data Loaded\n",
      "[0.         0.         0.         ... 0.00015819 0.00015819 0.00015819]\n",
      "Data Closed\n",
      "Data obtained\n"
     ]
    },
    {
     "name": "stderr",
     "output_type": "stream",
     "text": [
      "/Library/Frameworks/Python.framework/Versions/3.7/lib/python3.7/site-packages/ipykernel_launcher.py:8: RuntimeWarning: divide by zero encountered in true_divide\n",
      "  \n",
      "/Library/Frameworks/Python.framework/Versions/3.7/lib/python3.7/site-packages/ipykernel_launcher.py:12: RuntimeWarning: divide by zero encountered in true_divide\n",
      "  if sys.path[0] == '':\n",
      "/Library/Frameworks/Python.framework/Versions/3.7/lib/python3.7/site-packages/ipykernel_launcher.py:17: RuntimeWarning: invalid value encountered in multiply\n",
      "/Library/Frameworks/Python.framework/Versions/3.7/lib/python3.7/site-packages/ipykernel_launcher.py:18: RuntimeWarning: invalid value encountered in multiply\n",
      "The PostScript backend does not support transparency; partially transparent artists will be rendered opaque.\n",
      "The PostScript backend does not support transparency; partially transparent artists will be rendered opaque.\n"
     ]
    },
    {
     "data": {
      "image/png": "[encoded data removed]",
      "text/plain": [
       "<Figure size 432x288 with 1 Axes>"
      ]
     },
     "metadata": {
      "needs_background": "light"
     },
     "output_type": "display_data"
    }
   ],
   "source": [
    "\n",
    "Data = h5.File('/Users/floorbroekgaarden/Downloads/Pulsar_Reduced.h5', 'r')\n",
    "print('Data Loaded')\n",
    "\n",
    "Pulsars = Data['BSE_Pulsar_Evolution']\n",
    "\n",
    "pulsar_seeds = Pulsars['SEED'][...].squeeze()\n",
    "# pulsar_spin1 = Pulsars['Pulsar_Spin_Freq(1)'][...].squeeze()\n",
    "pulsar_period1 = 2 * np.pi / (Pulsars['Pulsar_Spin_Freq(1)'][...].squeeze())                              \n",
    "pulsar_period2 = 2 * np.pi / (Pulsars['Pulsar_Spin_Freq(2)'][...].squeeze())\n",
    "# del(pulsar_spin2)\n",
    "pulsar_fdot1 = Pulsars[ 'Pulsar_Spin_Down(1)'][...].squeeze()\n",
    "pulsar_fdot2 = Pulsars[ 'Pulsar_Spin_Down(2)'][...].squeeze()\n",
    "\n",
    "pdot1 = -pulsar_period1**2 * np.array(pulsar_fdot1) / 2 / np.pi\n",
    "pdot2 = -pulsar_period2**2 * np.array(pulsar_fdot2) / 2 / np.pi\n",
    "del(pulsar_fdot1)\n",
    "del(pulsar_fdot2)\n",
    "\n",
    "Data.close()\n",
    "print('Data Closed')\n",
    "\n",
    "# unique_seeds = np.unique(pulsar_seeds)\n",
    "# returns list with unique seeds and their starting index\n",
    "unique_seeds, index_unique_seed = np.unique(pulsar_seeds, return_index=True)\n",
    "\n",
    "\n",
    "birth_p1 = pulsar_period1[index_unique_seed]\n",
    "birth_p2 = pulsar_period2[index_unique_seed]\n",
    "birth_pdot1 = pdot1[index_unique_seed]\n",
    "birth_pdot2 = pdot2[index_unique_seed]\n",
    "\n",
    "# Floor: I am sure there is an even better way to do this, than this quick fix. \n",
    "# skip the first, add the length of the seeds for the last entry, then substract -1 to get the last of the previous\n",
    "final_seed = np.concatenate(((index_unique_seed[1:]), [len(pulsar_seeds)])) -1\n",
    "\n",
    "end_p1 = pulsar_period1[final_seed]\n",
    "end_p2 = pulsar_period2[final_seed]\n",
    "end_pdot1 = pdot2[final_seed]\n",
    "end_pdot2 = pdot2[final_seed]\n",
    "\n",
    "\n",
    "print('Data obtained')\n",
    "\n",
    "fig, axs = plt.subplots(1, 1)\n",
    "axs.set_xscale('log')\n",
    "axs.set_yscale('log')\n",
    "axs.set_xlim(5e-2,100)\n",
    "axs.set_ylim(1e-30,1e-10)\n",
    "axs.scatter(birth_p1, birth_pdot1, color='b' ,label='birth')\n",
    "axs.scatter(end_p1, end_pdot1, color='r',label='end')\n",
    "fig.legend(loc='upper right')\n",
    "fig.savefig('ppdo.eps')\n",
    "\n"
   ]
  },
  {
   "cell_type": "code",
   "execution_count": null,
   "id": "2e68b929",
   "metadata": {},
   "outputs": [],
   "source": []
  }
 ],
 "metadata": {
  "kernelspec": {
   "display_name": "Python 3",
   "language": "python",
   "name": "python3"
  },
  "language_info": {
   "codemirror_mode": {
    "name": "ipython",
    "version": 3
   },
   "file_extension": ".py",
   "mimetype": "text/x-python",
   "name": "python",
   "nbconvert_exporter": "python",
   "pygments_lexer": "ipython3",
   "version": "3.7.4"
  }
 },
 "nbformat": 4,
 "nbformat_minor": 5
}
