{
 "cells": [
  {
   "cell_type": "markdown",
   "id": "fff9753c",
   "metadata": {},
   "source": [
    "<div class=\"alert alert-block alert-info\">\n",
    "\n",
    "    \n",
    "# Material for a class Using Python Data on: Formation channels of Gravitational Waves (GWs)\n",
    "    \n",
    "In this jupyter notebook we will walk through and re-create some of the figures from https://arxiv.org/pdf/2112.05763 .  Specifically we will be recreating Figure 1, and once we have done that we can go into the specific projects  <br>\n",
    "\n",
    "\n",
    "\n",
    "Notebook by Floor Broekgaarden<br>\n",
    "<br>\n",
    "\n",
    "The original data can be found on Zenodo:<br>\n",
    "    For BBHs:  download COMPASCompactOutput_BBH_A.h5 from the `fiducial` folder on https://zenodo.org/records/5651073 <br>\n",
    "    And For BNS:  download COMPASCompactOutput_BNS_A.h5 from the `fiducial` folder on https://zenodo.org/records/5189849 <br> \n",
    "\n",
    "For this tutorial we have downloaded these files from the zenodo, I provide the example for the BHNS file. You will have to change this to work for your file (BNS or BBH):\n",
    "\n",
    "___\n",
    "\n",
    "\n"
   ]
  },
  {
   "cell_type": "code",
   "execution_count": 1,
   "id": "415ffe17",
   "metadata": {},
   "outputs": [
    {
     "data": {
      "text/html": [
       "<style>.container { width:100% !important; }</style>"
      ],
      "text/plain": [
       "<IPython.core.display.HTML object>"
      ]
     },
     "metadata": {},
     "output_type": "display_data"
    }
   ],
   "source": [
    "# reading in some basic parameters\n",
    "\n",
    "from IPython.display import display, HTML\n",
    "display(HTML(\"<style>.container { width:100% !important; }</style>\"))\n",
    "\n",
    "\n",
    "import h5py as h5\n",
    "import numpy as np\n",
    "import matplotlib.pyplot as plt\n",
    "\n",
    "\n"
   ]
  },
  {
   "cell_type": "markdown",
   "id": "782eb1b1",
   "metadata": {},
   "source": [
    "<div class=\"alert alert-block alert-warning\">\n",
    "\n",
    "Throughout this notebook and in class we will use several acronyms and definitions listed below    \n",
    "    \n",
    "    \n",
    "    \n",
    "### Definitions: \n",
    "    \n",
    "    \n",
    " - BBH: Binary Black Hole \n",
    " - BNS: Binary Neutron Star \n",
    " - GW: Gravitational Waves \n",
    " - DCO: Double Compact Object \n",
    " - BH: Black Hole\n",
    " - NS: Neutron Star\n",
    " - Primary: in this notebook always refers to the star that was most massive at the zero age main sequence (ZAMS)\n",
    " - Secondary: in this notebook always refers to the star that was least massive at the zero age main sequence (ZAMS)\n",
    " - ZAMS: Zero Age Main Sequence: this is in COMPAS where stars start their lives. \n",
    "    "
   ]
  },
  {
   "cell_type": "code",
   "execution_count": 2,
   "id": "52282c48",
   "metadata": {},
   "outputs": [],
   "source": [
    "## Change this line to read in the relevant data ###\n",
    "path  = '/Volumes/SimonsFoundation/DataDCO/fiducial/COMPASCompactOutput_BHNS_A.h5'\n"
   ]
  },
  {
   "cell_type": "code",
   "execution_count": null,
   "id": "148f2774",
   "metadata": {},
   "outputs": [],
   "source": []
  },
  {
   "cell_type": "code",
   "execution_count": 3,
   "id": "6f113486",
   "metadata": {},
   "outputs": [],
   "source": [
    "# some set up\n",
    "\n",
    "metallicityGrid =[0.0001, 0.00011, 0.00012, 0.00014, 0.00016, 0.00017,\\\n",
    "               0.00019, 0.00022, 0.00024, 0.00027, 0.0003, 0.00034, \\\n",
    "               0.00037, 0.00042, 0.00047, 0.00052, 0.00058, 0.00065,\\\n",
    "               0.00073, 0.00081, 0.0009, 0.00101, 0.00113, 0.00126,\\\n",
    "               0.0014, 0.00157, 0.00175, 0.00195, 0.00218, 0.00243, \\\n",
    "               0.00272, 0.00303, 0.00339, 0.00378, 0.00422, 0.00471, \\\n",
    "               0.00526, 0.00587, 0.00655, 0.00732, 0.00817, 0.00912, \\\n",
    "               0.01018, 0.01137, 0.01269, 0.01416, 0.01581, 0.01765, 0.01971, 0.022, 0.0244, 0.02705, 0.03]\n",
    "\n",
    "\n"
   ]
  },
  {
   "cell_type": "code",
   "execution_count": 4,
   "id": "450f913a",
   "metadata": {},
   "outputs": [],
   "source": [
    "\n",
    "\n",
    "\n",
    "\n",
    "\n",
    "\n",
    "\n",
    "def calculate_formation_efficiencies(path = '/Volumes/SimonsFoundation/DataDCO/fiducial/COMPASCompactOutput_BHNS_A.h5', metallicityGrid=[0.001]):\n",
    "\n",
    "\n",
    "        fdata = h5.File(path, 'r')\n",
    "        fDCO  = fdata['doubleCompactObjects']\n",
    "        \n",
    "        # some of the parameters that the data stores\n",
    "        metallicitySystems  = fDCO['Metallicity1'][...].squeeze()\n",
    "        delayTimes          = fDCO['tform'][...].squeeze() + \\\n",
    "                                   fDCO['tc'][...].squeeze() # delay time in Myr of the systems\n",
    "        tc                  = fDCO['tc'][...].squeeze() # coalescence time in Myr\n",
    "        mass1               = fDCO['M1'][...].squeeze() # mass of the primary compact object (initially most massive star)\n",
    "        mass2               = fDCO['M2'][...].squeeze() # mass of the secondary compact object (initially least massive star)\n",
    "        weights              = fDCO['weight'][...].squeeze() # weight of this sample (\"probability\")\n",
    "        m1zams              = fDCO['M1ZAMS'][...].squeeze() # initial mass of the primary at ZAMS \n",
    "        m2zams              = fDCO['M2ZAMS'][...].squeeze() # initial mass of the secondary at ZAMS \n",
    "        separationzams      = fDCO['separationInitial'][...].squeeze() # initial separation of the system at ZAMS \n",
    "        \n",
    "        unique_metallicities_simulation = np.unique(metallicitySystems)\n",
    "\n",
    "\n",
    "        meanMassEvolved = 77708655 # average mass that a simulation represents at a single metallicity\n",
    "\n",
    "\n",
    "        formation_efficiency           = np.zeros(len(metallicityGrid))  \n",
    "\n",
    "\n",
    "        # loop over the simulated metallicities\n",
    "        for nrZ, Z in enumerate(metallicityGrid): \n",
    "            if Z in unique_metallicities_simulation:\n",
    "                maskZ = (metallicitySystems == Z) # get all the systems that have this specific metallicity\n",
    "                formation_efficiency[nrZ] = (np.sum(weights[maskZ]))/meanMassEvolved  # //floor weights because not every binary in COMPAS is equally represented in the galaxy \n",
    "        \n",
    "        # this returns the formation efficiency in units per solar mass [Msun^-1]\n",
    "        return formation_efficiency\n",
    "\n",
    "\n",
    "\n"
   ]
  },
  {
   "cell_type": "markdown",
   "id": "0cb5882e",
   "metadata": {},
   "source": [
    "<div class=\"alert alert-block alert-warning\">\n",
    "\n",
    "    \n",
    "## Example 0: playing around with the BHNS data \n",
    "___\n",
    "below we show an example of how to obtain and plot the efficiencies \n",
    "\n"
   ]
  },
  {
   "cell_type": "code",
   "execution_count": null,
   "id": "04b4ef3b",
   "metadata": {},
   "outputs": [],
   "source": []
  },
  {
   "cell_type": "code",
   "execution_count": 5,
   "id": "01031d08",
   "metadata": {},
   "outputs": [],
   "source": [
    "fdata = h5.File(path, 'r')\n",
    "fDCO  = fdata['doubleCompactObjects']\n",
    "\n",
    "# some of  the parameters that the data stores\n",
    "metallicitySystems  = fDCO['Metallicity1'][...].squeeze()\n",
    "delayTimes          = fDCO['tform'][...].squeeze() + \\\n",
    "                           fDCO['tc'][...].squeeze() # delay time in Myr of the systems\n",
    "tc                  = fDCO['tc'][...].squeeze() # coalescence time in Myr\n",
    "mass1               = fDCO['M1'][...].squeeze() # mass of the primary compact object (initially most massive star)\n",
    "mass2               = fDCO['M2'][...].squeeze() # mass of the secondary compact object (initially least massive star)\n",
    "weights              = fDCO['weight'][...].squeeze() # weight of this sample (\"probability\")\n",
    "m1zams              = fDCO['M1ZAMS'][...].squeeze() # initial mass of the primary at ZAMS \n",
    "m2zams              = fDCO['M2ZAMS'][...].squeeze() # initial mass of the secondary at ZAMS \n",
    "separationzams      = fDCO['separationInitial'][...].squeeze() # initial separation of the system at ZAMS "
   ]
  },
  {
   "cell_type": "code",
   "execution_count": 6,
   "id": "eb6043ca",
   "metadata": {},
   "outputs": [
    {
     "name": "stdout",
     "output_type": "stream",
     "text": [
      "<KeysViewHDF5 ['M1', 'M1ZAMS', 'M2', 'M2ZAMS', 'Metallicity1', 'doubleCommonEnvelopeFlag', 'eccentricityDCOFormation', 'formaton channel', 'mergesInHubbleTimeFlag', 'optimisticCEFlag', 'seed', 'separationDCOFormation', 'separationInitial', 'stellarType1', 'stellarType2', 'tc', 'tform', 'weight']>\n",
      "0.0001\n",
      "20.8461\n",
      "16.9277\n",
      "3.93168\n",
      "1.27758\n"
     ]
    }
   ],
   "source": [
    "print(fDCO.keys())\n",
    "\n",
    "print((metallicitySystems[0]))\n",
    "print(m1zams[0])\n",
    "print(m2zams[0])\n",
    "print((mass1[0]))\n",
    "print((mass2[0]))"
   ]
  },
  {
   "cell_type": "code",
   "execution_count": 7,
   "id": "26da7abc",
   "metadata": {},
   "outputs": [
    {
     "name": "stdout",
     "output_type": "stream",
     "text": [
      "[ 3.93168 13.4491   2.20032 ...  4.06103  4.023    3.73859]\n",
      "\n",
      "[31.4423 26.3835 26.4491 28.9154 31.3155 30.8416 31.6823 27.5023 34.0008\n",
      " 36.3193 26.2425 36.9272 36.2825 25.2481 29.334  27.0376 28.4384 25.9026\n",
      " 25.202  27.1978 27.4471 29.7412 35.538  30.8256 27.1162 33.9881 26.5984\n",
      " 37.3449 27.9851 26.5063 27.9236 30.2821 25.218  33.0383 25.6897 25.0443\n",
      " 31.2296 25.6647 37.1002 25.9603 32.0962 26.9813 29.703  37.1731 27.2272\n",
      " 27.9357 36.4441 25.7    28.8008 25.2969 27.7228 39.2121 27.2038 25.347\n",
      " 30.268  31.4178 32.4385 28.9124 38.3715 36.2313 27.6647 27.9029 26.873\n",
      " 26.492  26.253  26.2733 28.0342 25.8912 28.1122 25.7771 26.8497 25.6974\n",
      " 25.3844 34.9943 26.4007 32.2907 32.2707 29.9929 27.7705]\n"
     ]
    },
    {
     "data": {
      "image/png": "[encoded data removed]",
      "text/plain": [
       "<Figure size 640x480 with 1 Axes>"
      ]
     },
     "metadata": {},
     "output_type": "display_data"
    }
   ],
   "source": [
    "mask_massiveBHNS = (mass1 > 25)  \n",
    "print(mass1)\n",
    "print()\n",
    "print(mass1[mask_massiveBHNS])\n",
    "\n",
    "plt.hist(mass1, weights=weights, bins =np.linspace(1,40,50))\n",
    "plt.hist(mass1[mask_massiveBHNS], weights=weights[mask_massiveBHNS], bins =np.linspace(1,40,50), color='orange')\n",
    "# plt.hist(mass2, weights=weights, bins =100)\n",
    "plt.xlabel(r'mass of compact object $m [M_{\\odot}]$')\n",
    "plt.ylim(0,10)\n",
    "plt.xlim(1,40)\n",
    "plt.show()"
   ]
  },
  {
   "cell_type": "code",
   "execution_count": 8,
   "id": "9096154e",
   "metadata": {},
   "outputs": [
    {
     "name": "stdout",
     "output_type": "stream",
     "text": [
      "[ 3.93168 13.4491   2.20032 ...  4.06103  4.023    3.73859]\n",
      "\n",
      "[31.4423 26.3835 26.4491 28.9154 31.3155 30.8416 31.6823 27.5023 34.0008\n",
      " 36.3193 26.2425 36.9272 36.2825 25.2481 29.334  27.0376 28.4384 25.9026\n",
      " 25.202  27.1978 27.4471 29.7412 35.538  30.8256 27.1162 33.9881 26.5984\n",
      " 37.3449 27.9851 26.5063 27.9236 30.2821 25.218  33.0383 25.6897 25.0443\n",
      " 31.2296 25.6647 37.1002 25.9603 32.0962 26.9813 29.703  37.1731 27.2272\n",
      " 27.9357 36.4441 25.7    28.8008 25.2969 27.7228 39.2121 27.2038 25.347\n",
      " 30.268  31.4178 32.4385 28.9124 38.3715 36.2313 27.6647 27.9029 26.873\n",
      " 26.492  26.253  26.2733 28.0342 25.8912 28.1122 25.7771 26.8497 25.6974\n",
      " 25.3844 34.9943 26.4007 32.2907 32.2707 29.9929 27.7705]\n"
     ]
    },
    {
     "data": {
      "image/png": "[encoded data removed]",
      "text/plain": [
       "<Figure size 640x480 with 1 Axes>"
      ]
     },
     "metadata": {},
     "output_type": "display_data"
    }
   ],
   "source": [
    "mask_massiveBHNS = (mass1 > 25)  \n",
    "print(mass1)\n",
    "print()\n",
    "print(mass1[mask_massiveBHNS])\n",
    "\n",
    "plt.hist(m1zams, weights=weights, bins =np.linspace(1,80,100))\n",
    "plt.hist(m1zams[mask_massiveBHNS], weights=weights[mask_massiveBHNS], bins =np.linspace(1,80,100), color='orange')\n",
    "# plt.hist(mass2, weights=weights, bins =100)\n",
    "plt.xlabel(r'mass of star 1 at ZAMS $m [M_{\\odot}]$')\n",
    "plt.ylim(0,10)\n",
    "plt.xlim(1,100)\n",
    "plt.show()"
   ]
  },
  {
   "cell_type": "code",
   "execution_count": 9,
   "id": "e9fae074",
   "metadata": {},
   "outputs": [
    {
     "data": {
      "text/plain": [
       "(array([9.89720e+04, 1.02826e+05, 9.39820e+04, 1.21982e+05, 1.06671e+05,\n",
       "        5.63920e+04, 1.35580e+05, 8.09110e+04, 9.48590e+04, 9.16980e+04,\n",
       "        9.37530e+04, 0.00000e+00, 8.87820e+04, 9.17540e+04, 0.00000e+00,\n",
       "        9.44220e+04, 8.83950e+04, 0.00000e+00, 3.41200e+04, 0.00000e+00,\n",
       "        0.00000e+00, 2.08880e+04, 0.00000e+00, 1.38220e+04, 0.00000e+00,\n",
       "        0.00000e+00, 6.73100e+03, 0.00000e+00, 0.00000e+00, 3.53200e+03,\n",
       "        0.00000e+00, 0.00000e+00, 1.74300e+03, 0.00000e+00, 0.00000e+00,\n",
       "        0.00000e+00, 3.80000e+01, 0.00000e+00, 0.00000e+00, 0.00000e+00,\n",
       "        1.70000e+01, 0.00000e+00, 0.00000e+00, 0.00000e+00, 0.00000e+00,\n",
       "        1.00000e+00, 0.00000e+00, 0.00000e+00, 0.00000e+00, 4.00000e+00]),\n",
       " array([0.0001  , 0.000698, 0.001296, 0.001894, 0.002492, 0.00309 ,\n",
       "        0.003688, 0.004286, 0.004884, 0.005482, 0.00608 , 0.006678,\n",
       "        0.007276, 0.007874, 0.008472, 0.00907 , 0.009668, 0.010266,\n",
       "        0.010864, 0.011462, 0.01206 , 0.012658, 0.013256, 0.013854,\n",
       "        0.014452, 0.01505 , 0.015648, 0.016246, 0.016844, 0.017442,\n",
       "        0.01804 , 0.018638, 0.019236, 0.019834, 0.020432, 0.02103 ,\n",
       "        0.021628, 0.022226, 0.022824, 0.023422, 0.02402 , 0.024618,\n",
       "        0.025216, 0.025814, 0.026412, 0.02701 , 0.027608, 0.028206,\n",
       "        0.028804, 0.029402, 0.03    ]),\n",
       " <BarContainer object of 50 artists>)"
      ]
     },
     "execution_count": 9,
     "metadata": {},
     "output_type": "execute_result"
    },
    {
     "data": {
      "image/png": "[encoded data removed]",
      "text/plain": [
       "<Figure size 640x480 with 1 Axes>"
      ]
     },
     "metadata": {},
     "output_type": "display_data"
    }
   ],
   "source": [
    "plt.hist(metallicitySystems, 50)"
   ]
  },
  {
   "cell_type": "code",
   "execution_count": null,
   "id": "baa605f7",
   "metadata": {},
   "outputs": [],
   "source": []
  },
  {
   "cell_type": "markdown",
   "id": "ba077ba5",
   "metadata": {},
   "source": [
    "<div class=\"alert alert-block alert-warning\">\n",
    "\n",
    "    \n",
    "## Example 1: plotting efficiencies for BHNS  \n",
    "___\n",
    "below we show an example of how to obtain and plot the efficiencies \n",
    "\n"
   ]
  },
  {
   "cell_type": "code",
   "execution_count": 10,
   "id": "fb780872",
   "metadata": {},
   "outputs": [],
   "source": [
    "\n",
    "\n",
    "formation_efficiency = calculate_formation_efficiencies(path=path, metallicityGrid=metallicityGrid) \n",
    "\n",
    "\n",
    "\n",
    "\n"
   ]
  },
  {
   "cell_type": "code",
   "execution_count": 11,
   "id": "b1b8d109",
   "metadata": {},
   "outputs": [
    {
     "name": "stdout",
     "output_type": "stream",
     "text": [
      "The formation efficiencies in units of solar masses formed is:\n",
      "[1.57133427e-06 2.00897514e-06 2.13276018e-06 2.14876631e-06\n",
      " 2.17140990e-06 2.22201074e-06 2.13165985e-06 2.36348544e-06\n",
      " 2.26968779e-06 2.67359515e-06 2.88949184e-06 3.24977224e-06\n",
      " 3.38118798e-06 3.95335542e-06 4.35249435e-06 4.68638744e-06\n",
      " 4.86026849e-06 5.01524452e-06 5.05309244e-06 5.29284207e-06\n",
      " 4.82322215e-06 5.24642137e-06 6.70475457e-06 8.20844503e-06\n",
      " 9.07500263e-06 9.87577253e-06 1.02607443e-05 1.09375616e-05\n",
      " 1.13968083e-05 1.17237942e-05 1.19382597e-05 1.19688118e-05\n",
      " 1.13593610e-05 1.07660479e-05 1.02440758e-05 9.73840300e-06\n",
      " 9.59825123e-06 9.43046601e-06 9.02224433e-06 9.03766390e-06\n",
      " 8.72642983e-06 7.78498486e-06 6.68925568e-06 4.91601137e-06\n",
      " 3.90094466e-06 2.80120404e-06 1.92512491e-06 1.22951536e-06\n",
      " 8.77808593e-07 4.74249447e-08 1.80861100e-08 3.94889492e-10\n",
      " 1.09266431e-08] [Msun^-1]\n",
      "\n",
      "the corresponding metallicities are:\n",
      "[0.0001, 0.00011, 0.00012, 0.00014, 0.00016, 0.00017, 0.00019, 0.00022, 0.00024, 0.00027, 0.0003, 0.00034, 0.00037, 0.00042, 0.00047, 0.00052, 0.00058, 0.00065, 0.00073, 0.00081, 0.0009, 0.00101, 0.00113, 0.00126, 0.0014, 0.00157, 0.00175, 0.00195, 0.00218, 0.00243, 0.00272, 0.00303, 0.00339, 0.00378, 0.00422, 0.00471, 0.00526, 0.00587, 0.00655, 0.00732, 0.00817, 0.00912, 0.01018, 0.01137, 0.01269, 0.01416, 0.01581, 0.01765, 0.01971, 0.022, 0.0244, 0.02705, 0.03]\n"
     ]
    }
   ],
   "source": [
    "print('The formation efficiencies in units of solar masses formed is:')\n",
    "print(formation_efficiency, '[Msun^-1]' ) \n",
    "print()\n",
    "print('the corresponding metallicities are:')\n",
    "print(metallicityGrid)\n"
   ]
  },
  {
   "cell_type": "code",
   "execution_count": 12,
   "id": "6e8e4801",
   "metadata": {},
   "outputs": [],
   "source": [
    "# lets plot it "
   ]
  },
  {
   "cell_type": "code",
   "execution_count": 13,
   "id": "c23736a1",
   "metadata": {},
   "outputs": [
    {
     "data": {
      "image/png": "[encoded data removed]",
      "text/plain": [
       "<Figure size 640x480 with 1 Axes>"
      ]
     },
     "metadata": {},
     "output_type": "display_data"
    }
   ],
   "source": [
    "\n",
    "plt.plot(metallicityGrid, formation_efficiency,  lw=3, marker='o', color='orange')\n",
    "plt.xlabel('metallicity ')\n",
    "plt.ylabel('BHNS efficiency $[Msun]^{-1}$')\n",
    "plt.yscale('log')\n",
    "plt.xscale('log')\n",
    "plt.ylim(1E-8, 1E-4)\n",
    "plt.show()\n",
    "\n",
    "\n",
    "\n",
    "\n",
    "\n"
   ]
  },
  {
   "cell_type": "markdown",
   "id": "1148b9ca",
   "metadata": {},
   "source": [
    "<div class=\"alert alert-block alert-warning\">\n",
    "\n",
    " \n",
    "___\n",
    "Tada! We got Figure 1\n"
   ]
  },
  {
   "cell_type": "markdown",
   "id": "3d36dd60",
   "metadata": {},
   "source": [
    "<div class=\"alert alert-block alert-info\">\n",
    "\n",
    "    \n",
    "\n",
    "    \n",
    "# Project Descriptions:\n",
    "\n",
    "\n",
    "\n",
    "### Meera:\n",
    "The above is for BHNS, and only shows the efficiencies for all BHNS formed. It would be really interesting to see instead these efficiencies for BBH systems. <br>\n",
    "In addition, a big open question is how these efficiencies depend on the black hole *masses*. It would be great if you could investigate this\n",
    "This will help answer some of the big open questions such as: how do LIGO's black holes form? Which black holes form from which stars? \n",
    "\n",
    "\n",
    "### Khushi:\n",
    "The above is for BHNS, and only shows the efficiencies for all BHNS formed. It would be really interesting to see instead these efficiencies for BNS systems. <br>\n",
    "In addition, a big open question is how these efficiencies depend on the binary neutron star *delay times*. It would be great if you could investigate this\n",
    "This will help answer some of the big open questions such as: how do LIGOs binary neutron stars form? How can binary neutron stars enrich the Universe? Is more gold produced at early times compared to later in the Universe?\n",
    "    \n",
    "\n",
    "___\n",
    "\n",
    "\n"
   ]
  },
  {
   "cell_type": "code",
   "execution_count": null,
   "id": "31764511",
   "metadata": {},
   "outputs": [],
   "source": []
  }
 ],
 "metadata": {
  "kernelspec": {
   "display_name": "Python 3 (ipykernel)",
   "language": "python",
   "name": "python3"
  },
  "language_info": {
   "codemirror_mode": {
    "name": "ipython",
    "version": 3
   },
   "file_extension": ".py",
   "mimetype": "text/x-python",
   "name": "python",
   "nbconvert_exporter": "python",
   "pygments_lexer": "ipython3",
   "version": "3.9.16"
  }
 },
 "nbformat": 4,
 "nbformat_minor": 5
}
