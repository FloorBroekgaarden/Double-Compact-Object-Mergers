{
 "cells": [
  {
   "cell_type": "code",
   "execution_count": 4,
   "metadata": {},
   "outputs": [
    {
     "data": {
      "text/html": [
       "<style>.container { width:100% !important; }</style>"
      ],
      "text/plain": [
       "<IPython.core.display.HTML object>"
      ]
     },
     "metadata": {},
     "output_type": "display_data"
    }
   ],
   "source": [
    "# import sys\n",
    "# sys.path.append('../Scripts')\n",
    "# from PostProcessingScripts import * \n",
    "# import pandas as pd \n",
    "# import string \n",
    "# just to make the cells appear wider:\n",
    "from IPython.display import display, HTML\n",
    "display(HTML(\"<style>.container { width:100% !important; }</style>\"))\n",
    "\n",
    "\n",
    "\n",
    "import h5py as h5\n",
    "import numpy as np\n",
    "import os\n",
    "import matplotlib.pyplot as plt\n",
    "import pandas as pd\n",
    "import string\n"
   ]
  },
  {
   "cell_type": "code",
   "execution_count": null,
   "metadata": {},
   "outputs": [],
   "source": []
  },
  {
   "cell_type": "code",
   "execution_count": null,
   "metadata": {},
   "outputs": [],
   "source": []
  },
  {
   "cell_type": "code",
   "execution_count": 2,
   "metadata": {},
   "outputs": [],
   "source": [
    "class COMPASData(object):\n",
    "    \"\"\" this class reads in datafile & gives you M1 and M2 and some other things \"\"\"\n",
    "\n",
    "    def __init__(self, path=None, lazyData=True, Mlower=5., \\\n",
    "                 Mupper=150., binaryFraction=1):\n",
    "        self.path                = path\n",
    "        if (self.path is None):\n",
    "            print(\"Just to double check you create instance of ClassCOMPAS without path/Data\")\n",
    "        elif not  os.path.isfile(path):\n",
    "            raise ValueError(\"h5 file not found. Wrong path given?\", \"path given = %s\"%path)\n",
    "        elif os.path.isfile(path):\n",
    "            self.h5file           = h5.File(path)\n",
    "        # old code with fixed COMPAS h5 filename:\n",
    "        #\n",
    "        # elif not  os.path.isfile(path+'COMPASOutput.h5'):\n",
    "        #     raise ValueError(\"h5 file not found. Wrong path given?\", \"path given = %s\"%path)\n",
    "        # elif os.path.isfile(path+'COMPASOutput.h5'):\n",
    "        #     self.h5file           = h5.File(path+'COMPASOutput.h5')\n",
    "\n",
    "\n",
    "\n",
    "        #Crucial values to be able to calculate MSSFR\n",
    "        self.metallicityGrid     = None\n",
    "        self.metallicitySystems  = None\n",
    "        self.delayTimes          = None\n",
    "        #Crucial values I need for selection effects\n",
    "        self.mass1               = None\n",
    "        self.mass2               = None\n",
    "\n",
    "        self.m1zams               = None\n",
    "        self.m2zams               = None\n",
    "        self.separationzams       = None\n",
    "\n",
    "        self.weight              = None  # //floor\n",
    "        self.DCOmask             = None\n",
    "\n",
    "        #Additional arrays that might be nice to store\n",
    "        #to more quickly make some plots.\n",
    "        #If you need more memory might help a tiny bit to not do\n",
    "        self.lazyData            = lazyData\n",
    "        self.pessimictic_allDCO  = None  #which of all DCO are pessimistic\n",
    "        self.pessimictic_subSet  = None  #which of the systems calculated are pessimistic\n",
    "        self.mChirp              = None\n",
    "        self.q                   = None\n",
    "        self.eccentricityDCOFormation = None\n",
    "        self.separationDCOFormation =None\n",
    "        self.tc                  = None\n",
    "        self.seeds               = None\n",
    "        self.systemicVelocity    = None\n",
    "\n",
    "        self.Mlower              = Mlower\n",
    "        self.Mupper              = Mupper\n",
    "        self.binaryFraction      = binaryFraction\n",
    "        self.totalMassEvolvedPerZ = None\n",
    "        \n",
    "#         if self.path is not None:\n",
    "#            self.setGridAndMassEvolved()        \n",
    "\n",
    "#         print(\"Remember to  self.setCOMPASDCOmask() and self.setCOMPASData()\")\n",
    "\n",
    "    \n",
    "    def setCOMPASDCOmask(self, types='BBH', withinHubbleTime=True, optimistic=False):\n",
    "            #We do not want all the formation channels just the ones that form BBHs\n",
    "            fDCO    = self.h5file['doubleCompactObjects']\n",
    "            if types == 'BBH':\n",
    "                maskTypes = (fDCO['stellarType1'][...].squeeze() == 14) &\\\n",
    "                            (fDCO['stellarType2'][...].squeeze() == 14)\n",
    "            elif types == 'BNS':\n",
    "                maskTypes = (fDCO['stellarType1'][...].squeeze() == 13) &\\\n",
    "                            (fDCO['stellarType2'][...].squeeze() == 13)\n",
    "            elif types == 'BHNS':\n",
    "                maskTypes = ((fDCO['stellarType1'][...].squeeze() == 14) &\\\n",
    "                            (fDCO['stellarType2'][...].squeeze() == 13)) |\\\n",
    "                            ((fDCO['stellarType1'][...].squeeze() == 13) &\\\n",
    "                            (fDCO['stellarType2'][...].squeeze() == 14))\n",
    "            elif types == 'ALL':\n",
    "                maskTypes = ((fDCO['stellarType1'][...].squeeze() == 14) |\\\n",
    "                            (fDCO['stellarType1'][...].squeeze() == 13)) &\\\n",
    "                            ((fDCO['stellarType2'][...].squeeze() == 13) |\\\n",
    "                            (fDCO['stellarType2'][...].squeeze() == 14))\n",
    "            else:\n",
    "                raise ValueError('types=%s not in BBH, BNS, BHNS' %(types))         \n",
    "            if withinHubbleTime == True:\n",
    "                maskHubble = (fDCO['mergesInHubbleTimeFlag'][...].squeeze()==True)\n",
    "            else:\n",
    "                #Array where all are true\n",
    "                maskHubble = np.ones(len(fDCO['mergesInHubbleTimeFlag'][...].squeeze()), dtype=bool)\n",
    "                              \n",
    "            if optimistic == True:\n",
    "                #we do not care about the optimistic flag (both False and True allowed)\n",
    "                #Array where all are true\n",
    "                maskOptimistic = np.ones(len(fDCO['optimisticCEFlag'][...].squeeze()), dtype=bool)\n",
    "            else:\n",
    "                #optimistic scenario not allowed (pessimistic) hence the flag must be false\n",
    "                #This removes systems with CEE from HG donors (no core envelope separation)\n",
    "                maskOptimistic = fDCO['optimisticCEFlag'][...].squeeze() == False\n",
    "                              \n",
    "            #we never want in first timestep after CEE, because \n",
    "            #we define it as a system that should not have survived the CEE\n",
    "            maskNoRLOFafterCEE =  (fDCO['RLOFSecondaryAfterCEE'][...].squeeze()==False)\n",
    "                              \n",
    "\n",
    "            self.DCOmask = maskTypes & maskHubble & maskOptimistic & maskNoRLOFafterCEE\n",
    "\n",
    "#     def setGridAndMassEvolved(self):\n",
    "    \n",
    "#         #The COMPAS simulation does not evolve all stars \n",
    "#         #give me the correction factor for the total mass evolved\n",
    "#         #I assume each metallicity has the same limits, and does correction\n",
    "#         #factor, but the total mass evolved might be different.\n",
    "#         #This does not change when we change types and other masks this is \n",
    "#         #general to the entire simulation so calculate once\n",
    "#         _, self.totalMassEvolvedPerZ =\\\n",
    "#         MPZ.totalMassEvolvedPerZ(pathCOMPASh5=self.path , Mlower=self.Mlower, \\\n",
    "#                                  Mupper=self.Mupper, binaryFraction=self.binaryFraction)\n",
    "#         #Want to recover entire metallicity grid, assume that every metallicity\n",
    "#         #evolved shows in all systems again should not change within same run\n",
    "#         #so dont redo if we reset the data\n",
    "#         metallicities = self.h5file['systems']['Metallicity1'][...].squeeze()\n",
    "#         self.metallicityGrid     = np.unique(metallicities)\n",
    "\n",
    "\n",
    "    def setCOMPASData(self):\n",
    "        fDCO      = self.h5file['doubleCompactObjects']\n",
    "        #Stuff I need for cosmological integral\n",
    "        \n",
    "\n",
    "        #sorry not the prettiest line is a boolean slice of seeds\n",
    "        #this only works because seeds in systems file and DCO file are printed\n",
    "        #in same order\n",
    "\n",
    "        #TODO more elegant slicing not unpack all and then mask \n",
    "        #something like f[M1][mask][...] but the the way I setup DCO mask needs different shape\n",
    "        #metallicities = metallicities[np.in1d(self.h5file['systems']['SEED'][...].squeeze(),\\\n",
    "        #                        fDCO['seed'][...].squeeze()[self.DCOmask])]\n",
    "        \n",
    "        self.metallicitySystems  = fDCO['Metallicity1'][...].squeeze()[self.DCOmask]\n",
    "        self.delayTimes          = fDCO['tform'][...].squeeze()[self.DCOmask] + \\\n",
    "                                   fDCO['tc'][...].squeeze()[self.DCOmask]\n",
    "        self.tc                  = fDCO['tc'][...].squeeze()[self.DCOmask]\n",
    "        self.mass1               = fDCO['M1'][...].squeeze()[self.DCOmask]\n",
    "        self.mass2               = fDCO['M2'][...].squeeze()[self.DCOmask]\n",
    "        self.weight              = fDCO['weight'][...].squeeze()[self.DCOmask] # //floor\n",
    "        self.m1zams              = fDCO['M1ZAMS'][...].squeeze()[self.DCOmask]\n",
    "        self.m2zams              = fDCO['M2ZAMS'][...].squeeze()[self.DCOmask]\n",
    "        self.separationzams      = fDCO['separationInitial'][...].squeeze()[self.DCOmask]\n",
    "\n",
    "\n",
    "        \n",
    "\n",
    "        \n",
    "\n",
    "        #Stuff of data I dont need for integral\n",
    "        #but I might be to laze to read in myself\n",
    "        #and often use. Might turn it of for memory efficiency\n",
    "        if self.lazyData:\n",
    "            self.pessimictic_allDCO  = fDCO['optimisticCEFlag'][...].squeeze()==False\n",
    "            self.pessimictic_subSet  = fDCO['optimisticCEFlag'][...].squeeze()[self.DCOmask]==False\n",
    "            self.q                   = np.divide(self.mass2, self.mass1)\n",
    "            boolq                    = self.mass2 > self.mass1\n",
    "            self.q[boolq]            = np.divide(self.mass1[boolq], self.mass2[boolq])\n",
    "            self.mChirp = np.divide((np.multiply(self.mass2, self.mass1)**(3./5.) ),\\\n",
    "                                           (np.add(self.mass2, self.mass1)**(1./5.)))\n",
    "\n",
    "            self.separationDCOFormation= fDCO['separationDCOFormation'][...].squeeze()[self.DCOmask]\n",
    "            self.eccentricityDCOFormation= fDCO['eccentricityDCOFormation'][...].squeeze()[self.DCOmask]\n",
    "            self.seeds               = fDCO['seed'][...].squeeze()[self.DCOmask]\n",
    "            self.Hubble              = fDCO['mergesInHubbleTimeFlag'][...].squeeze()[self.DCOmask]\n",
    "\n",
    "            fSN     = self.h5file['supernovae']\n",
    "            seedsSN = fSN ['randomSeed'][...].squeeze()\n",
    "            bools = np.in1d(seedsSN, self.seeds)\n",
    "            self.systemicVelocity    = fSN['systemicVelocity'][...].squeeze()[bools]\n",
    "\n",
    "\n",
    "#     def setGridAndMassEvolved(self):\n",
    "\n",
    "#         #The COMPAS simulation does not evolve all stars \n",
    "#         #give me the correction factor for the total mass evolved\n",
    "#         #I assume each metallicity has the same limits, and does correction\n",
    "#         #factor, but the total mass evolved might be different.\n",
    "#         #This does not change when we change types and other masks this is \n",
    "#         #general to the entire simulation so calculate once\n",
    "#         _, self.totalMassEvolvedPerZ =\\\n",
    "#         MPZ.totalMassEvolvedPerZ(pathCOMPASh5=self.path , Mlower=self.Mlower, \\\n",
    "#                                  Mupper=self.Mupper, binaryFraction=self.binaryFraction)\n",
    "#         #Want to recover entire metallicity grid, assume that every metallicity\n",
    "#         #evolved shows in all systems again should not change within same run\n",
    "#         #so dont redo if we reset the data\n",
    "#         metallicities = self.h5file['systems']['Metallicity1'][...].squeeze()\n",
    "#         self.metallicityGrid     = np.unique(metallicities)\n"
   ]
  },
  {
   "cell_type": "code",
   "execution_count": 4,
   "metadata": {},
   "outputs": [
    {
     "name": "stdout",
     "output_type": "stream",
     "text": [
      "BHBH_COMPAS_model_A.pdf\n",
      "BHBH_COMPAS_model_A.png\n",
      "BHNS_COMPAS_model_A.png\n",
      "ClassCOMPAS.py\n",
      "FastCosmicIntegration.py\n",
      "Load Efficiently COMPAS pulsar data .ipynb\n",
      "README_DCOs.txt\n",
      "SNR_Grid_IMRPhenomPv2_FD_all_noise.hdf5\n",
      "Untitled.ipynb\n",
      "\u001b[34m__pycache__\u001b[m\u001b[m\n",
      "demo_black_hole_spins_for_pop_synth.ipynb\n",
      "demo_calculate_formation_efficiency_per_solar_mass_evolved.ipynb\n",
      "demo_caution_with_log_tdelay.ipynb\n",
      "demo_plotting_BHNS_distributions_for_LVK.ipynb\n",
      "demo_plotting_BHNS_distributions_for_astrophysical_and_LVK-population.ipynb\n",
      "ppdo.eps\n",
      "reading_in_basic_parameters_hdf5_datafile-Copy1.ipynb\n",
      "reading_in_basic_parameters_hdf5_datafile-Copy2.ipynb\n",
      "reading_in_basic_parameters_hdf5_datafile.ipynb\n",
      "selection_effects.py\n",
      "totalMassEvolvedPerZ.py\n",
      "/Users/floorbroekgaarden/Projects/GitHub/Double-Compact-Object-Mergers/demo_read_hdf5_file\n"
     ]
    }
   ],
   "source": [
    "\n",
    "\n",
    "\n",
    "!ls\n",
    "\n",
    "! pwd"
   ]
  },
  {
   "cell_type": "markdown",
   "metadata": {},
   "source": [
    "# 3 \"The Big file\" with all the data points: Note that my data is weighted!\n",
    "\n",
    "all lines of code that you might have to change are given with \"# change this line! \" "
   ]
  },
  {
   "cell_type": "code",
   "execution_count": 11,
   "metadata": {
    "scrolled": false
   },
   "outputs": [
    {
     "name": "stdout",
     "output_type": "stream",
     "text": [
      "<KeysViewHDF5 ['BSE_Common_Envelopes', 'BSE_Double_Compact_Objects', 'BSE_RLOF', 'BSE_Supernovae', 'BSE_System_Parameters', 'Run_Details']>\n",
      "BSE_Common_Envelopes\n",
      "[  0   1   2   3   7  10  13  15  18  19  22  24  26  27  28  33  35  36\n",
      "  37  38  40  42  43  45  46  48  49  51  52  54  62  63  64  65  69  71\n",
      "  72  73  75  77  79  82  83  84  86  87  89  92  95  97  99 100 103 104\n",
      " 105 107 108 109 110 112 116 117 119 120 121 123 125 129 130 131 136 138\n",
      " 140 141 146 147 151 153 155 156 158 160 162 163 165 166 167 168 171 173\n",
      " 174 175 176 177 179 181 182 183 184 187 189 191 192 193 194 198 199 202\n",
      " 205 207 208 210 211 213 214 215 217 218 219 220 221 222 224 225 227 228\n",
      " 229 230 233 235 237 239 241 242 245]\n",
      "\n",
      "\n",
      "BSE_Double_Compact_Objects\n",
      "[  6  11  50  61  83  98 104 115 118 122 135 144 166 171 212 216 223 226\n",
      " 236 240 244]\n",
      "\n",
      "\n",
      "BSE_RLOF\n",
      "[  0   1   2 ... 244 244 245]\n",
      "\n",
      "\n",
      "BSE_Supernovae\n",
      "[  4   5   6   6   8   8   9  11  11  12  13  14  16  17  20  20  21  23\n",
      "  24  25  29  30  31  32  33  34  39  39  40  41  44  47  50  50  53  55\n",
      "  56  57  58  59  60  60  61  61  66  68  70  74  74  78  81  83  83  85\n",
      "  88  88  90  91  93  94  96  96  98  98 100 101 101 102 103 104 104 106\n",
      " 109 111 113 115 115 118 118 120 122 122 124 126 126 128 128 132 133 134\n",
      " 134 135 135 136 137 139 139 142 144 144 145 146 148 152 153 154 155 156\n",
      " 157 159 164 166 166 167 169 171 171 178 185 185 186 188 190 193 193 195\n",
      " 200 201 202 202 203 204 204 205 206 209 212 212 216 216 219 223 223 226\n",
      " 226 231 232 235 235 236 236 238 240 240 243 244 244]\n",
      "\n",
      "\n",
      "BSE_System_Parameters\n",
      "[  0   1   2   3   4   5   6   7   8   9  10  11  12  13  14  15  16  17\n",
      "  18  19  20  21  22  23  24  25  26  27  28  29  30  31  32  33  34  35\n",
      "  36  37  38  39  40  41  42  43  44  45  46  47  48  49  50  51  52  53\n",
      "  54  55  56  57  58  59  60  61  62  63  64  65  66  67  68  69  70  71\n",
      "  72  73  74  75  76  77  78  79  80  81  82  83  84  85  86  87  88  89\n",
      "  90  91  92  93  94  95  96  97  98  99 100 101 102 103 104 105 106 107\n",
      " 108 109 110 111 112 113 114 115 116 117 118 119 120 121 122 123 124 125\n",
      " 126 127 128 129 130 131 132 133 134 135 136 137 138 139 140 141 142 143\n",
      " 144 145 146 147 148 149 150 151 152 153 154 155 156 157 158 159 160 161\n",
      " 162 163 164 165 166 167 168 169 170 171 172 173 174 175 176 177 178 179\n",
      " 180 181 182 183 184 185 186 187 188 189 190 191 192 193 194 195 196 197\n",
      " 198 199 200 201 202 203 204 205 206 207 208 209 210 211 212 213 214 215\n",
      " 216 217 218 219 220 221 222 223 224 225 226 227 228 229 230 231 232 233\n",
      " 234 235 236 237 238 239 240 241 242 243 244 245]\n",
      "\n",
      "\n",
      "Run_Details\n"
     ]
    },
    {
     "ename": "KeyError",
     "evalue": "\"Unable to open object (object 'SEED' doesn't exist)\"",
     "output_type": "error",
     "traceback": [
      "\u001b[0;31m---------------------------------------------------------------------------\u001b[0m",
      "\u001b[0;31mKeyError\u001b[0m                                  Traceback (most recent call last)",
      "Cell \u001b[0;32mIn[11], line 18\u001b[0m\n\u001b[1;32m     16\u001b[0m \u001b[38;5;28;01mfor\u001b[39;00m keys \u001b[38;5;129;01min\u001b[39;00m fdata\u001b[38;5;241m.\u001b[39mkeys():\n\u001b[1;32m     17\u001b[0m     \u001b[38;5;28mprint\u001b[39m(keys)\n\u001b[0;32m---> 18\u001b[0m     SEED \u001b[38;5;241m=\u001b[39m  \u001b[43mfdata\u001b[49m\u001b[43m[\u001b[49m\u001b[43mkeys\u001b[49m\u001b[43m]\u001b[49m\u001b[43m[\u001b[49m\u001b[38;5;124;43m'\u001b[39;49m\u001b[38;5;124;43mSEED\u001b[39;49m\u001b[38;5;124;43m'\u001b[39;49m\u001b[43m]\u001b[49m[()]\n\u001b[1;32m     19\u001b[0m     \u001b[38;5;28mprint\u001b[39m(SEED)\n\u001b[1;32m     20\u001b[0m     \u001b[38;5;28mprint\u001b[39m(\u001b[38;5;124m'\u001b[39m\u001b[38;5;130;01m\\n\u001b[39;00m\u001b[38;5;124m'\u001b[39m)\n",
      "File \u001b[0;32mh5py/_objects.pyx:54\u001b[0m, in \u001b[0;36mh5py._objects.with_phil.wrapper\u001b[0;34m()\u001b[0m\n",
      "File \u001b[0;32mh5py/_objects.pyx:55\u001b[0m, in \u001b[0;36mh5py._objects.with_phil.wrapper\u001b[0;34m()\u001b[0m\n",
      "File \u001b[0;32m/Library/Frameworks/Python.framework/Versions/3.11/lib/python3.11/site-packages/h5py/_hl/group.py:328\u001b[0m, in \u001b[0;36mGroup.__getitem__\u001b[0;34m(self, name)\u001b[0m\n\u001b[1;32m    326\u001b[0m         \u001b[38;5;28;01mraise\u001b[39;00m \u001b[38;5;167;01mValueError\u001b[39;00m(\u001b[38;5;124m\"\u001b[39m\u001b[38;5;124mInvalid HDF5 object reference\u001b[39m\u001b[38;5;124m\"\u001b[39m)\n\u001b[1;32m    327\u001b[0m \u001b[38;5;28;01melif\u001b[39;00m \u001b[38;5;28misinstance\u001b[39m(name, (\u001b[38;5;28mbytes\u001b[39m, \u001b[38;5;28mstr\u001b[39m)):\n\u001b[0;32m--> 328\u001b[0m     oid \u001b[38;5;241m=\u001b[39m \u001b[43mh5o\u001b[49m\u001b[38;5;241;43m.\u001b[39;49m\u001b[43mopen\u001b[49m\u001b[43m(\u001b[49m\u001b[38;5;28;43mself\u001b[39;49m\u001b[38;5;241;43m.\u001b[39;49m\u001b[43mid\u001b[49m\u001b[43m,\u001b[49m\u001b[43m \u001b[49m\u001b[38;5;28;43mself\u001b[39;49m\u001b[38;5;241;43m.\u001b[39;49m\u001b[43m_e\u001b[49m\u001b[43m(\u001b[49m\u001b[43mname\u001b[49m\u001b[43m)\u001b[49m\u001b[43m,\u001b[49m\u001b[43m \u001b[49m\u001b[43mlapl\u001b[49m\u001b[38;5;241;43m=\u001b[39;49m\u001b[38;5;28;43mself\u001b[39;49m\u001b[38;5;241;43m.\u001b[39;49m\u001b[43m_lapl\u001b[49m\u001b[43m)\u001b[49m\n\u001b[1;32m    329\u001b[0m \u001b[38;5;28;01melse\u001b[39;00m:\n\u001b[1;32m    330\u001b[0m     \u001b[38;5;28;01mraise\u001b[39;00m \u001b[38;5;167;01mTypeError\u001b[39;00m(\u001b[38;5;124m\"\u001b[39m\u001b[38;5;124mAccessing a group is done with bytes or str, \u001b[39m\u001b[38;5;124m\"\u001b[39m\n\u001b[1;32m    331\u001b[0m                     \u001b[38;5;124m\"\u001b[39m\u001b[38;5;124m not \u001b[39m\u001b[38;5;132;01m{}\u001b[39;00m\u001b[38;5;124m\"\u001b[39m\u001b[38;5;241m.\u001b[39mformat(\u001b[38;5;28mtype\u001b[39m(name)))\n",
      "File \u001b[0;32mh5py/_objects.pyx:54\u001b[0m, in \u001b[0;36mh5py._objects.with_phil.wrapper\u001b[0;34m()\u001b[0m\n",
      "File \u001b[0;32mh5py/_objects.pyx:55\u001b[0m, in \u001b[0;36mh5py._objects.with_phil.wrapper\u001b[0;34m()\u001b[0m\n",
      "File \u001b[0;32mh5py/h5o.pyx:190\u001b[0m, in \u001b[0;36mh5py.h5o.open\u001b[0;34m()\u001b[0m\n",
      "\u001b[0;31mKeyError\u001b[0m: \"Unable to open object (object 'SEED' doesn't exist)\""
     ]
    }
   ],
   "source": [
    "\n",
    "path = '/Users/floorbroekgaarden/Projects/GitHub/COMPAS/stroopwafel_test/run_4/batch_0/batch_0.h5' # change this line! \n",
    "\n",
    "\n",
    "\n",
    "fdata = h5.File(path)\n",
    "print(fdata.keys())\n",
    "\n",
    "SP = fdata['BSE_System_Parameters']\n",
    "\n",
    "# print(SP.keys())\n",
    "\n",
    "metallicityM2 = SP['Metallicity@ZAMS(2)'][()]\n",
    "# print(metallicityM2)\n",
    "\n",
    "\n",
    "for keys in fdata.keys():\n",
    "    print(keys)\n",
    "    SEED =  fdata[keys]['SEED'][()]\n",
    "    print(SEED)\n",
    "    print('\\n')\n",
    "\n"
   ]
  },
  {
   "cell_type": "code",
   "execution_count": 4,
   "metadata": {},
   "outputs": [
    {
     "ename": "OSError",
     "evalue": "Unable to create file (unable to open file: name = '~/Downloads/COMPASCompactOutput_BHNS_K.h5', errno = 2, error message = 'No such file or directory', flags = 15, o_flags = a02)",
     "output_type": "error",
     "traceback": [
      "\u001b[0;31m---------------------------------------------------------------------------\u001b[0m",
      "\u001b[0;31mOSError\u001b[0m                                   Traceback (most recent call last)",
      "\u001b[0;32m/Library/Frameworks/Python.framework/Versions/3.7/lib/python3.7/site-packages/h5py/_hl/files.py\u001b[0m in \u001b[0;36mmake_fid\u001b[0;34m(name, mode, userblock_size, fapl, fcpl, swmr)\u001b[0m\n\u001b[1;32m    189\u001b[0m         \u001b[0;32mtry\u001b[0m\u001b[0;34m:\u001b[0m\u001b[0;34m\u001b[0m\u001b[0;34m\u001b[0m\u001b[0m\n\u001b[0;32m--> 190\u001b[0;31m             \u001b[0mfid\u001b[0m \u001b[0;34m=\u001b[0m \u001b[0mh5f\u001b[0m\u001b[0;34m.\u001b[0m\u001b[0mopen\u001b[0m\u001b[0;34m(\u001b[0m\u001b[0mname\u001b[0m\u001b[0;34m,\u001b[0m \u001b[0mh5f\u001b[0m\u001b[0;34m.\u001b[0m\u001b[0mACC_RDWR\u001b[0m\u001b[0;34m,\u001b[0m \u001b[0mfapl\u001b[0m\u001b[0;34m=\u001b[0m\u001b[0mfapl\u001b[0m\u001b[0;34m)\u001b[0m\u001b[0;34m\u001b[0m\u001b[0;34m\u001b[0m\u001b[0m\n\u001b[0m\u001b[1;32m    191\u001b[0m         \u001b[0;32mexcept\u001b[0m \u001b[0mIOError\u001b[0m\u001b[0;34m:\u001b[0m\u001b[0;34m\u001b[0m\u001b[0;34m\u001b[0m\u001b[0m\n",
      "\u001b[0;32mh5py/_objects.pyx\u001b[0m in \u001b[0;36mh5py._objects.with_phil.wrapper\u001b[0;34m()\u001b[0m\n",
      "\u001b[0;32mh5py/_objects.pyx\u001b[0m in \u001b[0;36mh5py._objects.with_phil.wrapper\u001b[0;34m()\u001b[0m\n",
      "\u001b[0;32mh5py/h5f.pyx\u001b[0m in \u001b[0;36mh5py.h5f.open\u001b[0;34m()\u001b[0m\n",
      "\u001b[0;31mOSError\u001b[0m: Unable to open file (unable to open file: name = '~/Downloads/COMPASCompactOutput_BHNS_K.h5', errno = 2, error message = 'No such file or directory', flags = 1, o_flags = 2)",
      "\nDuring handling of the above exception, another exception occurred:\n",
      "\u001b[0;31mOSError\u001b[0m                                   Traceback (most recent call last)",
      "\u001b[0;32m/Library/Frameworks/Python.framework/Versions/3.7/lib/python3.7/site-packages/h5py/_hl/files.py\u001b[0m in \u001b[0;36mmake_fid\u001b[0;34m(name, mode, userblock_size, fapl, fcpl, swmr)\u001b[0m\n\u001b[1;32m    192\u001b[0m             \u001b[0;32mtry\u001b[0m\u001b[0;34m:\u001b[0m\u001b[0;34m\u001b[0m\u001b[0;34m\u001b[0m\u001b[0m\n\u001b[0;32m--> 193\u001b[0;31m                 \u001b[0mfid\u001b[0m \u001b[0;34m=\u001b[0m \u001b[0mh5f\u001b[0m\u001b[0;34m.\u001b[0m\u001b[0mopen\u001b[0m\u001b[0;34m(\u001b[0m\u001b[0mname\u001b[0m\u001b[0;34m,\u001b[0m \u001b[0mh5f\u001b[0m\u001b[0;34m.\u001b[0m\u001b[0mACC_RDONLY\u001b[0m\u001b[0;34m,\u001b[0m \u001b[0mfapl\u001b[0m\u001b[0;34m=\u001b[0m\u001b[0mfapl\u001b[0m\u001b[0;34m)\u001b[0m\u001b[0;34m\u001b[0m\u001b[0;34m\u001b[0m\u001b[0m\n\u001b[0m\u001b[1;32m    194\u001b[0m             \u001b[0;32mexcept\u001b[0m \u001b[0mIOError\u001b[0m\u001b[0;34m:\u001b[0m\u001b[0;34m\u001b[0m\u001b[0;34m\u001b[0m\u001b[0m\n",
      "\u001b[0;32mh5py/_objects.pyx\u001b[0m in \u001b[0;36mh5py._objects.with_phil.wrapper\u001b[0;34m()\u001b[0m\n",
      "\u001b[0;32mh5py/_objects.pyx\u001b[0m in \u001b[0;36mh5py._objects.with_phil.wrapper\u001b[0;34m()\u001b[0m\n",
      "\u001b[0;32mh5py/h5f.pyx\u001b[0m in \u001b[0;36mh5py.h5f.open\u001b[0;34m()\u001b[0m\n",
      "\u001b[0;31mOSError\u001b[0m: Unable to open file (unable to open file: name = '~/Downloads/COMPASCompactOutput_BHNS_K.h5', errno = 2, error message = 'No such file or directory', flags = 0, o_flags = 0)",
      "\nDuring handling of the above exception, another exception occurred:\n",
      "\u001b[0;31mOSError\u001b[0m                                   Traceback (most recent call last)",
      "\u001b[0;32m<ipython-input-4-9bb8d9dc461a>\u001b[0m in \u001b[0;36m<module>\u001b[0;34m\u001b[0m\n\u001b[1;32m     12\u001b[0m \u001b[0;34m\u001b[0m\u001b[0m\n\u001b[1;32m     13\u001b[0m \u001b[0;34m\u001b[0m\u001b[0m\n\u001b[0;32m---> 14\u001b[0;31m \u001b[0mfdata\u001b[0m \u001b[0;34m=\u001b[0m \u001b[0mh5\u001b[0m\u001b[0;34m.\u001b[0m\u001b[0mFile\u001b[0m\u001b[0;34m(\u001b[0m\u001b[0mpath\u001b[0m\u001b[0;34m)\u001b[0m\u001b[0;34m\u001b[0m\u001b[0;34m\u001b[0m\u001b[0m\n\u001b[0m\u001b[1;32m     15\u001b[0m \u001b[0;31m# shows the different files within the hdf5 folder\u001b[0m\u001b[0;34m\u001b[0m\u001b[0;34m\u001b[0m\u001b[0;34m\u001b[0m\u001b[0m\n\u001b[1;32m     16\u001b[0m \u001b[0mprint\u001b[0m\u001b[0;34m(\u001b[0m\u001b[0mfdata\u001b[0m\u001b[0;34m.\u001b[0m\u001b[0mkeys\u001b[0m\u001b[0;34m(\u001b[0m\u001b[0;34m)\u001b[0m\u001b[0;34m)\u001b[0m\u001b[0;34m\u001b[0m\u001b[0;34m\u001b[0m\u001b[0m\n",
      "\u001b[0;32m/Library/Frameworks/Python.framework/Versions/3.7/lib/python3.7/site-packages/h5py/_hl/files.py\u001b[0m in \u001b[0;36m__init__\u001b[0;34m(self, name, mode, driver, libver, userblock_size, swmr, rdcc_nslots, rdcc_nbytes, rdcc_w0, track_order, **kwds)\u001b[0m\n\u001b[1;32m    392\u001b[0m                 fid = make_fid(name, mode, userblock_size,\n\u001b[1;32m    393\u001b[0m                                \u001b[0mfapl\u001b[0m\u001b[0;34m,\u001b[0m \u001b[0mfcpl\u001b[0m\u001b[0;34m=\u001b[0m\u001b[0mmake_fcpl\u001b[0m\u001b[0;34m(\u001b[0m\u001b[0mtrack_order\u001b[0m\u001b[0;34m=\u001b[0m\u001b[0mtrack_order\u001b[0m\u001b[0;34m)\u001b[0m\u001b[0;34m,\u001b[0m\u001b[0;34m\u001b[0m\u001b[0;34m\u001b[0m\u001b[0m\n\u001b[0;32m--> 394\u001b[0;31m                                swmr=swmr)\n\u001b[0m\u001b[1;32m    395\u001b[0m \u001b[0;34m\u001b[0m\u001b[0m\n\u001b[1;32m    396\u001b[0m             \u001b[0;32mif\u001b[0m \u001b[0mswmr_support\u001b[0m\u001b[0;34m:\u001b[0m\u001b[0;34m\u001b[0m\u001b[0;34m\u001b[0m\u001b[0m\n",
      "\u001b[0;32m/Library/Frameworks/Python.framework/Versions/3.7/lib/python3.7/site-packages/h5py/_hl/files.py\u001b[0m in \u001b[0;36mmake_fid\u001b[0;34m(name, mode, userblock_size, fapl, fcpl, swmr)\u001b[0m\n\u001b[1;32m    193\u001b[0m                 \u001b[0mfid\u001b[0m \u001b[0;34m=\u001b[0m \u001b[0mh5f\u001b[0m\u001b[0;34m.\u001b[0m\u001b[0mopen\u001b[0m\u001b[0;34m(\u001b[0m\u001b[0mname\u001b[0m\u001b[0;34m,\u001b[0m \u001b[0mh5f\u001b[0m\u001b[0;34m.\u001b[0m\u001b[0mACC_RDONLY\u001b[0m\u001b[0;34m,\u001b[0m \u001b[0mfapl\u001b[0m\u001b[0;34m=\u001b[0m\u001b[0mfapl\u001b[0m\u001b[0;34m)\u001b[0m\u001b[0;34m\u001b[0m\u001b[0;34m\u001b[0m\u001b[0m\n\u001b[1;32m    194\u001b[0m             \u001b[0;32mexcept\u001b[0m \u001b[0mIOError\u001b[0m\u001b[0;34m:\u001b[0m\u001b[0;34m\u001b[0m\u001b[0;34m\u001b[0m\u001b[0m\n\u001b[0;32m--> 195\u001b[0;31m                 \u001b[0mfid\u001b[0m \u001b[0;34m=\u001b[0m \u001b[0mh5f\u001b[0m\u001b[0;34m.\u001b[0m\u001b[0mcreate\u001b[0m\u001b[0;34m(\u001b[0m\u001b[0mname\u001b[0m\u001b[0;34m,\u001b[0m \u001b[0mh5f\u001b[0m\u001b[0;34m.\u001b[0m\u001b[0mACC_EXCL\u001b[0m\u001b[0;34m,\u001b[0m \u001b[0mfapl\u001b[0m\u001b[0;34m=\u001b[0m\u001b[0mfapl\u001b[0m\u001b[0;34m,\u001b[0m \u001b[0mfcpl\u001b[0m\u001b[0;34m=\u001b[0m\u001b[0mfcpl\u001b[0m\u001b[0;34m)\u001b[0m\u001b[0;34m\u001b[0m\u001b[0;34m\u001b[0m\u001b[0m\n\u001b[0m\u001b[1;32m    196\u001b[0m     \u001b[0;32melse\u001b[0m\u001b[0;34m:\u001b[0m\u001b[0;34m\u001b[0m\u001b[0;34m\u001b[0m\u001b[0m\n\u001b[1;32m    197\u001b[0m         \u001b[0;32mraise\u001b[0m \u001b[0mValueError\u001b[0m\u001b[0;34m(\u001b[0m\u001b[0;34m\"Invalid mode; must be one of r, r+, w, w-, x, a\"\u001b[0m\u001b[0;34m)\u001b[0m\u001b[0;34m\u001b[0m\u001b[0;34m\u001b[0m\u001b[0m\n",
      "\u001b[0;32mh5py/_objects.pyx\u001b[0m in \u001b[0;36mh5py._objects.with_phil.wrapper\u001b[0;34m()\u001b[0m\n",
      "\u001b[0;32mh5py/_objects.pyx\u001b[0m in \u001b[0;36mh5py._objects.with_phil.wrapper\u001b[0;34m()\u001b[0m\n",
      "\u001b[0;32mh5py/h5f.pyx\u001b[0m in \u001b[0;36mh5py.h5f.create\u001b[0;34m()\u001b[0m\n",
      "\u001b[0;31mOSError\u001b[0m: Unable to create file (unable to open file: name = '~/Downloads/COMPASCompactOutput_BHNS_K.h5', errno = 2, error message = 'No such file or directory', flags = 15, o_flags = a02)"
     ]
    }
   ],
   "source": [
    "# to obtain properties of ALL binaries simulated, do this:\n",
    "\n",
    "DCOtype = 'BHNS'   # You can change this line to 'BBH', 'BHNS' 'BNS', or 'ALL' (All DCOs)  # change this line! \n",
    "\n",
    "\n",
    "\n",
    "\n",
    "# add path to where the COMPASOutput.h5 file is stored. \n",
    "# For you the part '/Volumes/Andromeda/DATA/AllDCO_bugfix/fiducial/' is probably different\n",
    "path = '~/Downloads/COMPASCompactOutput_'+ DCOtype +'_K.h5' # change this line! \n",
    "\n",
    "\n",
    "\n",
    "fdata = h5.File(path)\n",
    "# shows the different files within the hdf5 folder \n",
    "print(fdata.keys())\n",
    "\n",
    "\n",
    "\n",
    "print('this might take a little while, particularly if you are using the BBH')\n",
    "\n",
    "# This code below gets the COMPAS data and only the systems that are DCOs \n",
    "Data            = COMPASData(path=path, lazyData=True, Mlower=5., \\\n",
    "                 Mupper=150., binaryFraction=1)\n",
    "Data.setCOMPASDCOmask(types=DCOtype,  withinHubbleTime=True, optimistic=False)\n",
    "Data.setCOMPASData()\n",
    "# SeedsHubble    = Data.seeds[Data.Hubble==True]\n",
    "\n",
    "\n",
    "\n",
    "M1 = Data.mass1\n",
    "M2 = Data.mass2\n",
    "weights = Data.weight\n",
    "\n",
    "print(M1)\n",
    "print(M2)\n",
    "\n",
    "\n",
    "\n",
    "\n",
    "\n",
    "\n",
    "\n",
    "\n"
   ]
  },
  {
   "cell_type": "code",
   "execution_count": null,
   "metadata": {},
   "outputs": [],
   "source": []
  },
  {
   "cell_type": "code",
   "execution_count": null,
   "metadata": {},
   "outputs": [],
   "source": []
  },
  {
   "cell_type": "code",
   "execution_count": null,
   "metadata": {},
   "outputs": [],
   "source": []
  },
  {
   "cell_type": "code",
   "execution_count": null,
   "metadata": {},
   "outputs": [],
   "source": []
  },
  {
   "cell_type": "markdown",
   "metadata": {},
   "source": [
    "### M1, M2 and Chirpmass in Msun\n",
    "\n",
    "not that these parameters are the properties for the selected DCOtype "
   ]
  },
  {
   "cell_type": "code",
   "execution_count": 22,
   "metadata": {},
   "outputs": [
    {
     "data": {
      "image/png": "[encoded data removed]",
      "text/plain": [
       "<Figure size 432x288 with 1 Axes>"
      ]
     },
     "metadata": {
      "needs_background": "light"
     },
     "output_type": "display_data"
    },
    {
     "name": "stdout",
     "output_type": "stream",
     "text": [
      "this distribution is not yet SFRD(Z,z) and detector weighted\n"
     ]
    }
   ],
   "source": [
    "# to obtain the properties of the selected DCOtype you simply do this:\n",
    "M1 = Data.mass1\n",
    "M2 = Data.mass2\n",
    "weights = Data.weight\n",
    "\n",
    "\n",
    "def chirpmass(m1, m2):\n",
    "    numer = (m1*m2)**(3./5)\n",
    "    denom = (m1+m2)**(1./5)\n",
    "    \n",
    "    return numer/denom\n",
    "\n",
    "# and you can plot properties, e.g., the chirpmass distribution: \n",
    "chirpmass =chirpmass(m1=M1, m2=M2)\n",
    "\n",
    "\n",
    "plt.hist(chirpmass, bins=100, weights=weights)\n",
    "plt.xlabel('chirpmass [Msun]')\n",
    "plt.ylabel('weighted rate in COMPAS simulation')\n",
    "plt.show()\n",
    "\n",
    "print('this distribution is not yet SFRD(Z,z) and detector weighted')\n"
   ]
  },
  {
   "cell_type": "markdown",
   "metadata": {},
   "source": [
    "### M1 more massive, M2 least massive:\n",
    "\n",
    "\n",
    "\n",
    "\n"
   ]
  },
  {
   "cell_type": "code",
   "execution_count": 23,
   "metadata": {},
   "outputs": [
    {
     "data": {
      "image/png": "[encoded data removed]",
      "text/plain": [
       "<Figure size 432x288 with 1 Axes>"
      ]
     },
     "metadata": {
      "needs_background": "light"
     },
     "output_type": "display_data"
    }
   ],
   "source": [
    "def obtainM1BHandM2BHassymetric(m1, m2):\n",
    "    m1bh, m2bh = np.zeros_like(m1), np.zeros_like(m1)\n",
    "    maskm1heavier = ( m1 >= m2)\n",
    "    maskm2heavier = (m1 < m2)\n",
    "    \n",
    "    m1bh[maskm1heavier] = m1[maskm1heavier] \n",
    "    m1bh[maskm2heavier] = m2[maskm2heavier]\n",
    "    m2bh[maskm1heavier] = m2[maskm1heavier]\n",
    "    m2bh[maskm2heavier] = m1[maskm2heavier]\n",
    "    \n",
    "    return m1bh, m2bh # m1bh has all the heaviest systems\n",
    "\n",
    "\n",
    "\n",
    "M_most_massive, M_least_massive = obtainM1BHandM2BHassymetric(m1=M1, m2=M2)\n",
    "\n",
    "\n",
    "plt.scatter(M_most_massive, M_least_massive)\n",
    "plt.xlabel('Most massive [Msun]')\n",
    "plt.ylabel('Least massive [Msun]')\n",
    "plt.show()"
   ]
  },
  {
   "cell_type": "markdown",
   "metadata": {},
   "source": [
    "\n",
    "\n",
    "### Metallicity \n",
    "\n",
    "the metallicity of each data point can be obtained with \"metallicitySystems\"\n",
    "I used a total of 53 different metallicity bins, quoted in the bottem when printing \"Data.metallicityGrid\" "
   ]
  },
  {
   "cell_type": "code",
   "execution_count": 24,
   "metadata": {},
   "outputs": [
    {
     "data": {
      "image/png": "[encoded data removed]",
      "text/plain": [
       "<Figure size 432x288 with 1 Axes>"
      ]
     },
     "metadata": {
      "needs_background": "light"
     },
     "output_type": "display_data"
    },
    {
     "name": "stdout",
     "output_type": "stream",
     "text": [
      "[0.0001  0.00011 0.00012 0.00014 0.00016 0.00017 0.00019 0.00022 0.00024\n",
      " 0.00027 0.0003  0.00034 0.00037 0.00042 0.00047 0.00052 0.00058 0.00065\n",
      " 0.00073 0.00081 0.0009  0.00101 0.00113 0.00126 0.0014  0.00157 0.00175\n",
      " 0.00195 0.00218 0.00243 0.00272 0.00303 0.00339 0.00378 0.00422 0.00471\n",
      " 0.00526 0.00587 0.00655 0.00732 0.00817 0.00912 0.01018 0.01137 0.01269\n",
      " 0.01416 0.01581 0.01765 0.01971 0.022   0.0244  0.02705 0.03   ]\n",
      "53\n"
     ]
    }
   ],
   "source": [
    "metallicitySystems = Data.metallicitySystems\n",
    "plt.hist(metallicitySystems, bins=100, weights=weights)\n",
    "plt.xlabel('metallicity ')\n",
    "plt.ylabel('weighted rate in COMPAS simulation')\n",
    "plt.show()\n",
    "\n",
    "\n",
    "Data.metallicityGrid = np.unique(metallicitySystems)\n",
    "print(Data.metallicityGrid)\n",
    "print(len(Data.metallicityGrid))\n",
    "\n",
    "\n"
   ]
  },
  {
   "cell_type": "markdown",
   "metadata": {},
   "source": [
    "### Delay time  of each simulated data point in Myr"
   ]
  },
  {
   "cell_type": "code",
   "execution_count": 8,
   "metadata": {},
   "outputs": [
    {
     "data": {
      "image/png": "[encoded data removed]",
      "text/plain": [
       "<Figure size 432x288 with 1 Axes>"
      ]
     },
     "metadata": {
      "needs_background": "light"
     },
     "output_type": "display_data"
    }
   ],
   "source": [
    "delayTimes = Data.delayTimes\n",
    "\n",
    "\n",
    "plt.hist(delayTimes, bins=100, weights=weights)\n",
    "plt.xlabel('Delay time [Myr] ')\n",
    "plt.ylabel('weighted rate in COMPAS simulation')\n",
    "plt.show()\n",
    "\n",
    "\n"
   ]
  },
  {
   "cell_type": "code",
   "execution_count": null,
   "metadata": {},
   "outputs": [],
   "source": []
  },
  {
   "cell_type": "code",
   "execution_count": null,
   "metadata": {},
   "outputs": [],
   "source": []
  },
  {
   "cell_type": "code",
   "execution_count": null,
   "metadata": {},
   "outputs": [],
   "source": []
  },
  {
   "cell_type": "markdown",
   "metadata": {},
   "source": [
    "# 1. formation efficiency file: \n",
    "\n",
    "\n",
    "For each model A, B, C, ... Q,  I made an formation efficiency file with the parameters structured as you suggested: \n",
    "Below is an example for how to read in this data for model \"A\" (which corresponds to the big DATA file I gave you"
   ]
  },
  {
   "cell_type": "code",
   "execution_count": 9,
   "metadata": {},
   "outputs": [
    {
     "name": "stdout",
     "output_type": "stream",
     "text": [
      "         Zi     X(Zi)_DNS    X(Zi)_BHBH    X(Zi)_BHNS\n",
      "0   0.00010  5.965332e-07  4.520192e-05  1.570943e-06\n",
      "1   0.00011  4.758306e-07  4.633445e-05  2.007287e-06\n",
      "2   0.00012  5.569142e-07  4.696560e-05  2.134851e-06\n",
      "3   0.00014  5.448654e-07  4.734547e-05  2.145098e-06\n",
      "4   0.00016  7.719925e-07  4.755733e-05  2.174396e-06\n",
      "5   0.00017  6.265832e-07  4.750986e-05  2.225978e-06\n",
      "6   0.00019  7.544551e-07  4.851627e-05  2.144975e-06\n",
      "7   0.00022  1.044446e-06  4.788043e-05  2.371202e-06\n",
      "8   0.00024  1.489758e-06  4.876057e-05  2.261335e-06\n",
      "9   0.00027  1.921628e-06  4.911843e-05  2.695409e-06\n",
      "10  0.00030  2.294481e-06  4.955859e-05  2.912616e-06\n",
      "11  0.00034  2.455971e-06  5.037767e-05  3.284954e-06\n",
      "12  0.00037  2.847475e-06  5.038026e-05  3.435441e-06\n",
      "13  0.00042  2.888395e-06  5.103750e-05  4.016671e-06\n",
      "14  0.00047  2.947169e-06  5.077655e-05  4.422328e-06\n",
      "15  0.00052  2.961805e-06  5.027988e-05  4.732527e-06\n",
      "16  0.00058  3.017476e-06  4.977026e-05  4.934465e-06\n",
      "17  0.00065  3.082642e-06  4.904119e-05  5.081547e-06\n",
      "18  0.00073  3.148619e-06  4.765327e-05  5.169818e-06\n",
      "19  0.00081  2.842331e-06  4.691926e-05  5.425015e-06\n",
      "20  0.00090  2.820017e-06  4.570483e-05  4.969407e-06\n",
      "21  0.00101  2.794152e-06  4.428948e-05  5.421011e-06\n",
      "22  0.00113  3.152147e-06  4.512132e-05  6.801632e-06\n",
      "23  0.00126  3.448753e-06  4.439446e-05  8.272009e-06\n",
      "24  0.00140  3.949313e-06  4.290642e-05  9.084353e-06\n",
      "25  0.00157  4.242665e-06  4.107501e-05  9.872348e-06\n",
      "26  0.00175  4.338217e-06  3.929044e-05  1.027219e-05\n",
      "27  0.00195  4.177371e-06  3.744776e-05  1.094189e-05\n",
      "28  0.00218  3.793645e-06  3.486487e-05  1.140580e-05\n",
      "29  0.00243  3.592610e-06  3.274180e-05  1.172884e-05\n",
      "30  0.00272  3.533931e-06  2.979831e-05  1.195767e-05\n",
      "31  0.00303  3.178689e-06  2.654032e-05  1.193650e-05\n",
      "32  0.00339  3.059784e-06  2.172706e-05  1.129236e-05\n",
      "33  0.00378  3.418403e-06  1.747570e-05  1.067847e-05\n",
      "34  0.00422  2.591154e-06  1.324420e-05  1.013231e-05\n",
      "35  0.00471  1.434065e-06  1.010162e-05  9.648121e-06\n",
      "36  0.00526  9.792262e-07  7.434090e-06  9.552591e-06\n",
      "37  0.00587  1.276536e-06  5.862718e-06  9.327486e-06\n",
      "38  0.00655  1.515543e-06  4.698377e-06  8.920061e-06\n",
      "39  0.00732  1.743502e-06  3.402841e-06  8.933620e-06\n",
      "40  0.00817  1.808528e-06  2.693445e-06  8.637019e-06\n",
      "41  0.00912  1.691267e-06  1.731665e-06  7.695362e-06\n",
      "42  0.01018  1.385721e-06  1.096866e-06  6.612267e-06\n",
      "43  0.01137  3.355917e-06  9.646946e-07  4.859427e-06\n",
      "44  0.01269  3.361802e-06  6.858181e-07  3.856047e-06\n",
      "45  0.01416  3.179867e-06  4.228742e-07  2.768967e-06\n",
      "46  0.01581  3.248015e-06  1.748395e-07  1.902974e-06\n",
      "47  0.01765  3.215768e-06  3.478261e-08  1.215366e-06\n",
      "48  0.01971  3.367569e-06  2.283494e-08  8.677030e-07\n",
      "49  0.02200  1.445949e-06  0.000000e+00  4.687888e-08\n",
      "50  0.02440  1.660844e-06  2.579440e-09  1.787784e-08\n",
      "51  0.02705  1.825243e-06  3.397903e-09  3.903446e-10\n",
      "52  0.03000  1.948964e-06  0.000000e+00  1.080090e-08\n"
     ]
    }
   ],
   "source": [
    "bps_name = 'A'\n",
    "pathCSVfile = '/Users/floorbroekgaarden/Projects/GitHub/Double-Compact-Object-Mergers/dataFiles/Martyna_SFRD/1_formation_efficiency/formation_efficiency_' +bps_name+ '' +  '.csv'\n",
    "\n",
    "df = pd.read_csv(pathCSVfile, index_col=0)\n",
    "\n",
    "        \n",
    "print(df)\n"
   ]
  },
  {
   "cell_type": "markdown",
   "metadata": {},
   "source": [
    "you can easily plot the formation rates for this model: \n",
    "    \n",
    "    \n",
    "    "
   ]
  },
  {
   "cell_type": "code",
   "execution_count": 10,
   "metadata": {},
   "outputs": [
    {
     "data": {
      "image/png": "[encoded data removed]",
      "text/plain": [
       "<Figure size 432x288 with 1 Axes>"
      ]
     },
     "metadata": {
      "needs_background": "light"
     },
     "output_type": "display_data"
    }
   ],
   "source": [
    "\n",
    "for ind_DCO, name_DCO in enumerate(['X(Zi)_DNS',    'X(Zi)_BHBH',    'X(Zi)_BHNS']):    \n",
    "\n",
    "    plt.plot(df['Zi'], df[name_DCO], label=name_DCO, lw=2) \n",
    "\n",
    "plt.xscale('log')\n",
    "plt.xlabel(r'$Z_i$')\n",
    "plt.ylabel(r'yield $[M_{\\odot}]$')\n",
    "plt.legend()    \n",
    "plt.show()\n",
    "    \n",
    "    \n",
    "    "
   ]
  },
  {
   "cell_type": "code",
   "execution_count": null,
   "metadata": {},
   "outputs": [],
   "source": []
  },
  {
   "cell_type": "markdown",
   "metadata": {},
   "source": [
    "# 2. delay time distribution; "
   ]
  },
  {
   "cell_type": "code",
   "execution_count": 11,
   "metadata": {},
   "outputs": [
    {
     "data": {
      "image/png": "[encoded data removed]",
      "text/plain": [
       "<Figure size 432x288 with 1 Axes>"
      ]
     },
     "metadata": {
      "needs_background": "light"
     },
     "output_type": "display_data"
    }
   ],
   "source": [
    "bins = np.linspace(0, 14000, 1000) # Myr \n",
    "\n",
    "\n",
    "plt.hist(Data.delayTimes, bins=bins, weights=Data.weight, cumulative=True, density=True)\n",
    "\n",
    "plt.ylabel('CDF')\n",
    "plt.xlabel('delay time [Myr]')\n",
    "plt.show()\n",
    "\n",
    "\n",
    "\n"
   ]
  },
  {
   "cell_type": "code",
   "execution_count": null,
   "metadata": {},
   "outputs": [],
   "source": []
  },
  {
   "cell_type": "code",
   "execution_count": null,
   "metadata": {},
   "outputs": [],
   "source": []
  },
  {
   "cell_type": "code",
   "execution_count": null,
   "metadata": {},
   "outputs": [],
   "source": [
    "# to obtain properties of ALL binaries simulated, do this:\n",
    "\n",
    "DCOtype = 'BNS'   # You can change this line to 'BBH', 'BHNS' 'BNS', or 'ALL' (All DCOs)  # change this line! \n",
    "\n",
    "\n",
    "\n",
    "\n",
    "# add path to where the COMPASOutput.h5 file is stored. \n",
    "# For you the part '/Volumes/Andromeda/DATA/AllDCO_bugfix/fiducial/' is probably different\n",
    "path = '/Volumes/Andromeda/DATA/AllDCO_bugfix/fiducial/COMPASCompactOutput_'+ DCOtype +'_A.h5' # change this line! \n",
    "\n",
    "\n",
    "\n",
    "fdata = h5.File(path)\n",
    "# shows the different files within the hdf5 folder \n",
    "print(fdata.keys())\n",
    "\n",
    "\n",
    "\n",
    "print('this might take a little while, particularly if you are using the BBH')\n",
    "\n",
    "# This code below gets the COMPAS data and only the systems that are DCOs \n",
    "Data            = COMPASData(path=path, lazyData=True, Mlower=5., \\\n",
    "                 Mupper=150., binaryFraction=1)\n",
    "Data.setCOMPASDCOmask(types=DCOtype,  withinHubbleTime=True, optimistic=False)\n",
    "Data.setCOMPASData()\n",
    "# SeedsHubble    = Data.seeds[Data.Hubble==True]\n",
    "\n",
    "\n",
    "\n",
    "\n",
    "\n",
    "\n",
    "\n",
    "\n"
   ]
  },
  {
   "cell_type": "code",
   "execution_count": 18,
   "metadata": {},
   "outputs": [
    {
     "data": {
      "image/png": "[encoded data removed]",
      "text/plain": [
       "<Figure size 432x288 with 1 Axes>"
      ]
     },
     "metadata": {
      "needs_background": "light"
     },
     "output_type": "display_data"
    },
    {
     "name": "stdout",
     "output_type": "stream",
     "text": [
      "[0.0001  0.00011 0.00012 0.00014 0.00016 0.00017 0.00019 0.00022 0.00024\n",
      " 0.00027 0.0003  0.00034 0.00037 0.00042 0.00047 0.00052 0.00058 0.00065\n",
      " 0.00073 0.00081 0.0009  0.00101 0.00113 0.00126 0.0014  0.00157 0.00175\n",
      " 0.00195 0.00218 0.00243 0.00272 0.00303 0.00339 0.00378 0.00422 0.00471\n",
      " 0.00526 0.00587 0.00655 0.00732 0.00817 0.00912 0.01018 0.01137 0.01269\n",
      " 0.01416 0.01581 0.01765 0.01971 0.022   0.0244  0.02705 0.03   ]\n",
      "53\n"
     ]
    }
   ],
   "source": [
    "\n",
    "metallicitySystems = Data.metallicitySystems\n",
    "\n",
    "\n",
    "M1ZAMS = fdata['doubleCompactObjects']['M1ZAMS'][...].squeeze()\n",
    "M2ZAMS = fdata['doubleCompactObjects']['M2ZAMS'][...].squeeze()\n",
    "\n",
    "\n",
    "mask = metallicitySystems > 0.014\n",
    "\n",
    "plt.hist(M1ZAMS[mask], bins=100, weights=weights[mask])\n",
    "plt.xlabel('Mass ')\n",
    "plt.ylabel('weighted rate in COMPAS simulation')\n",
    "plt.show()\n",
    "\n",
    "\n",
    "Data.metallicityGrid = np.unique(metallicitySystems)\n",
    "print(Data.metallicityGrid)\n",
    "print(len(Data.metallicityGrid))\n",
    "\n",
    "\n"
   ]
  },
  {
   "cell_type": "code",
   "execution_count": 29,
   "metadata": {},
   "outputs": [
    {
     "name": "stdout",
     "output_type": "stream",
     "text": [
      "[0.0141 0.0148 0.0155 0.0163 0.0171 0.0179 0.0188 0.0198]\n"
     ]
    }
   ],
   "source": [
    "aa = np.logspace(np.log10(0.0141), np.log10(0.01975), 8)\n",
    "print(np.round(aa,4))"
   ]
  },
  {
   "cell_type": "code",
   "execution_count": null,
   "metadata": {},
   "outputs": [],
   "source": []
  }
 ],
 "metadata": {
  "kernelspec": {
   "display_name": "Python 3",
   "language": "python",
   "name": "python3"
  },
  "language_info": {
   "codemirror_mode": {
    "name": "ipython",
    "version": 3
   },
   "file_extension": ".py",
   "mimetype": "text/x-python",
   "name": "python",
   "nbconvert_exporter": "python",
   "pygments_lexer": "ipython3",
   "version": "3.11.1"
  }
 },
 "nbformat": 4,
 "nbformat_minor": 2
}
