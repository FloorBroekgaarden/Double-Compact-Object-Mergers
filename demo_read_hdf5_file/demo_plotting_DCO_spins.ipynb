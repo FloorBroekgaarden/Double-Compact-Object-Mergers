{
 "cells": [
  {
   "cell_type": "code",
   "execution_count": 1,
   "metadata": {},
   "outputs": [
    {
     "data": {
      "text/html": [
       "<style>.container { width:100% !important; }</style>"
      ],
      "text/plain": [
       "<IPython.core.display.HTML object>"
      ]
     },
     "metadata": {},
     "output_type": "display_data"
    }
   ],
   "source": [
    "import sys\n",
    "sys.path.append('../Scripts')\n",
    "from PostProcessingScripts import * \n",
    "# import pandas as pd \n",
    "# import string \n",
    "# just to make the cells appear wider:\n",
    "from IPython.core.display import display, HTML\n",
    "display(HTML(\"<style>.container { width:100% !important; }</style>\"))\n",
    "\n",
    "\n",
    "\n",
    "import h5py as h5\n",
    "import numpy as np\n",
    "import os\n",
    "import matplotlib.pyplot as plt\n",
    "import pandas as pd\n",
    "import string\n"
   ]
  },
  {
   "cell_type": "code",
   "execution_count": null,
   "metadata": {},
   "outputs": [],
   "source": [
    "\n",
    "\n",
    "\n"
   ]
  },
  {
   "cell_type": "markdown",
   "metadata": {},
   "source": [
    "# 3 \"The Big file\" with all the data points: Note that my data is weighted!\n",
    "\n",
    "all lines of code that you might have to change are given with \"# change this line! \" "
   ]
  },
  {
   "cell_type": "code",
   "execution_count": 2,
   "metadata": {},
   "outputs": [
    {
     "name": "stdout",
     "output_type": "stream",
     "text": [
      "<KeysViewHDF5 ['RLOF', 'commonEnvelopes', 'doubleCompactObjects', 'formationChannels', 'supernovae', 'systems', 'weights_detected', 'weights_detectedPerRedshift', 'weights_intrinsic', 'weights_intrinsicPerRedshift']>\n",
      "this might take a little while, particularly if you are using the BBH\n"
     ]
    }
   ],
   "source": [
    "# to obtain properties of ALL binaries simulated, do this:\n",
    "\n",
    "DCOtype = 'BHNS'   # You can change this line to 'BBH', 'BHNS' 'BNS', or 'ALL' (All DCOs)  # change this line! \n",
    "\n",
    "\n",
    "\n",
    "# add path to where the COMPASOutput.h5 file is stored. \n",
    "# For you the part '/Volumes/Andromeda/DATA/AllDCO_bugfix/fiducial/' is probably different\n",
    "path = '/Volumes/Andromeda/DATA/AllDCO_bugfix/fiducial/COMPASCompactOutput_'+ DCOtype +'_A.h5' # change this line! \n",
    "\n",
    "\n",
    "\n",
    "fdata = h5.File(path)\n",
    "# shows the different files within the hdf5 folder \n",
    "print(fdata.keys())\n",
    "\n",
    "\n",
    "\n",
    "print('this might take a little while, particularly if you are using the BBH')\n",
    "\n",
    "# # This code below gets the COMPAS data and only the systems that are DCOs \n",
    "# Data            = COMPASData(path=path, lazyData=True, Mlower=5., \\\n",
    "#                  Mupper=150., binaryFraction=1)\n",
    "# Data.setCOMPASDCOmask(types=DCOtype,  withinHubbleTime=True, optimistic=False)\n",
    "# Data.setCOMPASData()\n",
    "# SeedsHubble    = Data.seeds[Data.Hubble==True]\n",
    "\n",
    "\n",
    "\n",
    "\n",
    "\n",
    "\n",
    "\n",
    "\n",
    "\n"
   ]
  },
  {
   "cell_type": "markdown",
   "metadata": {},
   "source": [
    "### M1, M2 and Chirpmass in Msun\n",
    "\n",
    "The most used parameters are quoted in the file \"doubleCompactObjects\", that describes many properties of the binaries that form the type of DCO merger (here, BHNS) below is an example: \n"
   ]
  },
  {
   "cell_type": "code",
   "execution_count": 3,
   "metadata": {},
   "outputs": [
    {
     "name": "stdout",
     "output_type": "stream",
     "text": [
      "<KeysViewHDF5 ['COCoreMassDCOFormation1', 'COCoreMassDCOFormation2', 'ECSNPrimary', 'ECSNSecondary', 'HeCoreMassDCOFormation1', 'HeCoreMassDCOFormation2', 'ID', 'M1', 'M1ZAMS', 'M2', 'M2ZAMS', 'Metallicity1', 'Metallicity2', 'PISNPrimary', 'PISNSecondary', 'PPISNPrimary', 'PPISNSecondary', 'PrimaryMTCase', 'RL1to2PostCEE', 'RL1to2PreCEE', 'RL2to1PostCEE', 'RL2to1PreCEE', 'RLOFSecondaryAfterCEE', 'SecondaryMTCase', 'SemiMajorAxisPostCEE', 'SemiMajorAxisPreCEE', 'USSNPrimary', 'USSNSecondary', 'coreMassDCOFormation1', 'coreMassDCOFormation2', 'doubleCommonEnvelopeFlag', 'drawnKick1', 'drawnKick2', 'eccentricityDCOFormation', 'eccentricityInitial', 'eccentricityPrior2ndSN', 'kickDirectionPower', 'mergesInHubbleTimeFlag', 'optimisticCEFlag', 'phiSupernova1', 'phiSupernova2', 'recycledPrimary', 'recycledSecondary', 'relativeVelocity2ndSN', 'samplingPhase', 'seed', 'separationDCOFormation', 'separationInitial', 'separationPrior2ndSN', 'sigmaKickBH', 'sigmaKickNS', 'stellarType1', 'stellarType2', 'tc', 'tform', 'thetaSupernova1', 'thetaSupernova2', 'totalMassDCOFormation1', 'totalMassDCOFormation2', 'weight']>\n"
     ]
    }
   ],
   "source": [
    "# see several parameters that are contained in this file\n",
    "print(fdata['doubleCompactObjects'].keys())"
   ]
  },
  {
   "cell_type": "code",
   "execution_count": 4,
   "metadata": {},
   "outputs": [
    {
     "name": "stdout",
     "output_type": "stream",
     "text": [
      "<KeysViewHDF5 ['MassCOCoreSN', 'MassCoreSN', 'MassStarCompanion', 'MassStarSN', 'Survived', 'drawnKickVelocity', 'eccentricityAfter', 'eccentricityBefore', 'experiencedRLOF', 'fallback', 'flagECSN', 'flagHpoorSN', 'flagHrichSN', 'flagPISN', 'flagPPISN', 'flagRLOFontoaNS', 'flagSN', 'flagUSSN', 'kickVelocity', 'phi', 'previousStellarTypeCompanion', 'previousStellarTypeSN', 'psi', 'randomSeed', 'runawayFlag', 'separationAfter', 'separationBefore', 'systemicVelocity', 'theta', 'time', 'uK', 'vRel', 'whichStar']>\n"
     ]
    }
   ],
   "source": [
    "# see several parameters that are contained in this file\n",
    "print(fdata['supernovae'].keys())"
   ]
  },
  {
   "cell_type": "markdown",
   "metadata": {},
   "source": [
    "The weights e.g. for LIGO weighted are also given in these files, under \"weights_detected\", this takes into account the star formation history of all mergers and the sensitivity of a GW detector at design configuration (LVK). \n",
    "\n"
   ]
  },
  {
   "cell_type": "code",
   "execution_count": 5,
   "metadata": {},
   "outputs": [
    {
     "name": "stdout",
     "output_type": "stream",
     "text": [
      "<KeysViewHDF5 ['SEED', 'w_000', 'w_111', 'w_112', 'w_113', 'w_121', 'w_122', 'w_123', 'w_131', 'w_132', 'w_133', 'w_211', 'w_212', 'w_213', 'w_221', 'w_222', 'w_223', 'w_231', 'w_232', 'w_233', 'w_311', 'w_312', 'w_313', 'w_321', 'w_322', 'w_323', 'w_331', 'w_332', 'w_333']>\n"
     ]
    }
   ],
   "source": [
    "print(fdata['weights_detected'].keys()) \n",
    "\n",
    "\n"
   ]
  },
  {
   "cell_type": "code",
   "execution_count": 6,
   "metadata": {},
   "outputs": [
    {
     "name": "stderr",
     "output_type": "stream",
     "text": [
      "IOPub data rate exceeded.\n",
      "The notebook server will temporarily stop sending output\n",
      "to the client in order to avoid crashing it.\n",
      "To change this limit, set the config variable\n",
      "`--NotebookApp.iopub_data_rate_limit`.\n",
      "\n",
      "Current values:\n",
      "NotebookApp.iopub_data_rate_limit=1000000.0 (bytes/sec)\n",
      "NotebookApp.rate_limit_window=3.0 (secs)\n",
      "\n"
     ]
    },
    {
     "data": {
      "image/png": "[encoded data removed]",
      "text/plain": [
       "<Figure size 432x288 with 1 Axes>"
      ]
     },
     "metadata": {
      "needs_background": "light"
     },
     "output_type": "display_data"
    }
   ],
   "source": [
    "# to obtain the properties of the selected DCOtype you simply do this:\n",
    "\n",
    "fDCO      = fdata['doubleCompactObjects']\n",
    "#Stuff I need for cosmological integral\n",
    "\n",
    "\n",
    "# at this moment we dont need to specify a mask, since our datafile has already taken this into account. \n",
    "DCOmask = [True]*(len(fDCO['Metallicity1'][...].squeeze()))\n",
    "print(DCOmask)\n",
    "\n",
    "\n",
    "metallicitySystems  = fDCO['Metallicity1'][...].squeeze()[DCOmask]  # Metallicity at ZAMS \n",
    "delayTimes          = fDCO['tform'][...].squeeze()[DCOmask] + \\\n",
    "                           fDCO['tc'][...].squeeze()[DCOmask]   # delay time \n",
    "tc                  = fDCO['tc'][...].squeeze()[DCOmask]  # coalescence time (or merger time)\n",
    "M1              = fDCO['M1'][...].squeeze()[DCOmask]     # Compact object mass of star 1 \n",
    "M2               = fDCO['M2'][...].squeeze()[DCOmask]    # Compact object mass of star 2 \n",
    "m1zams              = fDCO['M1ZAMS'][...].squeeze()[DCOmask]   # Mass at ZAMS of star 1 \n",
    "m2zams              = fDCO['M2ZAMS'][...].squeeze()[DCOmask]   # Mass at ZAMS of star 2 \n",
    "separationzams      = fDCO['separationInitial'][...].squeeze()[DCOmask]   # separation at ZAMS of binary \n",
    "\n",
    "\n",
    "# we will use for this demo the weights from Star formation history model xyz = '000', these can be obtained using:\n",
    "weights = fdata['weights_detected']['w_000']\n",
    "\n",
    "# change this to formation weights by uncommenting the following line:\n",
    "# weights = fDCO['weight']\n",
    "\n",
    "\n",
    "# other models can be chosen too. (there are 28 options currently)\n",
    "\n",
    "\n",
    "def chirpmass(m1, m2):\n",
    "    numer = (m1*m2)**(3./5)\n",
    "    denom = (m1+m2)**(1./5)\n",
    "    \n",
    "    return numer/denom\n",
    "\n",
    "# and you can plot properties, e.g., the chirpmass distribution: \n",
    "chirpmass =chirpmass(m1=M1, m2=M2)\n",
    "\n",
    "\n",
    "plt.hist(chirpmass, bins=100, weights=weights)\n",
    "plt.xlabel('chirpmass [Msun]')\n",
    "plt.ylabel('weighted rate for LVK network at design sensitivity')\n",
    "plt.show()\n",
    "\n",
    "\n"
   ]
  },
  {
   "cell_type": "markdown",
   "metadata": {},
   "source": [
    "### M1 more massive, M2 least massive:\n",
    "\n",
    "\n",
    "\n",
    "\n"
   ]
  },
  {
   "cell_type": "code",
   "execution_count": 7,
   "metadata": {},
   "outputs": [
    {
     "data": {
      "image/png": "[encoded data removed]",
      "text/plain": [
       "<Figure size 432x288 with 1 Axes>"
      ]
     },
     "metadata": {
      "needs_background": "light"
     },
     "output_type": "display_data"
    }
   ],
   "source": [
    "def obtainM1BHandM2BHassymetric(m1, m2):\n",
    "    m1bh, m2bh = np.zeros_like(m1), np.zeros_like(m1)\n",
    "    maskm1heavier = ( m1 >= m2)\n",
    "    maskm2heavier = (m1 < m2)\n",
    "    \n",
    "    m1bh[maskm1heavier] = m1[maskm1heavier] \n",
    "    m1bh[maskm2heavier] = m2[maskm2heavier]\n",
    "    m2bh[maskm1heavier] = m2[maskm1heavier]\n",
    "    m2bh[maskm2heavier] = m1[maskm2heavier]\n",
    "    \n",
    "    return m1bh, m2bh # m1bh has all the heaviest systems\n",
    "\n",
    "\n",
    "\n",
    "M_most_massive, M_least_massive = obtainM1BHandM2BHassymetric(m1=M1, m2=M2)\n",
    "\n",
    "\n",
    "plt.scatter(M_most_massive, M_least_massive)\n",
    "plt.xlabel('Most massive [Msun]')\n",
    "plt.ylabel('Least massive [Msun]')\n",
    "plt.show()"
   ]
  },
  {
   "cell_type": "markdown",
   "metadata": {},
   "source": [
    "\n",
    "\n",
    "### Metallicity \n",
    "\n",
    "the metallicity of each data point can be obtained with \"metallicitySystems\"\n",
    "I used a total of 53 different metallicity bins, quoted in the bottem when printing \"Data.metallicityGrid\" "
   ]
  },
  {
   "cell_type": "code",
   "execution_count": 8,
   "metadata": {},
   "outputs": [
    {
     "data": {
      "image/png": "[encoded data removed]",
      "text/plain": [
       "<Figure size 432x288 with 1 Axes>"
      ]
     },
     "metadata": {
      "needs_background": "light"
     },
     "output_type": "display_data"
    },
    {
     "name": "stdout",
     "output_type": "stream",
     "text": [
      "this mostly just shows my metallicity bins and where BHNS are originating from\n"
     ]
    }
   ],
   "source": [
    "# metallicitySystems = metallicitySystems\n",
    "plt.hist(metallicitySystems, bins=100, weights=weights)\n",
    "plt.xlabel('metallicity ')\n",
    "plt.ylabel('weighted rate in LVK detector')\n",
    "plt.show()\n",
    "\n",
    "\n",
    "\n",
    "\n",
    "print('this mostly just shows my metallicity bins and where BHNS are originating from')"
   ]
  },
  {
   "cell_type": "markdown",
   "metadata": {},
   "source": [
    "### Delay time  of each simulated data point in Myr"
   ]
  },
  {
   "cell_type": "code",
   "execution_count": null,
   "metadata": {},
   "outputs": [],
   "source": [
    "\n",
    "\n",
    "plt.hist(delayTimes, bins=100, weights=weights)\n",
    "plt.xlabel('Delay time [Myr] ')\n",
    "plt.ylabel('weighted rate in LVK detector')\n",
    "plt.show()\n",
    "\n",
    "\n"
   ]
  },
  {
   "cell_type": "code",
   "execution_count": null,
   "metadata": {},
   "outputs": [],
   "source": []
  },
  {
   "cell_type": "markdown",
   "metadata": {},
   "source": [
    "# Spin models \n"
   ]
  },
  {
   "cell_type": "code",
   "execution_count": null,
   "metadata": {},
   "outputs": [],
   "source": [
    "class COspin(object):\n",
    "    \"\"\"\n",
    "    This class calculates the Black Hole (BH) or Neutron Star (NS) spin\n",
    "    based on a given spin function/model \n",
    "    \n",
    "    \"\"\"\n",
    "    \n",
    "    \n",
    "    def __init__(self, data_path=None, SFRDmodel='312'):\n",
    "    \n",
    "        self.path                = data_path\n",
    "        if (self.path is None):\n",
    "            print(\"Just to double check you create instance of ClassCOMPAS without path/Data\")\n",
    "        elif not  os.path.isfile(data_path):\n",
    "            raise ValueError(\"h5 file not found. Wrong path given?\", \"path given = %s\"%data_path)\n",
    "        elif os.path.isfile(data_path):\n",
    "            self.h5file           = h5.File(data_path)\n",
    "            \n",
    "            \n",
    "        self.spin_model = None \n",
    "        self.whichweight = None \n",
    "        self.SFRDmodel = SFRDmodel  # SFRD model chosen for the weights \n",
    "    \n",
    "        \n",
    "    def convert_a_to_P_circular(separation, M1, M2):\n",
    "        \"\"\"calculate Period from separation\n",
    "        separation is separation (needs to be given in astropy units)\n",
    "        M1 and M2 are masses of the binary\n",
    "\n",
    "        \"\"\"\n",
    "        G = const.G # [gr cm s^2]\n",
    "\n",
    "\n",
    "        mu = G*(M1+M2)\n",
    "        period = 2*np.pi * np.sqrt(separation**3/mu)\n",
    "\n",
    "\n",
    "        return period   \n",
    "        \n",
    "        \n",
    "    def setCOMPASData(self):\n",
    "        \"\"\" reads in some of the COMPAS parameters needed from hdf5 file \"\"\"\n",
    "        \n",
    "        fDCO      = self.h5file['doubleCompactObjects'] # hdf5 file with the DCO information\n",
    "        fSN       = self.h5file['supernovae']  # hdf5 file with the SN information\n",
    "        #\n",
    "        self.M1 = fDCO['M1'][...].squeeze()   # Compact object mass [Msun] of the initially more massive star\n",
    "        self.M2 = fDCO['M2'][...].squeeze()  # Compact object mass [Msun] of the initially less massive star\n",
    "        self.metallicitySystems  = fDCO['Metallicity1'][...].squeeze()\n",
    "        \n",
    "        if self.whichweight =='DCOweights':\n",
    "            self.weight  = fDCO['weight'][...].squeeze()  # system weights, these are representative of sampling that binary from the given metallicity in a galaxy.\n",
    "        elif self.whichweight =='detected':\n",
    "            self.weight  = fdata['weights_detected']['w_'+self.SFRDmodel]  # weights that account also for the detectability of the DCO and the star formation history (SFRD) \n",
    "        elif self.whichweight =='intrinsic':\n",
    "            self.weight  = fdata['weights_intrinsic']['w_'+self.SFRDmodel]  # weights that account for the intrinsic rate (at redshift ~0) of the DCO for a given star formation history (SFRD) \n",
    "        \n",
    "        \n",
    "        \n",
    "        self.seedsDCO = fDCO['seed'][...].squeeze()  # get the seeds in the DCO file \n",
    "        self.seedsSN = fSN['randomSeed'][...].squeeze()    # get the seeds in the SN file \n",
    "        maskSNdco = np.in1d(self.seedsSN,  self.seedsDCO) # mask in the SNe files the SNe that correspond to our DCO\n",
    "        whichSN = fSN['whichStar'][...].squeeze()[maskSNdco]   # this is 1 if the initially primary star goes SN and 2 if the secondary goes supernova\n",
    "        whichSN1 = whichSN[::2] # get whichStar for the first SN   (there are 2 SNe for all DCOs)       \n",
    "\n",
    "        self.separationPreSN2= fdata['supernovae']['separationBefore'][...].squeeze()[maskSNdco][1::2] # the separation just before each SN  in [Rsun], we need only the separation for the second SN to occur, so the [1::2]  \n",
    "        self.PeriodPreSN2 = convert_a_to_P_circular(separation=self.separationPreSN2*u.Rsun, M1=M1*u.Msun, M2=M2*u.Msun)  # obtain the Period before the SNe\n",
    "        self.PeriodPreSN2 = self.PeriodPreSN2.to(u.d).value\n",
    "        self.MassCOCoreSN = fdata['supernovae']['MassCOCoreSN'][...].squeeze()[maskSNdco][1::2]   # obtain the CO core mass before the SNe\n",
    "        \n",
    "        self.st1 = fDCO['stellarType1'][...].squeeze()   # obtain the final stellar type of the Primary \n",
    "        self.st2 = fDCO['stellarType2'][...].squeeze()   # obtain the final stellar type of the Secondary\n",
    "        \n",
    "        self.spinM1 = np.zeros_like(self.M1)  # start by giving all primaries zero spin \n",
    "        self.spinM2 = np.zeros_like(self.M2)  # start by giving all secondaries zero spin \n",
    "        # did M1 form in the first SN?\n",
    "        self.M1formedFirst =  (whichSN1==1) # mask that is 1 if the  compact object M1 formed first in the DCO\n",
    "        # did M2 form in the first SN?\n",
    "        self.M2formedFirst =  (whichSN1==2)  # mask that is 1 if the compact object M2 formed first in the DCO\n",
    "#         self.mWR =  fdata['supernovae']['MassCOCoreSN'][...].squeeze()[maskSNdco][1::2]   # obtain the CO core mass before the SNe\n",
    "        self.mWR =  fdata['supernovae']['MassStarSN'][...].squeeze()[maskSNdco][1::2]   # obtain the CO core mass before the SNe\n",
    "\n",
    "\n",
    "    \n",
    "    def QinSpin(self):\n",
    "        \"\"\"\n",
    "        Returns spinM1 and spinM2, the spins of the compact objects formed from\n",
    "        the initial most massive star (M1) and initial least massive star (M2), respectively. \n",
    "        \n",
    "        In this approximation only a BH that is formed second can be tidally spun up, if its \n",
    "        pre-SN separation is tight enough. \n",
    "        \n",
    "        see Qin+18, approximation originally given in https://ui.adsabs.harvard.edu/abs/2021MNRAS.504.3682C \n",
    "        (and Equation 5 in https://arxiv.org/pdf/2103.02608.pdf)\n",
    "        \n",
    "        \"\"\"\n",
    "        \n",
    "        m_, c_ = -5./3, 0.5 # from Qin + 2018 \n",
    "\n",
    "        # if BH & formed second, calculate spin with Qin+18 approximation\n",
    "        maskGiveSpin1 = ((self.st1==14) & (self.M1formedFirst==0))\n",
    "        maskGiveSpin2 = ((self.st2==14) & (self.M2formedFirst==0))\n",
    "        \n",
    "        \n",
    "        # # first mask super tight NSBH that will get spin 1\n",
    "        maskSpin1 = (np.log10(self.PeriodPreSN2) < -0.3) & (maskGiveSpin1 ==1)                        \n",
    "        maskSpin2 = (np.log10(self.PeriodPreSN2) < -0.3) & (maskGiveSpin2 ==1)\n",
    "        self.spinM1[maskSpin1] = np.ones(np.sum(maskSpin1)) # fill with ones \n",
    "        self.spinM2[maskSpin2] = np.ones(np.sum(maskSpin2)) # fill with ones \n",
    "  \n",
    "        \n",
    "        # now assign the spin for systems that lie in between the 0 and 1 spin using the fitting formulae\n",
    "        maskChi_var1 = (np.log10(self.PeriodPreSN2) > -0.3) &  (np.log10(self.PeriodPreSN2) < 0.3)  &(maskGiveSpin1==1)\n",
    "        self.spinM1[maskChi_var1] =  m_ * np.log10(self.PeriodPreSN2[maskChi_var1])  + c_   \n",
    "             \n",
    "        maskChi_var2 = (np.log10(self.PeriodPreSN2) > -0.3) &  (np.log10(self.PeriodPreSN2) < 0.3)  &(maskGiveSpin2==1)\n",
    "        self.spinM2[maskChi_var2] =  m_ * np.log10(self.PeriodPreSN2[maskChi_var2])  + c_   \n",
    "              \n",
    "    \n",
    "        return self.spinM1, self.spinM2\n",
    "\n",
    "    \n",
    "    \n",
    "    def calculate_alpha_beta_Bavera21(self, c1_alpha, c2_alpha, c3_alpha,  c1_beta,  c2_beta,  c3_beta):\n",
    "\n",
    "\n",
    "        alpha = self.function_f_Bavera21(c1_alpha, c2_alpha, c3_alpha)\n",
    "        beta  = self.function_f_Bavera21(c1_beta,  c2_beta,  c3_beta)\n",
    "\n",
    "        return alpha, beta\n",
    "\n",
    "    def function_f_Bavera21(self, c1, c2, c3):\n",
    "        \"\"\"\n",
    "        m_WR with units using astropy\n",
    "\n",
    "\n",
    "        \"\"\"\n",
    "\n",
    "        top = -c1\n",
    "        bottom = c2 + np.exp(-c3*self.mWR)\n",
    "\n",
    "        f = top/bottom\n",
    "\n",
    "\n",
    "        return f        \n",
    "        \n",
    "        \n",
    "    def BaveraSpin(self):\n",
    "        \"\"\"\n",
    "        Returns spinM1 and spinM2, the spins of the compact objects formed from\n",
    "        the initial most massive star (M1) and initial least massive star (M2), respectively. \n",
    "        \n",
    "        In this approximation only a BH that is formed second can be tidally spun up, if its \n",
    "        pre-SN separation is tight enough. \n",
    "\n",
    "        based on Eq 1 and 2 from https://arxiv.org/pdf/2105.09077.pdf\n",
    "    \n",
    "    \n",
    "        \"\"\"\n",
    "\n",
    "        # numerical coefficients form text below Eq 2\n",
    "        # we use the values at helium depletion, since we later on use the C/O core mass. \n",
    "        c1_alpha, c2_alpha, c3_alpha =  0.059305, 0.035552, 0.270245\n",
    "        c1_beta,  c2_beta, c3_beta   =  0.026960, 0.011001, 0.420739\n",
    "        \n",
    "        alpha, beta = self.calculate_alpha_beta_Bavera21(c1_alpha, c2_alpha, c3_alpha,  c1_beta,  c2_beta,  c3_beta)      \n",
    "        \n",
    "\n",
    "        # if BH & formed second, calculate spin with Qin+18 approximation\n",
    "        maskGiveSpin1 = ((self.st1==14) & (self.M1formedFirst==0))\n",
    "        maskGiveSpin2 = ((self.st2==14) & (self.M2formedFirst==0))\n",
    "        \n",
    "        # \n",
    "        # mask shorter than 1 day & a BH formed second \n",
    "        maskSpin1 = (np.log10(self.PeriodPreSN2) < 1) & (maskGiveSpin1 ==1)                        \n",
    "        maskSpin2 = (np.log10(self.PeriodPreSN2) < 1) & (maskGiveSpin2 ==1)\n",
    "        \n",
    "        first_term = (alpha* (np.log10(self.PeriodPreSN2)**2)) \n",
    "        second_term =  ( beta * np.log10(self.PeriodPreSN2))  \n",
    "        self.spinM1[maskSpin1]  =  first_term[maskSpin1]  + second_term[maskSpin1]  \n",
    "        self.spinM2[maskSpin2]  =  first_term[maskSpin2]  + second_term[maskSpin2] \n",
    "        \n",
    "        mask_ = (self.spinM1<0)\n",
    "        self.spinM1[self.spinM1<0] = np.zeros(np.sum(mask_))\n",
    "        mask_ = (self.spinM2<0)\n",
    "        self.spinM2[self.spinM2<0] = np.zeros(np.sum(mask_))\n",
    "        \n",
    "        \n",
    "        return self.spinM1, self.spinM2\n",
    "    \n",
    "    \n",
    "    "
   ]
  },
  {
   "cell_type": "code",
   "execution_count": null,
   "metadata": {},
   "outputs": [],
   "source": []
  },
  {
   "cell_type": "markdown",
   "metadata": {},
   "source": [
    "## 1. \"Qin+18\" \n",
    "#####  Approximate spin fit based on Qin+18, originally as given in https://ui.adsabs.harvard.edu/abs/2021MNRAS.504.3682C (and Equation 5 in https://arxiv.org/pdf/2103.02608.pdf)\n",
    "\n"
   ]
  },
  {
   "cell_type": "code",
   "execution_count": null,
   "metadata": {},
   "outputs": [],
   "source": [
    "\n",
    "spin = COspin(data_path=path)  # set class \n",
    "spin.setCOMPASData() # reads in the COMPAS DCO parameters \n",
    "spinM1, spinM2  = spin.QinSpin()\n",
    "\n",
    "\n",
    "\n",
    "plt.scatter(spin.M2, spin.spinM2)\n",
    "plt.xlabel('BH mass [Msun]')\n",
    "plt.ylabel('BH spin ')\n",
    "plt.show()\n",
    "\n",
    "plt.hist(spin.spinM2, bins=20)\n",
    "plt.xlabel('BH spin')\n",
    "plt.ylabel('count ')\n",
    "plt.yscale('log')\n",
    "plt.show()\n",
    "\n",
    "\n",
    "\n",
    "plt.hist(spin.M2, bins=20)\n",
    "plt.xlabel('M2 mass [Msun]')\n",
    "plt.ylabel('count ')\n",
    "plt.yscale('log')\n",
    "plt.show()\n"
   ]
  },
  {
   "cell_type": "markdown",
   "metadata": {},
   "source": [
    "## 2. \"Bavera+21\" \n",
    "#####  Approximate spin fit based on Qin+18, originally as given in https://ui.adsabs.harvard.edu/abs/2021MNRAS.504.3682C (and Equation 5 in https://arxiv.org/pdf/2103.02608.pdf)\n",
    "\n"
   ]
  },
  {
   "cell_type": "code",
   "execution_count": null,
   "metadata": {},
   "outputs": [],
   "source": [
    "## STILL IN BETA PHASE  ## \n",
    "\n",
    "\n",
    "\n",
    "spin = COspin(data_path=path)  # set class \n",
    "spin.setCOMPASData() # reads in the COMPAS DCO parameters \n",
    "spinM1, spinM2  = spin.BaveraSpin()\n",
    "\n",
    "\n",
    "mask_ = (spinM2<0)\n",
    "print('WR mass [Msun]:', spin.mWR[mask_])\n",
    "print('period pre SNe [Rsun]:', spin.PeriodPreSN2[mask_])\n",
    "print('spin:', spinM2[mask_])\n",
    "\n",
    "\n",
    "mask_ = (spinM2>0)\n",
    "print('WR mass [Msun]:', spin.mWR[mask_])\n",
    "print('period pre SNe [Rsun]:', spin.PeriodPreSN2[mask_])\n",
    "print('spin:', spinM2[mask_])\n",
    "\n",
    "plt.scatter(spin.M2, spin.spinM2)\n",
    "plt.xlabel('BH mass [Msun]')\n",
    "plt.ylabel('BH spin ')\n",
    "plt.show()\n",
    "\n",
    "plt.hist(spin.spinM2, bins=20)\n",
    "plt.xlabel('BH spin')\n",
    "plt.ylabel('count ')\n",
    "plt.yscale('log')\n",
    "plt.show()\n"
   ]
  },
  {
   "cell_type": "code",
   "execution_count": null,
   "metadata": {},
   "outputs": [],
   "source": []
  },
  {
   "cell_type": "code",
   "execution_count": null,
   "metadata": {},
   "outputs": [],
   "source": []
  }
 ],
 "metadata": {
  "kernelspec": {
   "display_name": "Python 3",
   "language": "python",
   "name": "python3"
  },
  "language_info": {
   "codemirror_mode": {
    "name": "ipython",
    "version": 3
   },
   "file_extension": ".py",
   "mimetype": "text/x-python",
   "name": "python",
   "nbconvert_exporter": "python",
   "pygments_lexer": "ipython3",
   "version": "3.7.4"
  }
 },
 "nbformat": 4,
 "nbformat_minor": 2
}
