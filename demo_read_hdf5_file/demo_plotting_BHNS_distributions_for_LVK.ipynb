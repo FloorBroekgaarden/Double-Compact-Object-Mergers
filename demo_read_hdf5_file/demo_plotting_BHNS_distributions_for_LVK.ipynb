{
 "cells": [
  {
   "cell_type": "code",
   "execution_count": 1,
   "metadata": {},
   "outputs": [
    {
     "name": "stderr",
     "output_type": "stream",
     "text": [
      "/var/folders/h9/clnzhf8d5p9cx1bsz28r5h6w0000gn/T/ipykernel_55126/2124297759.py:7: DeprecationWarning: Importing display from IPython.core.display is deprecated since IPython 7.14, please import from IPython display\n",
      "  from IPython.core.display import display, HTML\n"
     ]
    },
    {
     "data": {
      "text/html": [
       "<style>.container { width:100% !important; }</style>"
      ],
      "text/plain": [
       "<IPython.core.display.HTML object>"
      ]
     },
     "metadata": {},
     "output_type": "display_data"
    }
   ],
   "source": [
    "# import sys\n",
    "# sys.path.append('../Scripts')\n",
    "# from PostProcessingScripts import * \n",
    "# import pandas as pd \n",
    "# import string \n",
    "# just to make the cells appear wider:\n",
    "from IPython.core.display import display, HTML\n",
    "display(HTML(\"<style>.container { width:100% !important; }</style>\"))\n",
    "\n",
    "\n",
    "\n",
    "import h5py as h5\n",
    "import numpy as np\n",
    "import os\n",
    "import matplotlib.pyplot as plt\n",
    "import pandas as pd\n",
    "import string\n"
   ]
  },
  {
   "cell_type": "code",
   "execution_count": 13,
   "metadata": {},
   "outputs": [
    {
     "name": "stdout",
     "output_type": "stream",
     "text": [
      "<KeysViewHDF5 ['RLOF', 'commonEnvelopes', 'doubleCompactObjects', 'formationChannels', 'supernovae', 'systems']>\n",
      "<KeysViewHDF5 ['ID', 'Metallicity1', 'Metallicity2', 'SEED', 'disbound', 'eccentricity', 'mass1', 'mass2', 'meanAnomaly1', 'meanAnomaly2', 'omega1', 'omega2', 'phi1', 'phi2', 'rk1', 'rk2', 'samplingPhase', 'separation', 'stellar_merger', 'theta1', 'theta2', 'weight']>\n",
      "<KeysViewHDF5 ['COCoreMassDCOFormation1', 'COCoreMassDCOFormation2', 'ECSNPrimary', 'ECSNSecondary', 'HeCoreMassDCOFormation1', 'HeCoreMassDCOFormation2', 'ID', 'M1', 'M1ZAMS', 'M2', 'M2ZAMS', 'Metallicity1', 'Metallicity2', 'PISNPrimary', 'PISNSecondary', 'PPISNPrimary', 'PPISNSecondary', 'PrimaryMTCase', 'RL1to2PostCEE', 'RL1to2PreCEE', 'RL2to1PostCEE', 'RL2to1PreCEE', 'RLOFSecondaryAfterCEE', 'SecondaryMTCase', 'SemiMajorAxisPostCEE', 'SemiMajorAxisPreCEE', 'USSNPrimary', 'USSNSecondary', 'coreMassDCOFormation1', 'coreMassDCOFormation2', 'doubleCommonEnvelopeFlag', 'drawnKick1', 'drawnKick2', 'eccentricityDCOFormation', 'eccentricityInitial', 'eccentricityPrior2ndSN', 'kickDirectionPower', 'lambda1CE', 'lambda2CE', 'mergesInHubbleTimeFlag', 'optimisticCEFlag', 'phiSupernova1', 'phiSupernova2', 'recycledPrimary', 'recycledSecondary', 'relativeVelocity2ndSN', 'samplingPhase', 'seed', 'separationDCOFormation', 'separationInitial', 'separationPrior2ndSN', 'sigmaKickBH', 'sigmaKickNS', 'stellarType1', 'stellarType2', 'tc', 'tform', 'thetaSupernova1', 'thetaSupernova2', 'totalMassDCOFormation1', 'totalMassDCOFormation2', 'weight']>\n"
     ]
    }
   ],
   "source": [
    "\n",
    "# to obtain properties of ALL binaries simulated, do this:\n",
    "\n",
    "DCOtype = 'BHNS'   # You can change this line to 'BBH', 'BHNS' 'BNS', or 'ALL' (All DCOs)  # change this line! \n",
    "path = '/Volumes/SimonsFoundation/DataDCO/fiducial/COMPASOutput.h5' # change this line! \n",
    "fdata = h5.File(path)\n",
    "# shows the different files within the hdf5 folder \n",
    "print(fdata.keys())\n",
    "\n"
   ]
  },
  {
   "cell_type": "code",
   "execution_count": null,
   "metadata": {},
   "outputs": [],
   "source": []
  },
  {
   "cell_type": "code",
   "execution_count": null,
   "metadata": {},
   "outputs": [],
   "source": []
  },
  {
   "cell_type": "markdown",
   "metadata": {},
   "source": [
    "# 3 \"The Big file\" with all the data points: Note that my data is weighted!\n",
    "\n",
    "all lines of code that you might have to change are given with \"# change this line! \" "
   ]
  },
  {
   "cell_type": "code",
   "execution_count": 2,
   "metadata": {},
   "outputs": [
    {
     "name": "stdout",
     "output_type": "stream",
     "text": [
      "<KeysViewHDF5 ['RLOF', 'commonEnvelopes', 'doubleCompactObjects', 'formationChannels', 'supernovae', 'systems', 'weights_detected', 'weights_detectedPerRedshift', 'weights_intrinsic', 'weights_intrinsicPerRedshift']>\n",
      "this might take a little while, particularly if you are using the BBH\n"
     ]
    }
   ],
   "source": [
    "# to obtain properties of ALL binaries simulated, do this:\n",
    "\n",
    "DCOtype = 'BHNS'   # You can change this line to 'BBH', 'BHNS' 'BNS', or 'ALL' (All DCOs)  # change this line! \n",
    "\n",
    "\n",
    "\n",
    "# add path to where the COMPASOutput.h5 file is stored. \n",
    "# For you the part '/Volumes/Andromeda/DATA/AllDCO_bugfix/fiducial/' is probably different\n",
    "path = '/Volumes/Andromeda/DATA/AllDCO_bugfix/fiducial/COMPASCompactOutput_'+ DCOtype +'_A.h5' # change this line! \n",
    "\n",
    "\n",
    "\n",
    "fdata = h5.File(path)\n",
    "# shows the different files within the hdf5 folder \n",
    "print(fdata.keys())\n",
    "\n",
    "\n",
    "\n",
    "print('this might take a little while, particularly if you are using the BBH')\n",
    "\n",
    "# # This code below gets the COMPAS data and only the systems that are DCOs \n",
    "# Data            = COMPASData(path=path, lazyData=True, Mlower=5., \\\n",
    "#                  Mupper=150., binaryFraction=1)\n",
    "# Data.setCOMPASDCOmask(types=DCOtype,  withinHubbleTime=True, optimistic=False)\n",
    "# Data.setCOMPASData()\n",
    "# SeedsHubble    = Data.seeds[Data.Hubble==True]\n",
    "\n",
    "\n",
    "\n",
    "\n",
    "\n",
    "\n",
    "\n",
    "\n",
    "\n"
   ]
  },
  {
   "cell_type": "markdown",
   "metadata": {},
   "source": [
    "### M1, M2 and Chirpmass in Msun\n",
    "\n",
    "The most used parameters are quoted in the file \"doubleCompactObjects\", that describes many properties of the binaries that form the type of DCO merger (here, BHNS) below is an example: \n"
   ]
  },
  {
   "cell_type": "code",
   "execution_count": 3,
   "metadata": {},
   "outputs": [
    {
     "name": "stdout",
     "output_type": "stream",
     "text": [
      "<KeysViewHDF5 ['COCoreMassDCOFormation1', 'COCoreMassDCOFormation2', 'ECSNPrimary', 'ECSNSecondary', 'HeCoreMassDCOFormation1', 'HeCoreMassDCOFormation2', 'ID', 'M1', 'M1ZAMS', 'M2', 'M2ZAMS', 'Metallicity1', 'Metallicity2', 'PISNPrimary', 'PISNSecondary', 'PPISNPrimary', 'PPISNSecondary', 'PrimaryMTCase', 'RL1to2PostCEE', 'RL1to2PreCEE', 'RL2to1PostCEE', 'RL2to1PreCEE', 'RLOFSecondaryAfterCEE', 'SecondaryMTCase', 'SemiMajorAxisPostCEE', 'SemiMajorAxisPreCEE', 'USSNPrimary', 'USSNSecondary', 'coreMassDCOFormation1', 'coreMassDCOFormation2', 'doubleCommonEnvelopeFlag', 'drawnKick1', 'drawnKick2', 'eccentricityDCOFormation', 'eccentricityInitial', 'eccentricityPrior2ndSN', 'kickDirectionPower', 'mergesInHubbleTimeFlag', 'optimisticCEFlag', 'phiSupernova1', 'phiSupernova2', 'recycledPrimary', 'recycledSecondary', 'relativeVelocity2ndSN', 'samplingPhase', 'seed', 'separationDCOFormation', 'separationInitial', 'separationPrior2ndSN', 'sigmaKickBH', 'sigmaKickNS', 'stellarType1', 'stellarType2', 'tc', 'tform', 'thetaSupernova1', 'thetaSupernova2', 'totalMassDCOFormation1', 'totalMassDCOFormation2', 'weight']>\n"
     ]
    }
   ],
   "source": [
    "# see several parameters that are contained in this file\n",
    "print(fdata['doubleCompactObjects'].keys())"
   ]
  },
  {
   "cell_type": "markdown",
   "metadata": {},
   "source": [
    "The weights e.g. for LIGO weighted are also given in these files, under \"weights_detected\", this takes into account the star formation history of all mergers and the sensitivity of a GW detector at design configuration (LVK). \n",
    "\n"
   ]
  },
  {
   "cell_type": "code",
   "execution_count": 4,
   "metadata": {},
   "outputs": [
    {
     "name": "stdout",
     "output_type": "stream",
     "text": [
      "<KeysViewHDF5 ['SEED', 'w_000', 'w_111', 'w_112', 'w_113', 'w_121', 'w_122', 'w_123', 'w_131', 'w_132', 'w_133', 'w_211', 'w_212', 'w_213', 'w_221', 'w_222', 'w_223', 'w_231', 'w_232', 'w_233', 'w_311', 'w_312', 'w_313', 'w_321', 'w_322', 'w_323', 'w_331', 'w_332', 'w_333']>\n"
     ]
    }
   ],
   "source": [
    "print(fdata['weights_detected'].keys()) \n",
    "\n",
    "\n"
   ]
  },
  {
   "cell_type": "code",
   "execution_count": 5,
   "metadata": {},
   "outputs": [
    {
     "name": "stderr",
     "output_type": "stream",
     "text": [
      "IOPub data rate exceeded.\n",
      "The notebook server will temporarily stop sending output\n",
      "to the client in order to avoid crashing it.\n",
      "To change this limit, set the config variable\n",
      "`--NotebookApp.iopub_data_rate_limit`.\n",
      "\n",
      "Current values:\n",
      "NotebookApp.iopub_data_rate_limit=1000000.0 (bytes/sec)\n",
      "NotebookApp.rate_limit_window=3.0 (secs)\n",
      "\n"
     ]
    },
    {
     "data": {
      "image/png": "[encoded data removed]",
      "text/plain": [
       "<Figure size 432x288 with 1 Axes>"
      ]
     },
     "metadata": {
      "needs_background": "light"
     },
     "output_type": "display_data"
    }
   ],
   "source": [
    "# to obtain the properties of the selected DCOtype you simply do this:\n",
    "\n",
    "fDCO      = fdata['doubleCompactObjects']\n",
    "#Stuff I need for cosmological integral\n",
    "\n",
    "\n",
    "# at this moment we dont need to specify a mask, since our datafile has already taken this into account. \n",
    "DCOmask = [True]*(len(fDCO['Metallicity1'][...].squeeze()))\n",
    "print(DCOmask)\n",
    "\n",
    "\n",
    "metallicitySystems  = fDCO['Metallicity1'][...].squeeze()[DCOmask]  # Metallicity at ZAMS \n",
    "delayTimes          = fDCO['tform'][...].squeeze()[DCOmask] + \\\n",
    "                           fDCO['tc'][...].squeeze()[DCOmask]   # delay time \n",
    "tc                  = fDCO['tc'][...].squeeze()[DCOmask]  # coalescence time (or merger time)\n",
    "M1              = fDCO['M1'][...].squeeze()[DCOmask]     # Compact object mass of star 1 \n",
    "M2               = fDCO['M2'][...].squeeze()[DCOmask]    # Compact object mass of star 2 \n",
    "m1zams              = fDCO['M1ZAMS'][...].squeeze()[DCOmask]   # Mass at ZAMS of star 1 \n",
    "m2zams              = fDCO['M2ZAMS'][...].squeeze()[DCOmask]   # Mass at ZAMS of star 2 \n",
    "separationzams      = fDCO['separationInitial'][...].squeeze()[DCOmask]   # separation at ZAMS of binary \n",
    "\n",
    "\n",
    "# we will use for this demo the weights from Star formation history model xyz = '000', these can be obtained using:\n",
    "weights = fdata['weights_detected']['w_000']\n",
    "\n",
    "# change this to formation weights by uncommenting the following line:\n",
    "# weights = fDCO['weight']\n",
    "\n",
    "\n",
    "# other models can be chosen too. (there are 28 options currently)\n",
    "\n",
    "\n",
    "def chirpmass(m1, m2):\n",
    "    numer = (m1*m2)**(3./5)\n",
    "    denom = (m1+m2)**(1./5)\n",
    "    \n",
    "    return numer/denom\n",
    "\n",
    "# and you can plot properties, e.g., the chirpmass distribution: \n",
    "chirpmass =chirpmass(m1=M1, m2=M2)\n",
    "\n",
    "\n",
    "plt.hist(chirpmass, bins=100, weights=weights)\n",
    "plt.xlabel('chirpmass [Msun]')\n",
    "plt.ylabel('weighted rate for LVK network at design sensitivity')\n",
    "plt.show()\n",
    "\n",
    "\n"
   ]
  },
  {
   "cell_type": "markdown",
   "metadata": {},
   "source": [
    "### M1 more massive, M2 least massive:\n",
    "\n",
    "\n",
    "\n",
    "\n"
   ]
  },
  {
   "cell_type": "code",
   "execution_count": 6,
   "metadata": {},
   "outputs": [
    {
     "data": {
      "image/png": "[encoded data removed]",
      "text/plain": [
       "<Figure size 432x288 with 1 Axes>"
      ]
     },
     "metadata": {
      "needs_background": "light"
     },
     "output_type": "display_data"
    }
   ],
   "source": [
    "def obtainM1BHandM2BHassymetric(m1, m2):\n",
    "    m1bh, m2bh = np.zeros_like(m1), np.zeros_like(m1)\n",
    "    maskm1heavier = ( m1 >= m2)\n",
    "    maskm2heavier = (m1 < m2)\n",
    "    \n",
    "    m1bh[maskm1heavier] = m1[maskm1heavier] \n",
    "    m1bh[maskm2heavier] = m2[maskm2heavier]\n",
    "    m2bh[maskm1heavier] = m2[maskm1heavier]\n",
    "    m2bh[maskm2heavier] = m1[maskm2heavier]\n",
    "    \n",
    "    return m1bh, m2bh # m1bh has all the heaviest systems\n",
    "\n",
    "\n",
    "\n",
    "M_most_massive, M_least_massive = obtainM1BHandM2BHassymetric(m1=M1, m2=M2)\n",
    "\n",
    "\n",
    "plt.scatter(M_most_massive, M_least_massive)\n",
    "plt.xlabel('Most massive [Msun]')\n",
    "plt.ylabel('Least massive [Msun]')\n",
    "plt.show()"
   ]
  },
  {
   "cell_type": "markdown",
   "metadata": {},
   "source": [
    "\n",
    "\n",
    "### Metallicity \n",
    "\n",
    "the metallicity of each data point can be obtained with \"metallicitySystems\"\n",
    "I used a total of 53 different metallicity bins, quoted in the bottem when printing \"Data.metallicityGrid\" "
   ]
  },
  {
   "cell_type": "code",
   "execution_count": 8,
   "metadata": {},
   "outputs": [
    {
     "data": {
      "image/png": "[encoded data removed]",
      "text/plain": [
       "<Figure size 432x288 with 1 Axes>"
      ]
     },
     "metadata": {
      "needs_background": "light"
     },
     "output_type": "display_data"
    },
    {
     "name": "stdout",
     "output_type": "stream",
     "text": [
      "this mostly just shows my metallicity bins and where BHNS are originating from\n"
     ]
    }
   ],
   "source": [
    "# metallicitySystems = metallicitySystems\n",
    "plt.hist(metallicitySystems, bins=100, weights=weights)\n",
    "plt.xlabel('metallicity ')\n",
    "plt.ylabel('weighted rate in LVK detector')\n",
    "plt.show()\n",
    "\n",
    "\n",
    "\n",
    "\n",
    "print('this mostly just shows my metallicity bins and where BHNS are originating from')"
   ]
  },
  {
   "cell_type": "markdown",
   "metadata": {},
   "source": [
    "### Delay time  of each simulated data point in Myr"
   ]
  },
  {
   "cell_type": "code",
   "execution_count": 10,
   "metadata": {},
   "outputs": [
    {
     "data": {
      "image/png": "[encoded data removed]",
      "text/plain": [
       "<Figure size 432x288 with 1 Axes>"
      ]
     },
     "metadata": {
      "needs_background": "light"
     },
     "output_type": "display_data"
    }
   ],
   "source": [
    "\n",
    "\n",
    "plt.hist(delayTimes, bins=100, weights=weights)\n",
    "plt.xlabel('Delay time [Myr] ')\n",
    "plt.ylabel('weighted rate in LVK detector')\n",
    "plt.show()\n",
    "\n",
    "\n"
   ]
  },
  {
   "cell_type": "code",
   "execution_count": null,
   "metadata": {},
   "outputs": [],
   "source": []
  },
  {
   "cell_type": "markdown",
   "metadata": {},
   "source": [
    "### TO do?: we now looked at BHNS distributions and weighted them with the LVK detector weights, how do these distributions change when instead looking at intrinsic weighted distributions? \n",
    "\n",
    "\n",
    "### try to do this by changing the weights obtained from fdata['weights_detected']  to  fdata['weights_intrinsic'] \n",
    "\n"
   ]
  },
  {
   "cell_type": "code",
   "execution_count": null,
   "metadata": {},
   "outputs": [],
   "source": []
  },
  {
   "cell_type": "code",
   "execution_count": null,
   "metadata": {},
   "outputs": [],
   "source": []
  }
 ],
 "metadata": {
  "kernelspec": {
   "display_name": "Python 3 (ipykernel)",
   "language": "python",
   "name": "python3"
  },
  "language_info": {
   "codemirror_mode": {
    "name": "ipython",
    "version": 3
   },
   "file_extension": ".py",
   "mimetype": "text/x-python",
   "name": "python",
   "nbconvert_exporter": "python",
   "pygments_lexer": "ipython3",
   "version": "3.9.16"
  }
 },
 "nbformat": 4,
 "nbformat_minor": 2
}
