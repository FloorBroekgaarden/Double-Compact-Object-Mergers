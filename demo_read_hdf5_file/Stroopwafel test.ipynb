{
 "cells": [
  {
   "cell_type": "code",
   "execution_count": 1,
   "metadata": {},
   "outputs": [
    {
     "name": "stderr",
     "output_type": "stream",
     "text": [
      "/var/folders/lc/vg4hc2nn2pn05y4lw3h5wmpm0000gn/T/ipykernel_22690/2832557276.py:1: DeprecationWarning: Importing display from IPython.core.display is deprecated since IPython 7.14, please import from IPython display\n",
      "  from IPython.core.display import display, HTML\n"
     ]
    },
    {
     "data": {
      "text/html": [
       "<style>.container { width:100% !important; }</style>"
      ],
      "text/plain": [
       "<IPython.core.display.HTML object>"
      ]
     },
     "metadata": {},
     "output_type": "display_data"
    }
   ],
   "source": [
    "from IPython.core.display import display, HTML\n",
    "display(HTML(\"<style>.container { width:100% !important; }</style>\"))\n",
    "\n",
    "\n",
    "\n",
    "import h5py as h5\n",
    "import numpy as np\n",
    "import os\n",
    "import matplotlib.pyplot as plt\n",
    "import pandas as pd\n",
    "import string\n",
    "\n",
    "import astropy.constants as c\n",
    "\n",
    "import astropy.units as u"
   ]
  },
  {
   "cell_type": "code",
   "execution_count": 11,
   "metadata": {},
   "outputs": [
    {
     "name": "stdout",
     "output_type": "stream",
     "text": [
      "31.39927676222473 Myr\n"
     ]
    }
   ],
   "source": [
    "c1 = (c.G*(c.M_sun**2.)) / (c.L_sun * c.R_sun)\n",
    "\n",
    "print(c1.to(u.Myr))"
   ]
  },
  {
   "cell_type": "code",
   "execution_count": 8,
   "metadata": {},
   "outputs": [
    {
     "name": "stdout",
     "output_type": "stream",
     "text": [
      "<KeysViewHDF5 ['BSE_Common_Envelopes', 'BSE_Double_Compact_Objects', 'BSE_RLOF', 'BSE_Supernovae', 'BSE_System_Parameters', 'Run_Details']>\n",
      "\n",
      "<KeysViewHDF5 ['Add_Options_To_SysParms', 'Allow_Immediate_RLOF>CE_To_Survive_CE', 'Allow_MS_To_Survive_CE', 'Allow_Non_Stripped_ECSN', 'Allow_RLOF@Birth', 'Allow_Radiative_Envelope_To_Survive_CE', 'Allow_Touching@Birth', 'BB_Mass_xFer_Stblty_Prscrptn', 'BH_Kicks', 'CE_Alpha', 'CE_Alpha_Thermal', 'CE_Formalism', 'CE_Lambda', 'CE_Lambda_Multiplier', 'CE_Lambda_Prscrptn', 'CE_Mass_Accr_Constant', 'CE_Mass_Accr_Max', 'CE_Mass_Accr_Min', 'CE_Mass_Accr_Prscrptn', 'CE_Recomb_Enrgy_Dnsty', 'CE_Slope_Kruckow', 'CHE_Mode', 'CH_on_MS(1)', 'CH_on_MS(2)', 'Check_Photon_Tiring_Limit', 'Circularise@MT', 'Conserve_AngMom@Circ', 'Cool_WindMassLoss_Multipl', 'Eccentricity', 'Eccentricity@ZAMS', 'Eccentricity_Dstrbtn', 'Eccentricity_Dstrbtn_Max', 'Eccentricity_Dstrbtn_Min', 'Eddington_Accr_Factor', 'Envelope_State_Prscrptn', 'Equilibrated_At_Birth', 'Error', 'Evolution_Mode', 'Fryer22_crit_COcore_Mass', 'Fryer22_mixing_fraction', 'Fryer_SN_Engine', 'Initial_Mass', 'Initial_Mass(1)', 'Initial_Mass(2)', 'Initial_Mass_Func_Max', 'Initial_Mass_Func_Min', 'Initial_Mass_Func_Power', 'Initial_Mass_Function', 'Kick_Direction_Dstrbtn', 'Kick_Direction_Power', 'Kick_Magnitude', 'Kick_Magnitude(1)', 'Kick_Magnitude(2)', 'Kick_Magnitude_Dstrbtn', 'Kick_Magnitude_Dstrbtn_Max', 'Kick_Magnitude_Random', 'Kick_Magnitude_Random(1)', 'Kick_Magnitude_Random(2)', 'Kick_Mean_Anomaly(1)', 'Kick_Mean_Anomaly(2)', 'Kick_Phi(1)', 'Kick_Phi(2)', 'Kick_Scaling_Factor', 'Kick_Theta(1)', 'Kick_Theta(2)', 'LBV_Factor', 'LBV_Mass_Loss_Prscrptn', 'MCBUR1', 'MM_Kick_Multiplier_BH', 'MM_Kick_Multiplier_NS', 'MM_Sigma_Kick', 'MT_Acc_Efficiency_Prscrptn', 'MT_AngMom_Loss_Prscrptn', 'MT_Crit_MR_Giant_Deg_Acc', 'MT_Crit_MR_Giant_NonDeg_Acc', 'MT_Crit_MR_HE_Giant_Deg_Acc', 'MT_Crit_MR_HE_Giant_NonDeg_Acc', 'MT_Crit_MR_HE_HG_Deg_Acc', 'MT_Crit_MR_HE_HG_NonDeg_Acc', 'MT_Crit_MR_HE_MS_Deg_Acc', 'MT_Crit_MR_HE_MS_NonDeg_Acc', 'MT_Crit_MR_HG_Deg_Acc', 'MT_Crit_MR_HG_NonDeg_Acc', 'MT_Crit_MR_MS_High_Mass_Deg_Acc', 'MT_Crit_MR_MS_High_Mass_NonDeg_Acc', 'MT_Crit_MR_MS_Low_Mass_Deg_Acc', 'MT_Crit_MR_MS_Low_Mass_NonDeg_Acc', 'MT_Crit_MR_WD_Deg_Acc', 'MT_Crit_MR_WD_NonDeg_Acc', 'MT_Fraction_Accreted', 'MT_JLoss', 'MT_JLoss_Macleod_Linear_Frac', 'MT_Rejuvenation_Prscrptn', 'MT_Thermal_Limit_C', 'MT_Thermally_Lmtd_Variation', 'Mass@ZAMS(1)', 'Mass@ZAMS(2)', 'Mass_Loss_Prscrptn', 'Mass_Ratio', 'Mass_Ratio_Dstrbtn', 'Mass_Ratio_Dstrbtn_Max', 'Mass_Ratio_Dstrbtn_Min', 'Max_Donor_Mass', 'Max_Evolution_Time', 'Max_NS_Mass', 'Max_Timesteps', 'Merger', 'Merger_At_Birth', 'Metallicity', 'Metallicity@ZAMS(1)', 'Metallicity@ZAMS(2)', 'Metallicity_Dstrbtn', 'Metallicity_Dstrbtn_Max', 'Metallicity_Dstrbtn_Min', 'Min_Secondary_Mass', 'NS_EOS', 'Neutrino_Mass_Loss_Assmptn', 'Neutrino_Mass_Loss_Value', 'Omega@ZAMS(1)', 'Omega@ZAMS(2)', 'Orbital_Period', 'Orbital_Period_Dstrbtn', 'Orbital_Period_Max', 'Orbital_Period_Min', 'Overall_WindMassLoss_Multipl', 'PISN_Lower_Limit', 'PISN_Upper_Limit', 'PPI_Lower_Limit', 'PPI_Prscrptn', 'PPI_Upper_Limit', 'Pulsar_Mag_Field_Decay_mScale', 'Pulsar_Mag_Field_Decay_tScale', 'Pulsar_Mag_Field_Dstrbtn', 'Pulsar_Mag_Field_Dstrbtn_Max', 'Pulsar_Mag_Field_Dstrbtn_Min', 'Pulsar_Minimum_Mag_Field', 'Pulsar_Spin_Period_Dstrbtn', 'Pulsar_Spin_Period_Dstrbtn_Max', 'Pulsar_Spin_Period_Dstrbtn_Min', 'Record_Type', 'Remnant_Mass_Prscrptn', 'Rotational_Frequency', 'Rotational_Frequency(1)', 'Rotational_Frequency(2)', 'Rotational_Velocity_Dstrbtn', 'SEED', 'SEED(CMDLINE)', 'SEED(OPTION)', 'SN_Kick_Magnitude_Random_Number(1)', 'SN_Kick_Magnitude_Random_Number(2)', 'Semi-Major_Axis', 'Semi-Major_Axis_Dstrbtn', 'Semi-Major_Axis_Dstrbtn_Max', 'Semi-Major_Axis_Dstrbtn_Min', 'Semi-Major_Axis_Dstrbtn_Power', 'SemiMajorAxis@ZAMS', 'Sigma_Kick_CCSN_BH', 'Sigma_Kick_CCSN_NS', 'Sigma_Kick_ECSN', 'Sigma_Kick_USSN', 'Stellar_Type(1)', 'Stellar_Type(2)', 'Stellar_Type@ZAMS(1)', 'Stellar_Type@ZAMS(2)', 'Stellar_Zeta_Prscrptn', 'Unbound', 'WR_Factor', 'Zeta_Adiabatic_Arbitrary', 'Zeta_Main_Sequence', 'Zeta_Radiative_Envelope_Giant', 'mixture_weights', 'qCrit_Prescription']>\n"
     ]
    }
   ],
   "source": [
    "path = '/Users/floorbroekgaarden/Projects/GitHub/Secret_Stroopwafel_Laboratory/output_stroopwafel/run2/COMPAS_Output.h5' # change this line! \n",
    "\n",
    "\n",
    "\n",
    "fdata = h5.File(path)\n",
    "print(fdata.keys())\n",
    "\n",
    "\n",
    "print()\n",
    "fsys = fdata['BSE_System_Parameters']\n",
    "print(fsys.keys())\n",
    "\n",
    "\n",
    "\n"
   ]
  },
  {
   "cell_type": "code",
   "execution_count": 9,
   "metadata": {},
   "outputs": [
    {
     "name": "stdout",
     "output_type": "stream",
     "text": [
      "[1.06648553 1.07706563 1.07010835 0.83365737 1.05885858 1.0733986\n",
      " 1.05982068 1.02906819 0.56447475 1.07376598 0.76506373 1.06638859\n",
      " 1.08035046 0.89042471 1.01346093 0.9879409  1.07894412 0.8508727\n",
      " 1.07263706 1.07605067 0.95914954 1.07805273 1.07600488 0.85486587\n",
      " 0.98722655 0.69881355 1.04677054 1.06470048 1.06833578 1.0754554\n",
      " 1.05875716 1.06827602 0.90305052 0.98389735 1.07202938 1.04964618\n",
      " 1.08491847 0.89009276 0.91174699 1.06050527 1.02968443 1.08211299\n",
      " 1.03046184 1.06127616 1.02023321 0.93080377 0.78270364 1.08217832\n",
      " 1.0322604  1.01798913 0.91598053 0.78032097 0.81989042 1.00069759\n",
      " 1.03783058 0.96159972 1.07539843 0.74779058 0.98654113 1.05457258\n",
      " 1.08218076 1.07040357 0.89062454 1.06966723 0.91739923 1.05180459\n",
      " 1.07773698 1.02799902 1.0705781  1.08387197 0.56125166 1.02815163\n",
      " 1.07916909 0.6639857  1.05874535 1.03014919 0.95011547 0.97925278\n",
      " 0.70028854 1.05731028 0.9714207  1.06066039 1.08585285 1.08273034\n",
      " 0.959293   1.05308126 1.06168445 1.0674495  1.06495189 1.0484639\n",
      " 1.07841933 1.05022199 1.0603686  0.5258676  0.58928612 1.03203143\n",
      " 0.5801951  0.59763418 1.07756063 1.04588786 0.69863476 0.54735739\n",
      " 0.64172185]\n"
     ]
    }
   ],
   "source": [
    "mixture_weights = fsys['mixture_weights'][...].squeeze()\n",
    "print(mixture_weights)"
   ]
  },
  {
   "cell_type": "code",
   "execution_count": null,
   "metadata": {},
   "outputs": [],
   "source": []
  }
 ],
 "metadata": {
  "kernelspec": {
   "display_name": "Python 3 (ipykernel)",
   "language": "python",
   "name": "python3"
  },
  "language_info": {
   "codemirror_mode": {
    "name": "ipython",
    "version": 3
   },
   "file_extension": ".py",
   "mimetype": "text/x-python",
   "name": "python",
   "nbconvert_exporter": "python",
   "pygments_lexer": "ipython3",
   "version": "3.9.16"
  }
 },
 "nbformat": 4,
 "nbformat_minor": 2
}
