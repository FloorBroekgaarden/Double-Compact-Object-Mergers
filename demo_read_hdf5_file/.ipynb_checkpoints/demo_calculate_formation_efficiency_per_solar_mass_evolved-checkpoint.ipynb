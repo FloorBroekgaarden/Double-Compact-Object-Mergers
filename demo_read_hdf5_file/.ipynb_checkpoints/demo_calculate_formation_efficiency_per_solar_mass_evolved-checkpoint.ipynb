{
 "cells": [
  {
   "cell_type": "code",
   "execution_count": 1,
   "id": "96146a4b",
   "metadata": {},
   "outputs": [
    {
     "data": {
      "text/html": [
       "<style>.container { width:100% !important; }</style>"
      ],
      "text/plain": [
       "<IPython.core.display.HTML object>"
      ]
     },
     "metadata": {},
     "output_type": "display_data"
    }
   ],
   "source": [
    "\n",
    "# from __future__ import division # un comment if you use python 2 !\n",
    "import numpy as np\n",
    "import matplotlib.pyplot as plt\n",
    "import h5py as h5\n",
    "import time\n",
    "import sys\n",
    "import copy\n",
    "#Quick fudge to make import from ../Scripts work\n",
    "\n",
    "sys.path.append('../Scripts')\n",
    "\n",
    "\n",
    "import gc\n",
    "\n",
    "\n",
    "# import ClassCosmicIntegrator  as CI #Given settings and redshifts returns rates (2D arrays) Loads the data\n",
    "from PostProcessingScripts import * \n",
    "import ClassCOMPAS     as CC ###\n",
    "# import ClassFormationChannels as FC \n",
    "# from ClassFormationChannels_5mainchannels import * \n",
    "\n",
    "import pandas as pd\n",
    "from astropy import units as u\n",
    "from astropy import constants as const\n",
    "\n",
    "\n",
    "dictDCOtypeDCOlabel = {'BBH':'BHBH', 'BNS':'NSNS', 'BHNS':'BHNS'}\n",
    "\n",
    "\n",
    "\n",
    "from IPython.core.display import display, HTML\n",
    "display(HTML(\"<style>.container { width:100% !important; }</style>\"))\n",
    "\n",
    "\n",
    "\n",
    "import h5py as h5\n",
    "import numpy as np\n",
    "import os\n",
    "import matplotlib.pyplot as plt\n",
    "import pandas as pd\n",
    "import string\n"
   ]
  },
  {
   "cell_type": "code",
   "execution_count": 2,
   "id": "6f113486",
   "metadata": {},
   "outputs": [],
   "source": [
    "metallicityGrid =[0.0001, 0.00011, 0.00012, 0.00014, 0.00016, 0.00017,\\\n",
    "               0.00019, 0.00022, 0.00024, 0.00027, 0.0003, 0.00034, \\\n",
    "               0.00037, 0.00042, 0.00047, 0.00052, 0.00058, 0.00065,\\\n",
    "               0.00073, 0.00081, 0.0009, 0.00101, 0.00113, 0.00126,\\\n",
    "               0.0014, 0.00157, 0.00175, 0.00195, 0.00218, 0.00243, \\\n",
    "               0.00272, 0.00303, 0.00339, 0.00378, 0.00422, 0.00471, \\\n",
    "               0.00526, 0.00587, 0.00655, 0.00732, 0.00817, 0.00912, \\\n",
    "               0.01018, 0.01137, 0.01269, 0.01416, 0.01581, 0.01765, 0.01971, 0.022, 0.0244, 0.02705, 0.03]"
   ]
  },
  {
   "cell_type": "code",
   "execution_count": 3,
   "id": "450f913a",
   "metadata": {},
   "outputs": [],
   "source": [
    "\n",
    "\n",
    "\n",
    "\n",
    "\n",
    "\n",
    "\n",
    "def calculateEfficiencies(DCOtype='BBH', pathCOMPASOutput='/Volumes/Andromeda/DATA/AllDCO_bugfix/',BPS_model='A'):\n",
    "    \"\"\" \n",
    "\n",
    "    DCOtype='BBH': type of compact object mergers, options: ['BHBH', 'BHNS' or 'NSNS'], \n",
    "    pathCOMPASOutput='/Volumes/Andromeda/DATA/AllDCO_bugfix/': path to directory with data \n",
    "    BPS_model='A' : alphabetical letter label of the data \n",
    "    \n",
    "    calculates the formation efficiency of the requested DCOtype \n",
    "    \n",
    "    returns an array of formation efficiency, each element in the array is the efficiency for a grid point in the metallicities. \n",
    "\n",
    "    \"\"\"\n",
    "\n",
    "#     BPSnameslist = list(string.ascii_uppercase)[0:nBPSmodels]   \n",
    "    DCOname=dictDCOtypeDCOlabel[DCOtype]\n",
    "\n",
    "\n",
    "\n",
    "    print('now at DCO type  ', DCOtype)\n",
    "    # for ind_m, bps_model in enumerate(BPSnameslist):  \t\n",
    "    for ind_m, bps_model in enumerate(['A']):   \n",
    "        print()\n",
    "#         print('now at bps label,' bps_model)\n",
    "        print('now at model ', alphabetDirDict[bps_model])\n",
    "\n",
    "        # set always optimistic CE false, unless we are doing the optimistic variation\n",
    "        OPTIMISTIC=False\n",
    "        if (bps_model=='F') or (bps_model=='K'):\n",
    "            OPTIMISTIC=True\n",
    "            print('doing optimistic version of %s'%alphabetDirDict[bps_model])\n",
    "\n",
    "        # path to datafile \n",
    "        # path = pathCOMPASOutput+alphabetDirDict[bps_model] + '/' + 'COMPASCompactOutput_'+DCOtype +'_'+bps_model+'.h5'\n",
    "        path = pathCOMPASOutput+alphabetDirDict[bps_model] + '/' + 'COMPASOutput.h5'\n",
    "\n",
    "        #But I want only within Hubble time \n",
    "        Data            = CC.COMPASData(path=path, lazyData=True, Mlower=5., \\\n",
    "                         Mupper=150, binaryFraction=1)\n",
    "        Data.setCOMPASDCOmask(types=DCOtype,  withinHubbleTime=True, optimistic=OPTIMISTIC)\n",
    "        Data.setCOMPASData()\n",
    "\n",
    "        metallicities = Data.metallicitySystems\n",
    "        seeds    = Data.seeds[Data.Hubble==True]\n",
    "        weights = Data.weight\n",
    "\n",
    "        # calculates the equivalent mass of the \"Galaxy box\" that is formed in stars, that represents our \"COMPAS\" box simulation (per Metallicity)\n",
    "        Data_totalMassEvolvedPerZ = Data.totalMassEvolvedPerZ\n",
    "        Data_metallicityGrid = Data.metallicityGrid\n",
    "        del Data \n",
    "\n",
    "\n",
    "\n",
    "        listt=[0.0001, 0.00011, 0.00012, 0.00014, 0.00016, 0.00017,\\\n",
    "               0.00019, 0.00022, 0.00024, 0.00027, 0.0003, 0.00034, \\\n",
    "               0.00037, 0.00042, 0.00047, 0.00052, 0.00058, 0.00065,\\\n",
    "               0.00073, 0.00081, 0.0009, 0.00101, 0.00113, 0.00126,\\\n",
    "               0.0014, 0.00157, 0.00175, 0.00195, 0.00218, 0.00243, \\\n",
    "               0.00272, 0.00303, 0.00339, 0.00378, 0.00422, 0.00471, \\\n",
    "               0.00526, 0.00587, 0.00655, 0.00732, 0.00817, 0.00912, \\\n",
    "               0.01018, 0.01137, 0.01269, 0.01416, 0.01581, 0.01765, 0.01971, 0.022, 0.0244, 0.02705, 0.03]\n",
    "\n",
    "\n",
    "        formationRateTotal           = np.zeros(len(listt))  \n",
    "\n",
    "\n",
    "        # print('#Z =',len(Data.metallicityGrid))\n",
    "        for nrZ, Z in enumerate(listt):\n",
    "            # this if and else statement is a little hack. Data.metallicityGrid might not contains some metallicities since\n",
    "            # it is based on the systems in the hdf5 file, but since the big Data files only contain the DCOs, it can be that a certain metallciity point\n",
    "            # has 0 DCOs and thats what the data.metallicityGrid is based on         \t\n",
    "            if Z in Data_metallicityGrid:\n",
    "                maskZ = (metallicities == Z)\n",
    "                formationRateTotal[nrZ] = np.sum(weights[maskZ]) # //floor weights because not every binary in COMPAS is equally represented in the galaxy \n",
    "                # print('total 1 =',formationRateTotal[nrZ])\n",
    "\n",
    "\n",
    "        # mask the Z that are in the grid\t        \n",
    "        maskZgridinZlist = np.in1d(listt, Data_metallicityGrid)\n",
    "\n",
    "        formationRateTotal[maskZgridinZlist] = np.divide(formationRateTotal[maskZgridinZlist], Data_totalMassEvolvedPerZ) + 0 #lowerY        \n",
    "\n",
    "\n",
    "\n",
    "\n",
    "    return formationRateTotal\n",
    "\n",
    "\n",
    "\n"
   ]
  },
  {
   "cell_type": "code",
   "execution_count": 4,
   "id": "fb780872",
   "metadata": {},
   "outputs": [
    {
     "name": "stdout",
     "output_type": "stream",
     "text": [
      "now at DCO type   BHNS\n",
      "\n",
      "now at model  fiducial\n",
      "weighted samples :-D\n",
      "Remember to  self.setCOMPASDCOmask() and self.setCOMPASData()\n"
     ]
    }
   ],
   "source": [
    "formationRateTotal_bps_model_A = calculateEfficiencies(DCOtype='BHNS', pathCOMPASOutput='/Volumes/Andromeda/DATA/AllDCO_bugfix/',BPS_model='A') \n",
    "\n"
   ]
  },
  {
   "cell_type": "code",
   "execution_count": 5,
   "id": "b1b8d109",
   "metadata": {},
   "outputs": [
    {
     "name": "stdout",
     "output_type": "stream",
     "text": [
      "The formation efficiencies in units of solar masses formed is:\n",
      "[1.58560182e-06 2.02601743e-06 2.15477123e-06 2.16511354e-06\n",
      " 2.19468563e-06 2.24674886e-06 2.16498965e-06 2.39332787e-06\n",
      " 2.28243537e-06 2.72055955e-06 2.93979334e-06 3.31560631e-06\n",
      " 3.46749672e-06 4.05415032e-06 4.46359232e-06 4.77668565e-06\n",
      " 4.98050850e-06 5.12896260e-06 5.21805749e-06 5.47563555e-06\n",
      " 5.01577607e-06 5.47159403e-06 6.86509794e-06 8.34919475e-06\n",
      " 9.16911839e-06 9.96446701e-06 1.03680382e-05 1.10439890e-05\n",
      " 1.15122292e-05 1.18382793e-05 1.20692436e-05 1.20478815e-05\n",
      " 1.13977322e-05 1.07781090e-05 1.02268566e-05 9.73814687e-06\n",
      " 9.64172572e-06 9.41452071e-06 9.00329420e-06 9.01697914e-06\n",
      " 8.71761082e-06 7.76716714e-06 6.67396581e-06 4.90476977e-06\n",
      " 3.89202814e-06 2.79480403e-06 1.92073035e-06 1.22670624e-06\n",
      " 8.75799528e-07 4.73163072e-08 1.80446617e-08 3.93986879e-10\n",
      " 1.09016786e-08] [Msun^-1]\n",
      "\n",
      "True\n",
      "this array is the length of the metallicity grid\n",
      "\n",
      "the corresponding metallicities are:\n",
      "[0.0001, 0.00011, 0.00012, 0.00014, 0.00016, 0.00017, 0.00019, 0.00022, 0.00024, 0.00027, 0.0003, 0.00034, 0.00037, 0.00042, 0.00047, 0.00052, 0.00058, 0.00065, 0.00073, 0.00081, 0.0009, 0.00101, 0.00113, 0.00126, 0.0014, 0.00157, 0.00175, 0.00195, 0.00218, 0.00243, 0.00272, 0.00303, 0.00339, 0.00378, 0.00422, 0.00471, 0.00526, 0.00587, 0.00655, 0.00732, 0.00817, 0.00912, 0.01018, 0.01137, 0.01269, 0.01416, 0.01581, 0.01765, 0.01971, 0.022, 0.0244, 0.02705, 0.03]\n"
     ]
    }
   ],
   "source": [
    "print('The formation efficiencies in units of solar masses formed is:')\n",
    "print(formationRateTotal_bps_model_A, '[Msun^-1]' ) \n",
    "print()\n",
    "print(len(formationRateTotal_bps_model_A)==len(metallicityGrid)) \n",
    "print('this array is the length of the metallicity grid')\n",
    "print()\n",
    "print('the corresponding metallicities are:')\n",
    "print(metallicityGrid)\n"
   ]
  },
  {
   "cell_type": "code",
   "execution_count": null,
   "id": "6e8e4801",
   "metadata": {},
   "outputs": [],
   "source": []
  },
  {
   "cell_type": "code",
   "execution_count": null,
   "id": "c23736a1",
   "metadata": {},
   "outputs": [],
   "source": []
  }
 ],
 "metadata": {
  "kernelspec": {
   "display_name": "Python 3",
   "language": "python",
   "name": "python3"
  },
  "language_info": {
   "codemirror_mode": {
    "name": "ipython",
    "version": 3
   },
   "file_extension": ".py",
   "mimetype": "text/x-python",
   "name": "python",
   "nbconvert_exporter": "python",
   "pygments_lexer": "ipython3",
   "version": "3.7.4"
  }
 },
 "nbformat": 4,
 "nbformat_minor": 5
}
