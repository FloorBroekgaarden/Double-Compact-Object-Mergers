{
 "cells": [
  {
   "cell_type": "code",
   "execution_count": 1,
   "metadata": {},
   "outputs": [
    {
     "data": {
      "text/html": [
       "<style>.container { width:100% !important; }</style>"
      ],
      "text/plain": [
       "<IPython.core.display.HTML object>"
      ]
     },
     "metadata": {},
     "output_type": "display_data"
    }
   ],
   "source": [
    "# import sys\n",
    "# sys.path.append('../Scripts')\n",
    "# from PostProcessingScripts import * \n",
    "# import pandas as pd \n",
    "# import string \n",
    "# just to make the cells appear wider:\n",
    "from IPython.core.display import display, HTML\n",
    "display(HTML(\"<style>.container { width:100% !important; }</style>\"))\n",
    "\n",
    "\n"
   ]
  },
  {
   "cell_type": "code",
   "execution_count": 4,
   "metadata": {},
   "outputs": [
    {
     "name": "stdout",
     "output_type": "stream",
     "text": [
      "1900000000\n",
      "2000000000\n"
     ]
    }
   ],
   "source": [
    "cc=0\n",
    "for metallicity in [0.0001, 0.00011, 0.00012, \\\n",
    "                       0.00014, 0.00016, 0.00017, 0.00019, 0.00022, \\\n",
    "                       0.00024, 0.00027, 0.0003, 0.00034, 0.00037, 0.00042, \\\n",
    "                       0.00047, 0.00052, 0.00058, 0.00065, 0.00073, 0.00081, \\\n",
    "                       0.0009, 0.00101, 0.00113, 0.00126, 0.0014, 0.00157, \\\n",
    "                       0.00175, 0.00195, 0.00218, 0.00243, 0.00272, 0.00303, 0.00339, 0.00378,\\\n",
    "                       0.00422, 0.00471, 0.00526, 0.00587, 0.00655, 0.00732, 0.00817, 0.00912, 0.01018, \\\n",
    "                       0.01137, 0.01269, 0.01416, 0.01581, 0.01765, 0.01971, 0.022]:\n",
    "    \n",
    "    if metallicity==0.00081:\n",
    "        print(cc)\n",
    "        \n",
    "    \n",
    "    cc = ((cc+100000000))\n",
    "    if metallicity==0.00081:\n",
    "        print(cc)    \n",
    "\n",
    "\n",
    "\n",
    "\n",
    "\n",
    "\n",
    "\n",
    "\n",
    "\n"
   ]
  },
  {
   "cell_type": "code",
   "execution_count": null,
   "metadata": {},
   "outputs": [],
   "source": []
  }
 ],
 "metadata": {
  "kernelspec": {
   "display_name": "Python 3",
   "language": "python",
   "name": "python3"
  },
  "language_info": {
   "codemirror_mode": {
    "name": "ipython",
    "version": 3
   },
   "file_extension": ".py",
   "mimetype": "text/x-python",
   "name": "python",
   "nbconvert_exporter": "python",
   "pygments_lexer": "ipython3",
   "version": "3.7.4"
  }
 },
 "nbformat": 4,
 "nbformat_minor": 2
}
