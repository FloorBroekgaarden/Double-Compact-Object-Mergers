{
 "cells": [
  {
   "cell_type": "code",
   "execution_count": 1,
   "metadata": {},
   "outputs": [
    {
     "data": {
      "text/html": [
       "<style>.container { width:100% !important; }</style>"
      ],
      "text/plain": [
       "<IPython.core.display.HTML object>"
      ]
     },
     "metadata": {},
     "output_type": "display_data"
    }
   ],
   "source": [
    "import sys\n",
    "sys.path.append('../../Scripts')\n",
    "from PostProcessingScripts import * \n",
    "import pandas as pd \n",
    "import string \n",
    "# just to make the cells appear wider:\n",
    "from IPython.core.display import display, HTML\n",
    "display(HTML(\"<style>.container { width:100% !important; }</style>\"))\n",
    "\n",
    "\n",
    "import h5py as h5\n",
    "import numpy as np\n",
    "import os\n",
    "import matplotlib.pyplot as plt\n",
    "import pandas as pd\n",
    "import string\n",
    "\n",
    "\n",
    "import ClassFormationChannels as FC "
   ]
  },
  {
   "cell_type": "code",
   "execution_count": null,
   "metadata": {},
   "outputs": [],
   "source": []
  },
  {
   "cell_type": "code",
   "execution_count": 2,
   "metadata": {},
   "outputs": [
    {
     "name": "stdout",
     "output_type": "stream",
     "text": [
      "[u'RLOF', u'commonEnvelopes', u'doubleCompactObjects', u'formationChannels', u'supernovae', u'systems', u'weights_detected', u'weights_detectedPerRedshift', u'weights_intrinsic', u'weights_intrinsicPerRedshift']\n"
     ]
    }
   ],
   "source": [
    "# to obtain properties of ALL binaries simulated, do this:\n",
    "\n",
    "DCOtype = 'BHNS'   # You can change this line to 'BBH', 'BHNS' 'BNS', or 'ALL' (All DCOs)  # change this line! \n",
    "\n",
    "\n",
    "# add path to where the COMPASOutput.h5 file is stored. \n",
    "# For you the part '/Volumes/Andromeda/DATA/AllDCO_bugfix/fiducial/' is probably different\n",
    "path = '/Volumes/Andromeda/DATA/AllDCO_bugfix/massTransferEfficiencyFixed_0_25/COMPASCompactOutput_'+ DCOtype +'_B.h5' # change this line! \n",
    "fdata_B = h5.File(path)\n",
    "# shows the different files within the hdf5 folder \n",
    "print(fdata_B.keys())\n",
    "\n",
    "\n",
    "\n",
    "# add path to where the COMPASOutput.h5 file is stored. \n",
    "# For you the part '/Volumes/Andromeda/DATA/AllDCO_bugfix/fiducial/' is probably different\n",
    "path = '/Volumes/Andromeda/DATA/AllDCO_bugfix/massTransferEfficiencyFixed_0_5/COMPASCompactOutput_'+ DCOtype +'_C.h5' # change this line! \n",
    "fdata_C = h5.File(path)\n",
    "\n",
    "# add path to where the COMPASOutput.h5 file is stored. \n",
    "# For you the part '/Volumes/Andromeda/DATA/AllDCO_bugfix/fiducial/' is probably different\n",
    "path = '/Volumes/Andromeda/DATA/AllDCO_bugfix/massTransferEfficiencyFixed_0_75/COMPASCompactOutput_'+ DCOtype +'_D.h5' # change this line! \n",
    "fdata_D = h5.File(path)\n",
    "\n",
    "\n",
    "\n"
   ]
  },
  {
   "cell_type": "code",
   "execution_count": 3,
   "metadata": {},
   "outputs": [
    {
     "name": "stdout",
     "output_type": "stream",
     "text": [
      "[u'COCoreMassDCOFormation1', u'COCoreMassDCOFormation2', u'ECSNPrimary', u'ECSNSecondary', u'HeCoreMassDCOFormation1', u'HeCoreMassDCOFormation2', u'ID', u'M1', u'M1ZAMS', u'M2', u'M2ZAMS', u'Metallicity1', u'Metallicity2', u'PISNPrimary', u'PISNSecondary', u'PPISNPrimary', u'PPISNSecondary', u'PrimaryMTCase', u'RL1to2PostCEE', u'RL1to2PreCEE', u'RL2to1PostCEE', u'RL2to1PreCEE', u'RLOFSecondaryAfterCEE', u'SecondaryMTCase', u'SemiMajorAxisPostCEE', u'SemiMajorAxisPreCEE', u'USSNPrimary', u'USSNSecondary', u'coreMassDCOFormation1', u'coreMassDCOFormation2', u'doubleCommonEnvelopeFlag', u'drawnKick1', u'drawnKick2', u'eccentricityDCOFormation', u'eccentricityInitial', u'eccentricityPrior2ndSN', u'kickDirectionPower', u'mergesInHubbleTimeFlag', u'optimisticCEFlag', u'phiSupernova1', u'phiSupernova2', u'recycledPrimary', u'recycledSecondary', u'relativeVelocity2ndSN', u'samplingPhase', u'seed', u'separationDCOFormation', u'separationInitial', u'separationPrior2ndSN', u'sigmaKickBH', u'sigmaKickNS', u'stellarType1', u'stellarType2', u'tc', u'tform', u'thetaSupernova1', u'thetaSupernova2', u'totalMassDCOFormation1', u'totalMassDCOFormation2', u'weight']\n",
      "()\n",
      "[u'CEE', u'CEE_failed', u'CEE_failed_instigator', u'CEE_instigator', u'CEE_wet', u'CEE_wet_instigator', u'SN_primary_type_1', u'SN_primary_type_2', u'SN_primary_type_3', u'SN_secondary_type_1', u'SN_secondary_type_2', u'SN_secondary_type_3', u'binary_disbound', u'eventCounter', u'm_randomSeed', u'merged_in_Hubble_time', u'mt_primary_ep1', u'mt_primary_ep1_K1', u'mt_primary_ep1_K2', u'mt_primary_ep2', u'mt_primary_ep2_K1', u'mt_primary_ep2_K2', u'mt_primary_ep3', u'mt_primary_ep3_K1', u'mt_primary_ep3_K2', u'mt_secondary_ep1', u'mt_secondary_ep1_K1', u'mt_secondary_ep1_K2', u'mt_secondary_ep2', u'mt_secondary_ep2_K1', u'mt_secondary_ep2_K2', u'mt_secondary_ep3', u'mt_secondary_ep3_K1', u'mt_secondary_ep3_K2', u'stellar_type_K1', u'stellar_type_K2']\n"
     ]
    }
   ],
   "source": [
    "print(fdata_B['doubleCompactObjects'].keys())\n",
    "print()\n",
    "print(fdata_B['formationChannels'].keys())"
   ]
  },
  {
   "cell_type": "code",
   "execution_count": 4,
   "metadata": {},
   "outputs": [
    {
     "name": "stdout",
     "output_type": "stream",
     "text": [
      "[   5005630    5027727   45007041 ... 5170000141 5185001269 5185002492]\n"
     ]
    }
   ],
   "source": [
    "BHNS_seeds_B = fdata_B['doubleCompactObjects']['seed'][...].squeeze()\n",
    "\n",
    "print(BHNS_seeds_B)\n",
    "system_seeds_B = fdata_B['systems']['SEED'][...].squeeze()\n",
    "FC_seed_B = fdata_B['formationChannels']['m_randomSeed'][...].squeeze()\n",
    "\n",
    "mask = np.in1d(FC_seed_B, BHNS_seeds_B)\n"
   ]
  },
  {
   "cell_type": "code",
   "execution_count": null,
   "metadata": {},
   "outputs": [],
   "source": []
  },
  {
   "cell_type": "code",
   "execution_count": 21,
   "metadata": {},
   "outputs": [
    {
     "name": "stdout",
     "output_type": "stream",
     "text": [
      "[14.7185]\n",
      "[0.0001]\n"
     ]
    }
   ],
   "source": [
    "Seed = 40001314\n",
    "\n",
    "mask = fdata_B['doubleCompactObjects']['seed'][...].squeeze() == 40001314\n",
    "M1 = BHNS_seeds_B = fdata_B['doubleCompactObjects']['M1'][...].squeeze()[mask]\n",
    "Metallicity1 = BHNS_seeds_B = fdata_B['doubleCompactObjects']['Metallicity1'][...].squeeze()[mask]\n",
    "print(M1)\n",
    "print(Metallicity1)"
   ]
  },
  {
   "cell_type": "code",
   "execution_count": null,
   "metadata": {},
   "outputs": [],
   "source": []
  },
  {
   "cell_type": "code",
   "execution_count": 5,
   "metadata": {},
   "outputs": [
    {
     "name": "stdout",
     "output_type": "stream",
     "text": [
      "<HDF5 group \"/formationChannels\" (36 members)>\n",
      "self.booleanFilter \n",
      " Looking up the seeds/systems and creating mask for formation Channels. \n",
      "Doing the formation channels for 738537 systems\n",
      "self.header \n",
      " Sorted which columns from formation channels we use\n",
      "Counting/sorting the unique Channels\n",
      "self.sortedChannels self.sortedCounts \n",
      " Combining the counts and channels in arrays\n",
      "(15581.352363435699, 'sum sorted counts')\n",
      "Done\n",
      "self.rankArray \n",
      " Creating column with rank of each system, patience required :)\n",
      "Done :D \n",
      "self.sortedSeeds \n",
      " Creating array per channel with all seeds of that channel\n",
      "self.sortedStrings \n",
      " Constructing human readable string for each of the unique Channels (Magic) \n",
      " :D :D \n",
      " finished in total we have 108 channels for 15581.352363435699 systems\n"
     ]
    }
   ],
   "source": [
    "print(fdata_B['formationChannels'])\n",
    "\n",
    "\n",
    "path = '/Volumes/Andromeda/DATA/AllDCO_bugfix/massTransferEfficiencyFixed_0_25/COMPASCompactOutput_'+ DCOtype +'_B.h5' # change this line! \n",
    "fc = FC.FormationChannels(path = path,verbose=True)\n",
    "fc.formationChannelsSeeds(seeds=FC_seed_B)\n",
    "\n"
   ]
  },
  {
   "cell_type": "code",
   "execution_count": 19,
   "metadata": {},
   "outputs": [
    {
     "name": "stdout",
     "output_type": "stream",
     "text": [
      " ->mt_primary_ep1 P=HG  S=MS  ->ccSN primary  ->mt_secondary_ep1 P=BH  S=CHeB  ->CEE ->mt_secondary_ep2 P=BH  S=HeHG  ->ccSN secondary  -> last type Primary in Form=BH  -> last type Secondary in Form=HeHG  -> merged within Hubble=True -> binary disrupted=False\n",
      "[  40001314   40001957   55008870 ... 4885014917 4885015425 4885015839]\n",
      "()\n",
      "--- in D ---\n",
      "self.booleanFilter \n",
      " Looking up the seeds/systems and creating mask for formation Channels. \n",
      "Doing the formation channels for 4387 systems\n",
      "self.header \n",
      " Sorted which columns from formation channels we use\n",
      "Counting/sorting the unique Channels\n",
      "self.sortedChannels self.sortedCounts \n",
      " Combining the counts and channels in arrays\n",
      "(188.88257826583916, 'sum sorted counts')\n",
      "Done\n",
      "self.rankArray \n",
      " Creating column with rank of each system, patience required :)\n",
      "Done :D \n",
      "self.sortedSeeds \n",
      " Creating array per channel with all seeds of that channel\n",
      "self.sortedStrings \n",
      " Constructing human readable string for each of the unique Channels (Magic) \n",
      " :D :D \n",
      " finished in total we have 36 channels for 188.88257826583916 systems\n",
      " ->mt_primary_ep1 P=CHeB  S=MS  ->CEE ->ccSN primary  ->mt_secondary_ep1 P=BH  S=HG  ->mt_secondary_ep2 P=BH  S=HeHG  ->ccSN secondary  -> last type Primary in Form=BH  -> last type Secondary in Form=HeHG  -> merged within Hubble=True -> binary disrupted=False\n",
      "702\n",
      "()\n",
      " ->mt_primary_ep1 P=CHeB  S=MS  ->ccSN primary  ->mt_secondary_ep1 P=BH  S=CHeB  ->CEE ->mt_secondary_ep2 P=BH  S=HeHG  ->ccSN secondary  -> last type Primary in Form=BH  -> last type Secondary in Form=HeHG  -> merged within Hubble=True -> binary disrupted=False\n",
      "1005\n",
      "()\n",
      " ->mt_primary_ep1 P=EAGB  S=MS  ->ccSN primary  ->mt_secondary_ep1 P=BH  S=CHeB  ->CEE ->mt_secondary_ep2 P=BH  S=HeHG  ->ccSN secondary  -> last type Primary in Form=BH  -> last type Secondary in Form=HeHG  -> merged within Hubble=True -> binary disrupted=False\n",
      "547\n",
      "()\n",
      " ->mt_primary_ep1 P=HG  S=MS  ->ccSN primary  ->mt_secondary_ep1 P=BH  S=HG  ->mt_secondary_ep2 P=BH  S=HeHG  ->ccSN secondary  -> last type Primary in Form=BH  -> last type Secondary in Form=HeHG  -> merged within Hubble=True -> binary disrupted=False\n",
      "[  45007041   45011477   25012882 ... 5170000141 5185001269 5185002492]\n",
      "()\n",
      "--- in D ---\n",
      "self.booleanFilter \n",
      " Looking up the seeds/systems and creating mask for formation Channels. \n",
      "Doing the formation channels for 93 systems\n",
      "self.header \n",
      " Sorted which columns from formation channels we use\n",
      "Counting/sorting the unique Channels\n",
      "self.sortedChannels self.sortedCounts \n",
      " Combining the counts and channels in arrays\n",
      "(4.285713492379419, 'sum sorted counts')\n",
      "Done\n",
      "self.rankArray \n",
      " Creating column with rank of each system, patience required :)\n",
      "Done :D \n",
      "self.sortedSeeds \n",
      " Creating array per channel with all seeds of that channel\n",
      "self.sortedStrings \n",
      " Constructing human readable string for each of the unique Channels (Magic) \n",
      " :D :D \n",
      " finished in total we have 18 channels for 4.285713492379419 systems\n",
      " ->mt_primary_ep1 P=CHeB  S=MS  ->CEE ->ccSN primary  ->mt_secondary_ep1 P=BH  S=HG  ->mt_secondary_ep2 P=BH  S=HeHG  ->ccSN secondary  -> last type Primary in Form=BH  -> last type Secondary in Form=HeHG  -> merged within Hubble=True -> binary disrupted=False\n",
      "9\n",
      "()\n",
      " ->ccSN primary  ->mt_secondary_ep1 P=BH  S=CHeB  ->CEE ->ccSN secondary  -> last type Primary in Form=BH  -> last type Secondary in Form=CHeB  -> merged within Hubble=True -> binary disrupted=False\n",
      "8\n",
      "()\n",
      " ->mt_primary_ep1 P=CHeB  S=MS  ->ccSN primary  ->mt_secondary_ep1 P=BH  S=CHeB  ->CEE ->mt_secondary_ep2 P=BH  S=HeHG  ->ccSN secondary  -> last type Primary in Form=BH  -> last type Secondary in Form=HeHG  -> merged within Hubble=True -> binary disrupted=False\n",
      "17\n",
      "()\n",
      " ->mt_primary_ep1 P=HG  S=MS  ->ccSN primary  ->mt_secondary_ep1 P=BH  S=CHeB  ->CEE ->ccSN secondary  -> last type Primary in Form=BH  -> last type Secondary in Form=CHeB  -> merged within Hubble=True -> binary disrupted=False\n",
      "[1155008291 1155061307 1155064521 ... 4760004283 4770011881 4770013710]\n",
      "()\n",
      "--- in D ---\n",
      "self.booleanFilter \n",
      " Looking up the seeds/systems and creating mask for formation Channels. \n",
      "Doing the formation channels for 1039 systems\n",
      "self.header \n",
      " Sorted which columns from formation channels we use\n",
      "Counting/sorting the unique Channels\n",
      "self.sortedChannels self.sortedCounts \n",
      " Combining the counts and channels in arrays\n",
      "(46.053172661012226, 'sum sorted counts')\n",
      "Done\n",
      "self.rankArray \n",
      " Creating column with rank of each system, patience required :)\n",
      "Done :D \n",
      "self.sortedSeeds \n",
      " Creating array per channel with all seeds of that channel\n",
      "self.sortedStrings \n",
      " Constructing human readable string for each of the unique Channels (Magic) \n",
      " :D :D \n",
      " finished in total we have 28 channels for 46.053172661012226 systems\n",
      " ->mt_primary_ep1 P=EAGB  S=MS  ->ccSN primary  ->mt_secondary_ep1 P=BH  S=CHeB  ->CEE ->mt_secondary_ep2 P=BH  S=HeHG  ->ccSN secondary  -> last type Primary in Form=BH  -> last type Secondary in Form=HeHG  -> merged within Hubble=True -> binary disrupted=False\n",
      "119\n",
      "()\n",
      " ->ccSN primary  ->mt_secondary_ep1 P=BH  S=CHeB  ->CEE ->mt_secondary_ep2 P=BH  S=HeHG  ->ccSN secondary  -> last type Primary in Form=BH  -> last type Secondary in Form=HeHG  -> merged within Hubble=True -> binary disrupted=False\n",
      "59\n",
      "()\n",
      " ->mt_primary_ep1 P=CHeB  S=MS  ->ccSN primary  ->mt_secondary_ep1 P=BH  S=CHeB  ->CEE ->mt_secondary_ep2 P=BH  S=HeHG  ->ccSN secondary  -> last type Primary in Form=BH  -> last type Secondary in Form=HeHG  -> merged within Hubble=True -> binary disrupted=False\n",
      "195\n",
      "()\n"
     ]
    }
   ],
   "source": [
    "for ii in range(3):\n",
    "    \n",
    "    print(fc.sortedStrings)[ii]\n",
    "    print(fc.sortedSeeds[ii][0])\n",
    "#     print(len(fc.sortedSeeds[ii]))\n",
    "    print()\n",
    "    \n",
    "    print('--- in D ---')\n",
    "    seeds=fc.sortedSeeds[ii]\n",
    "    path = '/Volumes/Andromeda/DATA/AllDCO_bugfix/massTransferEfficiencyFixed_0_75/COMPASCompactOutput_'+ DCOtype +'_D.h5' # change this line! \n",
    "    fc_D = FC.FormationChannels(path = path,verbose=True)\n",
    "    fc_D.formationChannelsSeeds(seeds=seeds)\n",
    "    for ii in range(3):\n",
    "        print(fc_D.sortedStrings)[ii]\n",
    "#         print(fc_D.sortedSeeds[ii])\n",
    "        print(len(fc_D.sortedSeeds[ii]))\n",
    "        print()    "
   ]
  },
  {
   "cell_type": "code",
   "execution_count": 14,
   "metadata": {},
   "outputs": [
    {
     "name": "stdout",
     "output_type": "stream",
     "text": [
      "self.booleanFilter \n",
      " Looking up the seeds/systems and creating mask for formation Channels. \n",
      "Doing the formation channels for 9130 systems\n",
      "self.header \n",
      " Sorted which columns from formation channels we use\n",
      "Counting/sorting the unique Channels\n",
      "self.sortedChannels self.sortedCounts \n",
      " Combining the counts and channels in arrays\n",
      "(450.76416767514155, 'sum sorted counts')\n",
      "Done\n",
      "self.rankArray \n",
      " Creating column with rank of each system, patience required :)\n",
      "Done :D \n",
      "self.sortedSeeds \n",
      " Creating array per channel with all seeds of that channel\n",
      "self.sortedStrings \n",
      " Constructing human readable string for each of the unique Channels (Magic) \n",
      " :D :D \n",
      " finished in total we have 43 channels for 450.76416767514155 systems\n"
     ]
    }
   ],
   "source": [
    "\n",
    "\n",
    "\n",
    "\n",
    "path = '/Volumes/Andromeda/DATA/AllDCO_bugfix/massTransferEfficiencyFixed_0_75/COMPASCompactOutput_'+ DCOtype +'_D.h5' # change this line! \n",
    "fc_D = FC.FormationChannels(path = path,verbose=True)\n",
    "fc_D.formationChannelsSeeds(seeds=FC_seed_B)\n",
    "\n",
    "\n"
   ]
  },
  {
   "cell_type": "code",
   "execution_count": 17,
   "metadata": {},
   "outputs": [
    {
     "name": "stdout",
     "output_type": "stream",
     "text": [
      " ->mt_primary_ep1 P=EAGB  S=MS  ->ccSN primary  ->mt_secondary_ep1 P=BH  S=CHeB  ->CEE ->mt_secondary_ep2 P=BH  S=HeHG  ->ccSN secondary  -> last type Primary in Form=BH  -> last type Secondary in Form=HeHG  -> merged within Hubble=True -> binary disrupted=False\n",
      "[1020021498 1245027058 1215016829 ... 3790000398 3790002136 3770004898]\n",
      "1165\n",
      "()\n",
      " ->mt_primary_ep1 P=CHeB  S=MS  ->CEE ->ccSN primary  ->mt_secondary_ep1 P=BH  S=HG  ->mt_secondary_ep2 P=BH  S=HeHG  ->ccSN secondary  -> last type Primary in Form=BH  -> last type Secondary in Form=HeHG  -> merged within Hubble=True -> binary disrupted=False\n",
      "[1435021292 1465032736 1530019334 ... 4205067527 4245052518 4275005875]\n",
      "1284\n",
      "()\n",
      " ->mt_primary_ep1 P=CHeB  S=MS  ->ccSN primary  ->mt_secondary_ep1 P=BH  S=CHeB  ->CEE ->mt_secondary_ep2 P=BH  S=HeHG  ->ccSN secondary  -> last type Primary in Form=BH  -> last type Secondary in Form=HeHG  -> merged within Hubble=True -> binary disrupted=False\n",
      "[ 420005585  840023550  900003994 ... 4290012676 4250003125 4275019461]\n",
      "1861\n",
      "()\n"
     ]
    }
   ],
   "source": [
    "for ii in range(3):\n",
    "    \n",
    "    print(fc_D.sortedStrings)[ii]\n",
    "    print(fc_D.sortedSeeds[ii])\n",
    "    print(len(fc_D.sortedSeeds[ii]))\n",
    "    print()"
   ]
  },
  {
   "cell_type": "code",
   "execution_count": null,
   "metadata": {},
   "outputs": [],
   "source": [
    "\n"
   ]
  },
  {
   "cell_type": "code",
   "execution_count": 41,
   "metadata": {},
   "outputs": [
    {
     "name": "stdout",
     "output_type": "stream",
     "text": [
      "[u'ID', u'Metallicity1', u'Metallicity2', u'SEED', u'disbound', u'eccentricity', u'mass1', u'mass2', u'meanAnomaly1', u'meanAnomaly2', u'omega1', u'omega2', u'phi1', u'phi2', u'samplingPhase', u'separation', u'stellar_merger', u'theta1', u'theta2', u'weight']\n",
      "[u'COCoreMassDCOFormation1', u'COCoreMassDCOFormation2', u'ECSNPrimary', u'ECSNSecondary', u'HeCoreMassDCOFormation1', u'HeCoreMassDCOFormation2', u'ID', u'M1', u'M1ZAMS', u'M2', u'M2ZAMS', u'Metallicity1', u'Metallicity2', u'PISNPrimary', u'PISNSecondary', u'PPISNPrimary', u'PPISNSecondary', u'PrimaryMTCase', u'RL1to2PostCEE', u'RL1to2PreCEE', u'RL2to1PostCEE', u'RL2to1PreCEE', u'RLOFSecondaryAfterCEE', u'SecondaryMTCase', u'SemiMajorAxisPostCEE', u'SemiMajorAxisPreCEE', u'USSNPrimary', u'USSNSecondary', u'coreMassDCOFormation1', u'coreMassDCOFormation2', u'doubleCommonEnvelopeFlag', u'drawnKick1', u'drawnKick2', u'eccentricityDCOFormation', u'eccentricityInitial', u'eccentricityPrior2ndSN', u'kickDirectionPower', u'mergesInHubbleTimeFlag', u'optimisticCEFlag', u'phiSupernova1', u'phiSupernova2', u'recycledPrimary', u'recycledSecondary', u'relativeVelocity2ndSN', u'samplingPhase', u'seed', u'separationDCOFormation', u'separationInitial', u'separationPrior2ndSN', u'sigmaKickBH', u'sigmaKickNS', u'stellarType1', u'stellarType2', u'tc', u'tform', u'thetaSupernova1', u'thetaSupernova2', u'totalMassDCOFormation1', u'totalMassDCOFormation2', u'weight']\n",
      "()\n",
      "------\n",
      "B\n",
      "[ 5005630  5027727 45007041 45010049 45011477]\n",
      "('disbound', 0.0, array([False, False, False, False, False]))\n",
      "('stellar_merger', 0.0, array([False, False, False, False, False]))\n",
      "('seed', 0, array([ 5005630,  5027727, 45007041, 45010049, 45011477]))\n",
      "('M1', 0, array([ 3.74552,  1.27758,  3.2385 , 12.7789 ,  5.29721]))\n",
      "('M2', 0, array([ 1.27758, 19.5813 ,  1.27758,  2.22121,  1.82681]))\n",
      "()\n",
      "------\n",
      "C\n",
      "[ 5005630  5027727 45007041 45010049 45011477]\n",
      "('disbound', 0.0, array([False]))\n",
      "('stellar_merger', 0.0, array([False]))\n",
      "('seed', 0, array([5005630]))\n",
      "('M1', 0, array([3.74552]))\n",
      "('M2', 0, array([1.27758]))\n",
      "BBH:\n",
      "('M2', 0, array([], dtype=float64))\n",
      "()\n",
      "------\n",
      "D\n",
      "[ 5005630  5027727 45007041 45010049 45011477]\n",
      "('disbound', 0.0, array([False]))\n",
      "('stellar_merger', 0.0, array([False]))\n",
      "('seed', 0, array([5005630]))\n",
      "('M1', 0, array([3.74552]))\n",
      "('M2', 0, array([1.27758]))\n",
      "BBH:\n",
      "('M2', 0, array([], dtype=float64))\n"
     ]
    },
    {
     "name": "stderr",
     "output_type": "stream",
     "text": [
      "/Users/floorbroekgaarden/anaconda2/lib/python2.7/site-packages/ipykernel_launcher.py:63: RuntimeWarning: divide by zero encountered in long_scalars\n"
     ]
    }
   ],
   "source": [
    "# to obtain properties of ALL binaries simulated, do this:\n",
    "\n",
    "DCOtype = 'BHNS'   # You can change this line to 'BBH', 'BHNS' 'BNS', or 'ALL' (All DCOs)  # change this line! \n",
    "\n",
    "\n",
    "# add path to where the COMPASOutput.h5 file is stored. \n",
    "# For you the part '/Volumes/Andromeda/DATA/AllDCO_bugfix/fiducial/' is probably different\n",
    "path = '/Volumes/Andromeda/DATA/AllDCO_bugfix/massTransferEfficiencyFixed_0_25/COMPASCompactOutput_'+ DCOtype +'_B.h5' # change this line! \n",
    "fdata_B = h5.File(path)\n",
    "# shows the different files within the hdf5 folder \n",
    "print(fdata_B['systems'].keys())\n",
    "\n",
    "print(fdata_B['doubleCompactObjects'].keys())\n",
    "\n",
    "\n",
    "\n",
    "\n",
    "\n",
    "\n",
    "def print_sum_and_flag(keys=['systems'], DCOkeys=['M1', 'M2'], which='B'):\n",
    "    # we are going to check with successfull mergers in B: \n",
    "    BHNS_seeds_B = fdata_B['doubleCompactObjects']['seed'][...].squeeze()\n",
    "    metallicities = fdata_B['doubleCompactObjects']['Metallicity1'][...].squeeze()\n",
    "    print()\n",
    "    print('------')\n",
    "    print(which)\n",
    "    if which=='C':\n",
    "        path = '/Volumes/Andromeda/DATA/AllDCO_bugfix/massTransferEfficiencyFixed_0_5/COMPASCompactOutput_'+ DCOtype +'_C.h5' # change this line! \n",
    "        pathBBH = '/Volumes/Andromeda/DATA/AllDCO_bugfix/massTransferEfficiencyFixed_0_5/COMPASCompactOutput_'+ 'BBH' +'_C.h5' # change this line! \n",
    "\n",
    "    elif which=='D':\n",
    "        path = '/Volumes/Andromeda/DATA/AllDCO_bugfix/massTransferEfficiencyFixed_0_75/COMPASCompactOutput_'+ DCOtype +'_D.h5' # change this line!    \n",
    "        pathBBH = '/Volumes/Andromeda/DATA/AllDCO_bugfix/massTransferEfficiencyFixed_0_75/COMPASCompactOutput_'+ 'BBH' +'_D.h5' # change this line!   \n",
    "    elif which=='B':\n",
    "        path = '/Volumes/Andromeda/DATA/AllDCO_bugfix/massTransferEfficiencyFixed_0_25/COMPASCompactOutput_'+ DCOtype +'_B.h5' # change this line!    \n",
    "        \n",
    "    \n",
    "    fewseeds = np.asarray(BHNS_seeds_B[0:5])\n",
    "    print(fewseeds)\n",
    "    fdata = h5.File(path)\n",
    "    mask_BHNS = np.in1d(fdata['systems']['SEED'][...].squeeze(), fewseeds) \n",
    "    \n",
    "    \n",
    "    \n",
    "    for key in keys:\n",
    "        fraction = float(np.sum(fdata['systems'][key][...].squeeze()[mask_BHNS]==1))/np.sum(mask_BHNS)\n",
    "        print(key, fraction, fdata['systems'][key][...].squeeze()[mask_BHNS])\n",
    "        \n",
    "        \n",
    "        \n",
    "    mask_BHNS = np.in1d(fdata['doubleCompactObjects']['seed'][...].squeeze(), fewseeds) \n",
    "    \n",
    "    \n",
    "    \n",
    "    for key in DCOkeys:\n",
    "        fraction = np.sum(fdata['doubleCompactObjects'][key][...].squeeze()[mask_BHNS]==1)/np.sum(mask_BHNS)\n",
    "        print(key, fraction, fdata['doubleCompactObjects'][key][...].squeeze()[mask_BHNS])\n",
    "\n",
    "    if which in ['C', 'D']:\n",
    "        print 'BBH:'\n",
    "        fdataBBH = h5.File(pathBBH)\n",
    "        mask_BBH = np.in1d(fdataBBH['doubleCompactObjects']['seed'][...].squeeze(), fewseeds) \n",
    "        fraction = np.sum(fdataBBH['doubleCompactObjects'][key][...].squeeze()[mask_BBH]==1)/np.sum(mask_BBH)\n",
    "        print(key, fraction, fdataBBH['doubleCompactObjects'][key][...].squeeze()[mask_BBH])\n",
    "\n",
    "\n",
    "print_sum_and_flag(keys=['disbound', 'stellar_merger'], DCOkeys=['seed', 'M1', 'M2'], which='B')\n",
    "print_sum_and_flag(keys=['disbound', 'stellar_merger'], DCOkeys=['seed', 'M1', 'M2'], which='C')\n",
    "print_sum_and_flag(keys=['disbound', 'stellar_merger'], DCOkeys=['seed', 'M1', 'M2'], which='D')\n",
    "\n",
    "\n",
    "\n"
   ]
  },
  {
   "cell_type": "code",
   "execution_count": null,
   "metadata": {},
   "outputs": [],
   "source": []
  },
  {
   "cell_type": "code",
   "execution_count": null,
   "metadata": {},
   "outputs": [],
   "source": []
  },
  {
   "cell_type": "code",
   "execution_count": null,
   "metadata": {},
   "outputs": [],
   "source": []
  },
  {
   "cell_type": "code",
   "execution_count": null,
   "metadata": {},
   "outputs": [],
   "source": []
  }
 ],
 "metadata": {
  "kernelspec": {
   "display_name": "Python 2",
   "language": "python",
   "name": "python2"
  },
  "language_info": {
   "codemirror_mode": {
    "name": "ipython",
    "version": 2
   },
   "file_extension": ".py",
   "mimetype": "text/x-python",
   "name": "python",
   "nbconvert_exporter": "python",
   "pygments_lexer": "ipython2",
   "version": "2.7.16"
  }
 },
 "nbformat": 4,
 "nbformat_minor": 2
}
